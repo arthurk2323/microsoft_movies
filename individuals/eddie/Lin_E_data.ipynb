{
 "cells": [
  {
   "cell_type": "code",
   "execution_count": 2,
   "metadata": {},
   "outputs": [
    {
     "name": "stdout",
     "output_type": "stream",
     "text": [
      "ls: Data: No such file or directory\r\n"
     ]
    }
   ],
   "source": [
    "!ls Data"
   ]
  },
  {
   "cell_type": "code",
   "execution_count": 3,
   "metadata": {},
   "outputs": [
    {
     "name": "stdout",
     "output_type": "stream",
     "text": [
      "/Users/miafryer/Documents/flatiron_ds/phase 1/project1/microsoft_movies\n"
     ]
    }
   ],
   "source": [
    "cd ../.."
   ]
  },
  {
   "cell_type": "code",
   "execution_count": 4,
   "metadata": {},
   "outputs": [],
   "source": [
    "import pandas as pd\n",
    "import numpy as np\n",
    "import matplotlib.pyplot as plt\n",
    "import seaborn as sns\n",
    "\n",
    "%matplotlib inline"
   ]
  },
  {
   "cell_type": "code",
   "execution_count": 5,
   "metadata": {},
   "outputs": [],
   "source": [
    "#import the four relevent schemas to the budget and genres\n",
    "tndb_df = pd.read_csv('Data/tn.movie_budgets.csv')\n",
    "tn_mov_df = pd.read_csv('Data/tmdb.movies.csv')\n",
    "akas_df = pd.read_csv('Data/imdb.title.akas.csv')\n",
    "basics_df = pd.read_csv('Data/imdb.title.basics.csv')\n",
    "#basics_df.head(1)\n",
    "#tn_mov_df.shape\n",
    "#tndb_df.info()"
   ]
  },
  {
   "cell_type": "code",
   "execution_count": 6,
   "metadata": {},
   "outputs": [],
   "source": [
    "#basics_df.loc[basics_df['primary_title'].str.contains(\"Avat\"),'primary_title']\n",
    "#basics_df.groupby(basics_df['primary_title'])"
   ]
  },
  {
   "cell_type": "code",
   "execution_count": 7,
   "metadata": {
    "scrolled": true
   },
   "outputs": [],
   "source": [
    "#display(tn_mov_df.shape)\n",
    "#tn_mov_df['popularity'].unique\n",
    "#no idea what how they measure popularity so this data will not be used"
   ]
  },
  {
   "cell_type": "code",
   "execution_count": 8,
   "metadata": {},
   "outputs": [],
   "source": [
    "#removed all punctuations to movie titles on the two schemas\n",
    "tndb_df[\"Mov_name\"] = tndb_df['movie'].str.lower().str.replace('[ \\'\\:\\,\\.]','').astype(str)\n",
    "tn_mov_df[\"Mov_name\"] = tn_mov_df['title'].str.lower().str.replace('[ \\'\\:\\,\\.]','').astype(str)\n",
    "tn_mov_df['release_year'] = tn_mov_df['release_date'].astype(str).str[:4]\n",
    "\n",
    "\n",
    "#tn_mov_df\n",
    "#display(basics_df.head(1))\n",
    "#display(akas_df.head(1))"
   ]
  },
  {
   "cell_type": "code",
   "execution_count": 9,
   "metadata": {
    "scrolled": false
   },
   "outputs": [],
   "source": [
    "#merged the two schemas with constant id\n",
    "#rt_df = info_df.merge(reviews_df, on='id')\n",
    "\n",
    "imdb_df = basics_df.merge(akas_df,left_on ='tconst',right_on = \"title_id\",how = \"inner\") \n",
    "\n",
    "#merged tn and tndb to create new db, keeping values only the same movie names \n",
    "tn_df = tn_mov_df.merge(tndb_df, on = 'Mov_name', how = 'inner')"
   ]
  },
  {
   "cell_type": "code",
   "execution_count": 10,
   "metadata": {},
   "outputs": [],
   "source": [
    "#imdb_df"
   ]
  },
  {
   "cell_type": "code",
   "execution_count": 11,
   "metadata": {},
   "outputs": [],
   "source": [
    "#display(imdb_df.head(1))\n",
    "#tn_df.head(1)"
   ]
  },
  {
   "cell_type": "code",
   "execution_count": 12,
   "metadata": {},
   "outputs": [],
   "source": [
    "#created new column with movie names stripped\n",
    "imdb_df['Mov_name'] = imdb_df['primary_title'].str.lower().str.replace('[ \\'\\:\\,\\.]','').astype(str)\n",
    "\n",
    "#imdb_df.head(1)\n",
    "#tn_df.head(1)"
   ]
  },
  {
   "cell_type": "code",
   "execution_count": 13,
   "metadata": {},
   "outputs": [],
   "source": [
    "#create a new colum to include name and year of release\n",
    "imdb_df['name_year'] = imdb_df['Mov_name'] + imdb_df['start_year'].astype(str)\n",
    "tn_df['name_year'] = tn_df['Mov_name'] + tn_df['release_year'].astype(str)\n"
   ]
  },
  {
   "cell_type": "code",
   "execution_count": 14,
   "metadata": {},
   "outputs": [],
   "source": [
    "#new cost df joining imdb and tn keeping only values with the same name,year and has cost data\n",
    "budget_df = tn_df.merge(imdb_df, on = 'name_year', how = 'inner')"
   ]
  },
  {
   "cell_type": "code",
   "execution_count": 15,
   "metadata": {},
   "outputs": [],
   "source": [
    "#p_cost.columns"
   ]
  },
  {
   "cell_type": "code",
   "execution_count": 16,
   "metadata": {},
   "outputs": [],
   "source": [
    "#p_cost[['original_title_x','title_x', 'Mov_name', 'movie', 'primary_title','original_title_y','title_y']]"
   ]
  },
  {
   "cell_type": "code",
   "execution_count": 17,
   "metadata": {},
   "outputs": [],
   "source": [
    "#created two new columns to convert money strings to ints without punctuations\n",
    "budget_df[\"domestic_gross_$\"] = budget_df['domestic_gross'].str.lower().str.replace('[ \\'\\:\\,\\.\\$]','').astype(int)\n",
    "budget_df[\"worldwide_gross_$\"] = budget_df['worldwide_gross'].str.lower().str.replace('[ \\'\\:\\,\\.\\$]','').astype(int)"
   ]
  },
  {
   "cell_type": "code",
   "execution_count": 18,
   "metadata": {},
   "outputs": [],
   "source": [
    "#new column converting production budget into a usable format\n",
    "budget_df[\"production_$\"] = budget_df['production_budget'].str.lower().str.replace('[ \\'\\:\\,\\.\\$]','').astype(int)\n",
    "\n",
    "#new column with the sum of the gross\n",
    "budget_df['total_gross'] = budget_df[\"worldwide_gross_$\"] + budget_df[\"domestic_gross_$\"]\n",
    "\n",
    "#new colum with net value of the movie\n",
    "budget_df['net_cost'] = budget_df['total_gross'] - budget_df['production_$']\n",
    "\n",
    "\n",
    "#display(p_cost.columns)\n"
   ]
  },
  {
   "cell_type": "code",
   "execution_count": 19,
   "metadata": {
    "scrolled": true
   },
   "outputs": [],
   "source": [
    "#p_cost[['movie','original_title_x','Mov_name','primary_title','title_y']]\n",
    "#p_cost[['original_title_x','title_x', 'movie', 'primary_title','original_title_y','title_y']]"
   ]
  },
  {
   "cell_type": "code",
   "execution_count": 20,
   "metadata": {},
   "outputs": [
    {
     "data": {
      "text/html": [
       "<div>\n",
       "<style scoped>\n",
       "    .dataframe tbody tr th:only-of-type {\n",
       "        vertical-align: middle;\n",
       "    }\n",
       "\n",
       "    .dataframe tbody tr th {\n",
       "        vertical-align: top;\n",
       "    }\n",
       "\n",
       "    .dataframe thead th {\n",
       "        text-align: right;\n",
       "    }\n",
       "</style>\n",
       "<table border=\"1\" class=\"dataframe\">\n",
       "  <thead>\n",
       "    <tr style=\"text-align: right;\">\n",
       "      <th></th>\n",
       "      <th>movie</th>\n",
       "      <th>genres</th>\n",
       "      <th>production_budget</th>\n",
       "      <th>domestic_gross</th>\n",
       "      <th>worldwide_gross</th>\n",
       "      <th>total_gross</th>\n",
       "      <th>net_cost</th>\n",
       "    </tr>\n",
       "  </thead>\n",
       "  <tbody>\n",
       "    <tr>\n",
       "      <th>0</th>\n",
       "      <td>How to Train Your Dragon</td>\n",
       "      <td>Action,Adventure,Animation</td>\n",
       "      <td>$165,000,000</td>\n",
       "      <td>$217,581,232</td>\n",
       "      <td>$494,870,992</td>\n",
       "      <td>712452224</td>\n",
       "      <td>547452224</td>\n",
       "    </tr>\n",
       "    <tr>\n",
       "      <th>1</th>\n",
       "      <td>How to Train Your Dragon</td>\n",
       "      <td>Action,Adventure,Animation</td>\n",
       "      <td>$165,000,000</td>\n",
       "      <td>$217,581,232</td>\n",
       "      <td>$494,870,992</td>\n",
       "      <td>712452224</td>\n",
       "      <td>547452224</td>\n",
       "    </tr>\n",
       "    <tr>\n",
       "      <th>2</th>\n",
       "      <td>How to Train Your Dragon</td>\n",
       "      <td>Action,Adventure,Animation</td>\n",
       "      <td>$165,000,000</td>\n",
       "      <td>$217,581,232</td>\n",
       "      <td>$494,870,992</td>\n",
       "      <td>712452224</td>\n",
       "      <td>547452224</td>\n",
       "    </tr>\n",
       "    <tr>\n",
       "      <th>3</th>\n",
       "      <td>How to Train Your Dragon</td>\n",
       "      <td>Action,Adventure,Animation</td>\n",
       "      <td>$165,000,000</td>\n",
       "      <td>$217,581,232</td>\n",
       "      <td>$494,870,992</td>\n",
       "      <td>712452224</td>\n",
       "      <td>547452224</td>\n",
       "    </tr>\n",
       "    <tr>\n",
       "      <th>4</th>\n",
       "      <td>How to Train Your Dragon</td>\n",
       "      <td>Action,Adventure,Animation</td>\n",
       "      <td>$165,000,000</td>\n",
       "      <td>$217,581,232</td>\n",
       "      <td>$494,870,992</td>\n",
       "      <td>712452224</td>\n",
       "      <td>547452224</td>\n",
       "    </tr>\n",
       "    <tr>\n",
       "      <th>...</th>\n",
       "      <td>...</td>\n",
       "      <td>...</td>\n",
       "      <td>...</td>\n",
       "      <td>...</td>\n",
       "      <td>...</td>\n",
       "      <td>...</td>\n",
       "      <td>...</td>\n",
       "    </tr>\n",
       "    <tr>\n",
       "      <th>43913</th>\n",
       "      <td>The Box</td>\n",
       "      <td>Thriller</td>\n",
       "      <td>$25,000,000</td>\n",
       "      <td>$15,051,977</td>\n",
       "      <td>$34,356,760</td>\n",
       "      <td>49408737</td>\n",
       "      <td>24408737</td>\n",
       "    </tr>\n",
       "    <tr>\n",
       "      <th>43914</th>\n",
       "      <td>The Box</td>\n",
       "      <td>Thriller</td>\n",
       "      <td>$25,000,000</td>\n",
       "      <td>$15,051,977</td>\n",
       "      <td>$34,356,760</td>\n",
       "      <td>49408737</td>\n",
       "      <td>24408737</td>\n",
       "    </tr>\n",
       "    <tr>\n",
       "      <th>43915</th>\n",
       "      <td>The Box</td>\n",
       "      <td>Thriller</td>\n",
       "      <td>$25,000,000</td>\n",
       "      <td>$15,051,977</td>\n",
       "      <td>$34,356,760</td>\n",
       "      <td>49408737</td>\n",
       "      <td>24408737</td>\n",
       "    </tr>\n",
       "    <tr>\n",
       "      <th>43916</th>\n",
       "      <td>The Box</td>\n",
       "      <td>Thriller</td>\n",
       "      <td>$25,000,000</td>\n",
       "      <td>$15,051,977</td>\n",
       "      <td>$34,356,760</td>\n",
       "      <td>49408737</td>\n",
       "      <td>24408737</td>\n",
       "    </tr>\n",
       "    <tr>\n",
       "      <th>43917</th>\n",
       "      <td>The Box</td>\n",
       "      <td>Thriller</td>\n",
       "      <td>$25,000,000</td>\n",
       "      <td>$15,051,977</td>\n",
       "      <td>$34,356,760</td>\n",
       "      <td>49408737</td>\n",
       "      <td>24408737</td>\n",
       "    </tr>\n",
       "  </tbody>\n",
       "</table>\n",
       "<p>43918 rows × 7 columns</p>\n",
       "</div>"
      ],
      "text/plain": [
       "                          movie                      genres production_budget  \\\n",
       "0      How to Train Your Dragon  Action,Adventure,Animation      $165,000,000   \n",
       "1      How to Train Your Dragon  Action,Adventure,Animation      $165,000,000   \n",
       "2      How to Train Your Dragon  Action,Adventure,Animation      $165,000,000   \n",
       "3      How to Train Your Dragon  Action,Adventure,Animation      $165,000,000   \n",
       "4      How to Train Your Dragon  Action,Adventure,Animation      $165,000,000   \n",
       "...                         ...                         ...               ...   \n",
       "43913                   The Box                    Thriller       $25,000,000   \n",
       "43914                   The Box                    Thriller       $25,000,000   \n",
       "43915                   The Box                    Thriller       $25,000,000   \n",
       "43916                   The Box                    Thriller       $25,000,000   \n",
       "43917                   The Box                    Thriller       $25,000,000   \n",
       "\n",
       "      domestic_gross worldwide_gross  total_gross   net_cost  \n",
       "0       $217,581,232    $494,870,992    712452224  547452224  \n",
       "1       $217,581,232    $494,870,992    712452224  547452224  \n",
       "2       $217,581,232    $494,870,992    712452224  547452224  \n",
       "3       $217,581,232    $494,870,992    712452224  547452224  \n",
       "4       $217,581,232    $494,870,992    712452224  547452224  \n",
       "...              ...             ...          ...        ...  \n",
       "43913    $15,051,977     $34,356,760     49408737   24408737  \n",
       "43914    $15,051,977     $34,356,760     49408737   24408737  \n",
       "43915    $15,051,977     $34,356,760     49408737   24408737  \n",
       "43916    $15,051,977     $34,356,760     49408737   24408737  \n",
       "43917    $15,051,977     $34,356,760     49408737   24408737  \n",
       "\n",
       "[43918 rows x 7 columns]"
      ]
     },
     "metadata": {},
     "output_type": "display_data"
    }
   ],
   "source": [
    "#new df with only relevant info and sorted by the total gross\n",
    "budget_df_simplified = budget_df[['movie','genres','production_budget','domestic_gross','worldwide_gross','total_gross','net_cost']]\n",
    "display(budget_df_simplified)\n",
    "all_budget_df = budget_df_simplified.drop_duplicates(keep ='first').copy()\n",
    "#p_cost_simplified.sort_values(by= 'total_gross', ascending = False)"
   ]
  },
  {
   "cell_type": "code",
   "execution_count": 21,
   "metadata": {},
   "outputs": [],
   "source": [
    "all_budget_df['genres'] = all_budget_df['genres'].str.strip().str.split(',')"
   ]
  },
  {
   "cell_type": "code",
   "execution_count": 22,
   "metadata": {},
   "outputs": [],
   "source": [
    "single_category_budget_df = all_budget_df.explode('genres')"
   ]
  },
  {
   "cell_type": "code",
   "execution_count": 23,
   "metadata": {},
   "outputs": [],
   "source": [
    "single_category_budget_df['net_cost'] = single_category_budget_df['net_cost'].astype(int)"
   ]
  },
  {
   "cell_type": "code",
   "execution_count": 24,
   "metadata": {},
   "outputs": [
    {
     "data": {
      "text/html": [
       "<div>\n",
       "<style scoped>\n",
       "    .dataframe tbody tr th:only-of-type {\n",
       "        vertical-align: middle;\n",
       "    }\n",
       "\n",
       "    .dataframe tbody tr th {\n",
       "        vertical-align: top;\n",
       "    }\n",
       "\n",
       "    .dataframe thead th {\n",
       "        text-align: right;\n",
       "    }\n",
       "</style>\n",
       "<table border=\"1\" class=\"dataframe\">\n",
       "  <thead>\n",
       "    <tr style=\"text-align: right;\">\n",
       "      <th></th>\n",
       "      <th>movie</th>\n",
       "      <th>genres</th>\n",
       "      <th>production_budget</th>\n",
       "      <th>domestic_gross</th>\n",
       "      <th>worldwide_gross</th>\n",
       "      <th>total_gross</th>\n",
       "      <th>net_cost</th>\n",
       "    </tr>\n",
       "  </thead>\n",
       "  <tbody>\n",
       "    <tr>\n",
       "      <th>0</th>\n",
       "      <td>How to Train Your Dragon</td>\n",
       "      <td>Action</td>\n",
       "      <td>$165,000,000</td>\n",
       "      <td>$217,581,232</td>\n",
       "      <td>$494,870,992</td>\n",
       "      <td>712452224</td>\n",
       "      <td>547452224</td>\n",
       "    </tr>\n",
       "  </tbody>\n",
       "</table>\n",
       "</div>"
      ],
      "text/plain": [
       "                      movie  genres production_budget domestic_gross  \\\n",
       "0  How to Train Your Dragon  Action      $165,000,000   $217,581,232   \n",
       "\n",
       "  worldwide_gross  total_gross   net_cost  \n",
       "0    $494,870,992    712452224  547452224  "
      ]
     },
     "execution_count": 24,
     "metadata": {},
     "output_type": "execute_result"
    }
   ],
   "source": [
    "single_category_budget_df.head(1)\n"
   ]
  },
  {
   "cell_type": "code",
   "execution_count": 25,
   "metadata": {
    "scrolled": false
   },
   "outputs": [
    {
     "data": {
      "text/html": [
       "<div>\n",
       "<style scoped>\n",
       "    .dataframe tbody tr th:only-of-type {\n",
       "        vertical-align: middle;\n",
       "    }\n",
       "\n",
       "    .dataframe tbody tr th {\n",
       "        vertical-align: top;\n",
       "    }\n",
       "\n",
       "    .dataframe thead th {\n",
       "        text-align: right;\n",
       "    }\n",
       "</style>\n",
       "<table border=\"1\" class=\"dataframe\">\n",
       "  <thead>\n",
       "    <tr style=\"text-align: right;\">\n",
       "      <th></th>\n",
       "      <th>movie</th>\n",
       "      <th>production_budget</th>\n",
       "      <th>domestic_gross</th>\n",
       "      <th>worldwide_gross</th>\n",
       "      <th>total_gross</th>\n",
       "      <th>net_cost</th>\n",
       "    </tr>\n",
       "    <tr>\n",
       "      <th>genres</th>\n",
       "      <th></th>\n",
       "      <th></th>\n",
       "      <th></th>\n",
       "      <th></th>\n",
       "      <th></th>\n",
       "      <th></th>\n",
       "    </tr>\n",
       "  </thead>\n",
       "  <tbody>\n",
       "    <tr>\n",
       "      <th>Action</th>\n",
       "      <td>500</td>\n",
       "      <td>500</td>\n",
       "      <td>500</td>\n",
       "      <td>500</td>\n",
       "      <td>500</td>\n",
       "      <td>500</td>\n",
       "    </tr>\n",
       "    <tr>\n",
       "      <th>Adventure</th>\n",
       "      <td>381</td>\n",
       "      <td>381</td>\n",
       "      <td>381</td>\n",
       "      <td>381</td>\n",
       "      <td>381</td>\n",
       "      <td>381</td>\n",
       "    </tr>\n",
       "    <tr>\n",
       "      <th>Animation</th>\n",
       "      <td>112</td>\n",
       "      <td>112</td>\n",
       "      <td>112</td>\n",
       "      <td>112</td>\n",
       "      <td>112</td>\n",
       "      <td>112</td>\n",
       "    </tr>\n",
       "    <tr>\n",
       "      <th>Biography</th>\n",
       "      <td>151</td>\n",
       "      <td>151</td>\n",
       "      <td>151</td>\n",
       "      <td>151</td>\n",
       "      <td>151</td>\n",
       "      <td>151</td>\n",
       "    </tr>\n",
       "    <tr>\n",
       "      <th>Comedy</th>\n",
       "      <td>572</td>\n",
       "      <td>572</td>\n",
       "      <td>572</td>\n",
       "      <td>572</td>\n",
       "      <td>572</td>\n",
       "      <td>572</td>\n",
       "    </tr>\n",
       "    <tr>\n",
       "      <th>Crime</th>\n",
       "      <td>269</td>\n",
       "      <td>269</td>\n",
       "      <td>269</td>\n",
       "      <td>269</td>\n",
       "      <td>269</td>\n",
       "      <td>269</td>\n",
       "    </tr>\n",
       "    <tr>\n",
       "      <th>Documentary</th>\n",
       "      <td>108</td>\n",
       "      <td>108</td>\n",
       "      <td>108</td>\n",
       "      <td>108</td>\n",
       "      <td>108</td>\n",
       "      <td>108</td>\n",
       "    </tr>\n",
       "    <tr>\n",
       "      <th>Drama</th>\n",
       "      <td>916</td>\n",
       "      <td>916</td>\n",
       "      <td>916</td>\n",
       "      <td>916</td>\n",
       "      <td>916</td>\n",
       "      <td>916</td>\n",
       "    </tr>\n",
       "    <tr>\n",
       "      <th>Family</th>\n",
       "      <td>115</td>\n",
       "      <td>115</td>\n",
       "      <td>115</td>\n",
       "      <td>115</td>\n",
       "      <td>115</td>\n",
       "      <td>115</td>\n",
       "    </tr>\n",
       "    <tr>\n",
       "      <th>Fantasy</th>\n",
       "      <td>150</td>\n",
       "      <td>150</td>\n",
       "      <td>150</td>\n",
       "      <td>150</td>\n",
       "      <td>150</td>\n",
       "      <td>150</td>\n",
       "    </tr>\n",
       "    <tr>\n",
       "      <th>History</th>\n",
       "      <td>45</td>\n",
       "      <td>45</td>\n",
       "      <td>45</td>\n",
       "      <td>45</td>\n",
       "      <td>45</td>\n",
       "      <td>45</td>\n",
       "    </tr>\n",
       "    <tr>\n",
       "      <th>Horror</th>\n",
       "      <td>248</td>\n",
       "      <td>248</td>\n",
       "      <td>248</td>\n",
       "      <td>248</td>\n",
       "      <td>248</td>\n",
       "      <td>248</td>\n",
       "    </tr>\n",
       "    <tr>\n",
       "      <th>Music</th>\n",
       "      <td>52</td>\n",
       "      <td>52</td>\n",
       "      <td>52</td>\n",
       "      <td>52</td>\n",
       "      <td>52</td>\n",
       "      <td>52</td>\n",
       "    </tr>\n",
       "    <tr>\n",
       "      <th>Musical</th>\n",
       "      <td>12</td>\n",
       "      <td>12</td>\n",
       "      <td>12</td>\n",
       "      <td>12</td>\n",
       "      <td>12</td>\n",
       "      <td>12</td>\n",
       "    </tr>\n",
       "    <tr>\n",
       "      <th>Mystery</th>\n",
       "      <td>150</td>\n",
       "      <td>150</td>\n",
       "      <td>150</td>\n",
       "      <td>150</td>\n",
       "      <td>150</td>\n",
       "      <td>150</td>\n",
       "    </tr>\n",
       "    <tr>\n",
       "      <th>News</th>\n",
       "      <td>1</td>\n",
       "      <td>1</td>\n",
       "      <td>1</td>\n",
       "      <td>1</td>\n",
       "      <td>1</td>\n",
       "      <td>1</td>\n",
       "    </tr>\n",
       "    <tr>\n",
       "      <th>Reality-TV</th>\n",
       "      <td>1</td>\n",
       "      <td>1</td>\n",
       "      <td>1</td>\n",
       "      <td>1</td>\n",
       "      <td>1</td>\n",
       "      <td>1</td>\n",
       "    </tr>\n",
       "    <tr>\n",
       "      <th>Romance</th>\n",
       "      <td>236</td>\n",
       "      <td>236</td>\n",
       "      <td>236</td>\n",
       "      <td>236</td>\n",
       "      <td>236</td>\n",
       "      <td>236</td>\n",
       "    </tr>\n",
       "    <tr>\n",
       "      <th>Sci-Fi</th>\n",
       "      <td>158</td>\n",
       "      <td>158</td>\n",
       "      <td>158</td>\n",
       "      <td>158</td>\n",
       "      <td>158</td>\n",
       "      <td>158</td>\n",
       "    </tr>\n",
       "    <tr>\n",
       "      <th>Sport</th>\n",
       "      <td>48</td>\n",
       "      <td>48</td>\n",
       "      <td>48</td>\n",
       "      <td>48</td>\n",
       "      <td>48</td>\n",
       "      <td>48</td>\n",
       "    </tr>\n",
       "    <tr>\n",
       "      <th>Thriller</th>\n",
       "      <td>347</td>\n",
       "      <td>347</td>\n",
       "      <td>347</td>\n",
       "      <td>347</td>\n",
       "      <td>347</td>\n",
       "      <td>347</td>\n",
       "    </tr>\n",
       "    <tr>\n",
       "      <th>War</th>\n",
       "      <td>20</td>\n",
       "      <td>20</td>\n",
       "      <td>20</td>\n",
       "      <td>20</td>\n",
       "      <td>20</td>\n",
       "      <td>20</td>\n",
       "    </tr>\n",
       "    <tr>\n",
       "      <th>Western</th>\n",
       "      <td>14</td>\n",
       "      <td>14</td>\n",
       "      <td>14</td>\n",
       "      <td>14</td>\n",
       "      <td>14</td>\n",
       "      <td>14</td>\n",
       "    </tr>\n",
       "  </tbody>\n",
       "</table>\n",
       "</div>"
      ],
      "text/plain": [
       "             movie  production_budget  domestic_gross  worldwide_gross  \\\n",
       "genres                                                                   \n",
       "Action         500                500             500              500   \n",
       "Adventure      381                381             381              381   \n",
       "Animation      112                112             112              112   \n",
       "Biography      151                151             151              151   \n",
       "Comedy         572                572             572              572   \n",
       "Crime          269                269             269              269   \n",
       "Documentary    108                108             108              108   \n",
       "Drama          916                916             916              916   \n",
       "Family         115                115             115              115   \n",
       "Fantasy        150                150             150              150   \n",
       "History         45                 45              45               45   \n",
       "Horror         248                248             248              248   \n",
       "Music           52                 52              52               52   \n",
       "Musical         12                 12              12               12   \n",
       "Mystery        150                150             150              150   \n",
       "News             1                  1               1                1   \n",
       "Reality-TV       1                  1               1                1   \n",
       "Romance        236                236             236              236   \n",
       "Sci-Fi         158                158             158              158   \n",
       "Sport           48                 48              48               48   \n",
       "Thriller       347                347             347              347   \n",
       "War             20                 20              20               20   \n",
       "Western         14                 14              14               14   \n",
       "\n",
       "             total_gross  net_cost  \n",
       "genres                              \n",
       "Action               500       500  \n",
       "Adventure            381       381  \n",
       "Animation            112       112  \n",
       "Biography            151       151  \n",
       "Comedy               572       572  \n",
       "Crime                269       269  \n",
       "Documentary          108       108  \n",
       "Drama                916       916  \n",
       "Family               115       115  \n",
       "Fantasy              150       150  \n",
       "History               45        45  \n",
       "Horror               248       248  \n",
       "Music                 52        52  \n",
       "Musical               12        12  \n",
       "Mystery              150       150  \n",
       "News                   1         1  \n",
       "Reality-TV             1         1  \n",
       "Romance              236       236  \n",
       "Sci-Fi               158       158  \n",
       "Sport                 48        48  \n",
       "Thriller             347       347  \n",
       "War                   20        20  \n",
       "Western               14        14  "
      ]
     },
     "execution_count": 25,
     "metadata": {},
     "output_type": "execute_result"
    }
   ],
   "source": [
    "single_category_budget_df.groupby('genres').count()\n",
    "#single_category_budget_df.describe()"
   ]
  },
  {
   "cell_type": "code",
   "execution_count": 26,
   "metadata": {},
   "outputs": [],
   "source": [
    "single_category_budget_df['earnings_in_millions'] = single_category_budget_df['net_cost']/1000000"
   ]
  },
  {
   "cell_type": "code",
   "execution_count": 27,
   "metadata": {
    "scrolled": true
   },
   "outputs": [
    {
     "name": "stdout",
     "output_type": "stream",
     "text": [
      "<class 'pandas.core.frame.DataFrame'>\n",
      "RangeIndex: 10 entries, 0 to 9\n",
      "Data columns (total 2 columns):\n",
      " #   Column                Non-Null Count  Dtype  \n",
      "---  ------                --------------  -----  \n",
      " 0   genres                10 non-null     object \n",
      " 1   earnings_in_millions  10 non-null     float64\n",
      "dtypes: float64(1), object(1)\n",
      "memory usage: 288.0+ bytes\n"
     ]
    }
   ],
   "source": [
    "top_10_cat = single_category_budget_df.groupby('genres')['earnings_in_millions'].mean().sort_values(ascending = False).head(10)\n",
    "\n",
    "\n",
    "top_10_cat_df = top_10_cat.to_frame()\n",
    "top_10_cat_df.reset_index(inplace = True)\n",
    "top_10_cat_df.info()"
   ]
  },
  {
   "cell_type": "code",
   "execution_count": 28,
   "metadata": {},
   "outputs": [
    {
     "data": {
      "text/html": [
       "<div>\n",
       "<style scoped>\n",
       "    .dataframe tbody tr th:only-of-type {\n",
       "        vertical-align: middle;\n",
       "    }\n",
       "\n",
       "    .dataframe tbody tr th {\n",
       "        vertical-align: top;\n",
       "    }\n",
       "\n",
       "    .dataframe thead th {\n",
       "        text-align: right;\n",
       "    }\n",
       "</style>\n",
       "<table border=\"1\" class=\"dataframe\">\n",
       "  <thead>\n",
       "    <tr style=\"text-align: right;\">\n",
       "      <th></th>\n",
       "      <th>genres</th>\n",
       "      <th>earnings_in_millions</th>\n",
       "    </tr>\n",
       "  </thead>\n",
       "  <tbody>\n",
       "    <tr>\n",
       "      <th>0</th>\n",
       "      <td>Animation</td>\n",
       "      <td>386.956611</td>\n",
       "    </tr>\n",
       "    <tr>\n",
       "      <th>1</th>\n",
       "      <td>Musical</td>\n",
       "      <td>357.855580</td>\n",
       "    </tr>\n",
       "    <tr>\n",
       "      <th>2</th>\n",
       "      <td>Adventure</td>\n",
       "      <td>348.977875</td>\n",
       "    </tr>\n",
       "    <tr>\n",
       "      <th>3</th>\n",
       "      <td>Sci-Fi</td>\n",
       "      <td>322.598654</td>\n",
       "    </tr>\n",
       "    <tr>\n",
       "      <th>4</th>\n",
       "      <td>Fantasy</td>\n",
       "      <td>255.712810</td>\n",
       "    </tr>\n",
       "  </tbody>\n",
       "</table>\n",
       "</div>"
      ],
      "text/plain": [
       "      genres  earnings_in_millions\n",
       "0  Animation            386.956611\n",
       "1    Musical            357.855580\n",
       "2  Adventure            348.977875\n",
       "3     Sci-Fi            322.598654\n",
       "4    Fantasy            255.712810"
      ]
     },
     "execution_count": 28,
     "metadata": {},
     "output_type": "execute_result"
    }
   ],
   "source": [
    "top_10_cat_df.head()"
   ]
  },
  {
   "cell_type": "code",
   "execution_count": 39,
   "metadata": {},
   "outputs": [
    {
     "data": {
      "text/plain": [
       "'/Users/miafryer/Documents/flatiron_ds/phase 1/project1/microsoft_movies/images'"
      ]
     },
     "execution_count": 39,
     "metadata": {},
     "output_type": "execute_result"
    }
   ],
   "source": [
    "pwd"
   ]
  },
  {
   "cell_type": "code",
   "execution_count": 40,
   "metadata": {},
   "outputs": [
    {
     "data": {
      "image/png": "[encoded data removed]",
      "text/plain": [
       "<Figure size 576x576 with 1 Axes>"
      ]
     },
     "metadata": {},
     "output_type": "display_data"
    }
   ],
   "source": [
    "import seaborn as sns\n",
    "import matplotlib.pyplot as plt\n",
    "\n",
    "sns.set_style(\"whitegrid\", {'axes.grid' : False})\n",
    "#plot scatter plot: weighted average vs avg number of votes vs avg total gross\n",
    "plt.figure(figsize = (8,8))\n",
    "sns.barplot(data=top_10_cat_df, x='genres',y= 'earnings_in_millions', palette=\"Blues_r\")\n",
    "plt.xlabel('Genres', size=20)\n",
    "plt.ylabel('Average Net Profit\\n (Millions)', size=20)\n",
    "plt.title('Top 10 Money Making Movie Genres', size=20)\n",
    "             \n",
    "plt.savefig('eddie.png', dpi=80, bbox_inches='tight')\n",
    "    "
   ]
  },
  {
   "cell_type": "code",
   "execution_count": 17,
   "metadata": {
    "scrolled": true
   },
   "outputs": [
    {
     "data": {
      "image/png": "[encoded data removed]",
      "text/plain": [
       "<Figure size 432x288 with 1 Axes>"
      ]
     },
     "metadata": {
      "needs_background": "light"
     },
     "output_type": "display_data"
    }
   ],
   "source": [
    "top_10_cat.plot.bar(xlabel = 'Genres',ylabel = 'Net Profit\\n (Millions)',title= \"Top 10 Money Making Movie Genres\",rot = 45);"
   ]
  },
  {
   "cell_type": "code",
   "execution_count": null,
   "metadata": {},
   "outputs": [],
   "source": [
    "#single_category_budget_df.plot.bar(x ='genres', y = 'net_cost'.mean())"
   ]
  },
  {
   "cell_type": "code",
   "execution_count": null,
   "metadata": {},
   "outputs": [],
   "source": [
    "#filtered to see all movies with more than $0 global gross\n",
    "#p_cost_simp_filter = p_cost_simplified[p_cost_simplified['total_gross']>0]\n",
    "#p_cost_simp_filter.sort_values(by= 'total_gross', ascending = False).head()"
   ]
  },
  {
   "cell_type": "code",
   "execution_count": null,
   "metadata": {},
   "outputs": [],
   "source": [
    "#fig, ax ="
   ]
  },
  {
   "cell_type": "code",
   "execution_count": null,
   "metadata": {},
   "outputs": [],
   "source": []
  },
  {
   "cell_type": "code",
   "execution_count": null,
   "metadata": {},
   "outputs": [],
   "source": []
  },
  {
   "cell_type": "code",
   "execution_count": null,
   "metadata": {},
   "outputs": [],
   "source": [
    "############################################"
   ]
  },
  {
   "cell_type": "code",
   "execution_count": null,
   "metadata": {},
   "outputs": [],
   "source": [
    "#tn_db = tn_mov_df.join(tndb_df, on='id', how = 'left',lsuffix = \" combined\")\n",
    "#tn_db.head()\n"
   ]
  },
  {
   "cell_type": "code",
   "execution_count": null,
   "metadata": {},
   "outputs": [],
   "source": [
    "'''\n",
    "\n",
    "\n",
    "tndb_df[\"Mov_name\"] = tndb_df['movie'].str.lower().str.replace('[ \\'\\:\\,\\.]','').astype(str)\n",
    "tn_mov_df[\"Mov_name\"] = tn_mov_df['title'].str.lower().str.replace('[ \\'\\:\\,\\.]','').astype(str)\n",
    "akas_df[\"Mov_name\"] = akas_df['title'].str.lower().str.replace('[ \\'\\:\\,\\.]','').astype(str)\n",
    "basics_df['Mov_name'] = basics_df['primary_title'].str.lower().str.replace('[ \\'\\:\\,\\.]','').astype(str)\n",
    "'''\n",
    "\n",
    "\n",
    "#def simplify_title(df_col):\n",
    "#    df_col['Mov_name'] = df_col.str.lower().str.replace('[ \\'\\:\\,\\.]','').astype(str)\n",
    "display(akas_df.head(1))\n",
    "#tn_mov_df.head(1)\n",
    "basics_df.head(1)"
   ]
  },
  {
   "cell_type": "code",
   "execution_count": null,
   "metadata": {},
   "outputs": [],
   "source": [
    "imdb_db = basics_df.join(akas_df,lsuffix ='title_id',rsuffix = \"tconst\",how = \"outer\")\n",
    "imdb_db"
   ]
  },
  {
   "cell_type": "code",
   "execution_count": null,
   "metadata": {},
   "outputs": [],
   "source": []
  },
  {
   "cell_type": "code",
   "execution_count": null,
   "metadata": {},
   "outputs": [],
   "source": []
  },
  {
   "cell_type": "code",
   "execution_count": null,
   "metadata": {},
   "outputs": [],
   "source": []
  },
  {
   "cell_type": "code",
   "execution_count": null,
   "metadata": {},
   "outputs": [],
   "source": []
  },
  {
   "cell_type": "code",
   "execution_count": null,
   "metadata": {},
   "outputs": [],
   "source": []
  },
  {
   "cell_type": "code",
   "execution_count": null,
   "metadata": {},
   "outputs": [],
   "source": [
    "#display(tndb_df.head(1))\n",
    "#display(tn_mov_df.head(1))\n",
    "#akas_df.head(1)"
   ]
  },
  {
   "cell_type": "code",
   "execution_count": null,
   "metadata": {},
   "outputs": [],
   "source": [
    "#tn_db = tn_mov_df.merge(tndb_df, on = 'Mov_name', how = 'left')\n",
    "#tn_db.head()"
   ]
  },
  {
   "cell_type": "code",
   "execution_count": null,
   "metadata": {},
   "outputs": [],
   "source": [
    "#tn_db.info()\n",
    "\n",
    "#tn_imdb_db = akas_df.merge(tn_db, on = 'Mov_name', how = 'left')\n",
    "#tn_imdb_db.info()\n",
    "#tn_imdb_db.head(10)"
   ]
  },
  {
   "cell_type": "code",
   "execution_count": null,
   "metadata": {},
   "outputs": [],
   "source": [
    "#tn_df['Mov_name'] = tn_df['Mov_name'].str.replace('[ \\'\\:\\,\\.]','')"
   ]
  },
  {
   "cell_type": "code",
   "execution_count": null,
   "metadata": {},
   "outputs": [],
   "source": [
    "#tn_info_df = tn_mov_df.join(tndb_df, how = \"inner\")"
   ]
  },
  {
   "cell_type": "code",
   "execution_count": null,
   "metadata": {},
   "outputs": [],
   "source": []
  }
 ],
 "metadata": {
  "kernelspec": {
   "display_name": "Python (learn-env)",
   "language": "python",
   "name": "learn-env"
  },
  "language_info": {
   "codemirror_mode": {
    "name": "ipython",
    "version": 3
   },
   "file_extension": ".py",
   "mimetype": "text/x-python",
   "name": "python",
   "nbconvert_exporter": "python",
   "pygments_lexer": "ipython3",
   "version": "3.8.5"
  }
 },
 "nbformat": 4,
 "nbformat_minor": 4
}
