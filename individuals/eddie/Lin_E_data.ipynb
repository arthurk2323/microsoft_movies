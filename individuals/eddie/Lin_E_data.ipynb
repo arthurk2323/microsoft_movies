{
 "cells": [
  {
   "cell_type": "code",
   "execution_count": null,
   "metadata": {},
   "outputs": [],
   "source": [
    "!ls Data"
   ]
  },
  {
   "cell_type": "code",
   "execution_count": 1,
   "metadata": {},
   "outputs": [
    {
     "name": "stdout",
     "output_type": "stream",
     "text": [
      "/Users/eddielin/Documents/Flatiron/Projects/Microsoft_movies_project/microsoft_movies\n"
     ]
    }
   ],
   "source": [
    "cd ../.."
   ]
  },
  {
   "cell_type": "code",
   "execution_count": 2,
   "metadata": {},
   "outputs": [],
   "source": [
    "import pandas as pd\n",
    "import numpy as np\n",
    "import matplotlib.pyplot as plt\n",
    "import seaborn as sns\n",
    "\n",
    "%matplotlib inline"
   ]
  },
  {
   "cell_type": "code",
   "execution_count": 3,
   "metadata": {},
   "outputs": [],
   "source": [
    "#import the four relevent schemas to the budget and genres\n",
    "tndb_df = pd.read_csv('Data/tn.movie_budgets.csv')\n",
    "tn_mov_df = pd.read_csv('Data/tmdb.movies.csv')\n",
    "akas_df = pd.read_csv('Data/imdb.title.akas.csv')\n",
    "basics_df = pd.read_csv('Data/imdb.title.basics.csv')\n",
    "#basics_df.head(1)\n",
    "#tn_mov_df.shape\n",
    "#tndb_df.info()"
   ]
  },
  {
   "cell_type": "code",
   "execution_count": 4,
   "metadata": {},
   "outputs": [],
   "source": [
    "#basics_df.loc[basics_df['primary_title'].str.contains(\"Avat\"),'primary_title']\n",
    "#basics_df.groupby(basics_df['primary_title'])"
   ]
  },
  {
   "cell_type": "code",
   "execution_count": 5,
   "metadata": {
    "scrolled": true
   },
   "outputs": [],
   "source": [
    "#display(tn_mov_df.shape)\n",
    "#tn_mov_df['popularity'].unique\n",
    "#no idea what how they measure popularity so this data will not be used"
   ]
  },
  {
   "cell_type": "code",
   "execution_count": 6,
   "metadata": {},
   "outputs": [],
   "source": [
    "#removed all punctuations to movie titles on the two schemas\n",
    "tndb_df[\"Mov_name\"] = tndb_df['movie'].str.lower().str.replace('[ \\'\\:\\,\\.]','').astype(str)\n",
    "tn_mov_df[\"Mov_name\"] = tn_mov_df['title'].str.lower().str.replace('[ \\'\\:\\,\\.]','').astype(str)\n",
    "tn_mov_df['release_year'] = tn_mov_df['release_date'].astype(str).str[:4]\n",
    "\n",
    "\n",
    "#tn_mov_df\n",
    "#display(basics_df.head(1))\n",
    "#display(akas_df.head(1))"
   ]
  },
  {
   "cell_type": "code",
   "execution_count": 7,
   "metadata": {
    "scrolled": false
   },
   "outputs": [],
   "source": [
    "#merged the two schemas with constant id\n",
    "#rt_df = info_df.merge(reviews_df, on='id')\n",
    "\n",
    "imdb_df = basics_df.merge(akas_df,left_on ='tconst',right_on = \"title_id\",how = \"inner\") \n",
    "\n",
    "#merged tn and tndb to create new db, keeping values only the same movie names \n",
    "tn_df = tn_mov_df.merge(tndb_df, on = 'Mov_name', how = 'inner')"
   ]
  },
  {
   "cell_type": "code",
   "execution_count": null,
   "metadata": {},
   "outputs": [],
   "source": [
    "#imdb_df"
   ]
  },
  {
   "cell_type": "code",
   "execution_count": 8,
   "metadata": {},
   "outputs": [
    {
     "data": {
      "text/html": [
       "<div>\n",
       "<style scoped>\n",
       "    .dataframe tbody tr th:only-of-type {\n",
       "        vertical-align: middle;\n",
       "    }\n",
       "\n",
       "    .dataframe tbody tr th {\n",
       "        vertical-align: top;\n",
       "    }\n",
       "\n",
       "    .dataframe thead th {\n",
       "        text-align: right;\n",
       "    }\n",
       "</style>\n",
       "<table border=\"1\" class=\"dataframe\">\n",
       "  <thead>\n",
       "    <tr style=\"text-align: right;\">\n",
       "      <th></th>\n",
       "      <th>tconst</th>\n",
       "      <th>primary_title</th>\n",
       "      <th>original_title</th>\n",
       "      <th>start_year</th>\n",
       "      <th>runtime_minutes</th>\n",
       "      <th>genres</th>\n",
       "      <th>title_id</th>\n",
       "      <th>ordering</th>\n",
       "      <th>title</th>\n",
       "      <th>region</th>\n",
       "      <th>language</th>\n",
       "      <th>types</th>\n",
       "      <th>attributes</th>\n",
       "      <th>is_original_title</th>\n",
       "    </tr>\n",
       "  </thead>\n",
       "  <tbody>\n",
       "    <tr>\n",
       "      <th>0</th>\n",
       "      <td>tt0063540</td>\n",
       "      <td>Sunghursh</td>\n",
       "      <td>Sunghursh</td>\n",
       "      <td>2013</td>\n",
       "      <td>175.0</td>\n",
       "      <td>Action,Crime,Drama</td>\n",
       "      <td>tt0063540</td>\n",
       "      <td>1</td>\n",
       "      <td>Sangharsh</td>\n",
       "      <td>IN</td>\n",
       "      <td>hi</td>\n",
       "      <td>NaN</td>\n",
       "      <td>alternative transliteration</td>\n",
       "      <td>0.0</td>\n",
       "    </tr>\n",
       "  </tbody>\n",
       "</table>\n",
       "</div>"
      ],
      "text/plain": [
       "      tconst primary_title original_title  start_year  runtime_minutes  \\\n",
       "0  tt0063540     Sunghursh      Sunghursh        2013            175.0   \n",
       "\n",
       "               genres   title_id  ordering      title region language types  \\\n",
       "0  Action,Crime,Drama  tt0063540         1  Sangharsh     IN       hi   NaN   \n",
       "\n",
       "                    attributes  is_original_title  \n",
       "0  alternative transliteration                0.0  "
      ]
     },
     "metadata": {},
     "output_type": "display_data"
    },
    {
     "data": {
      "text/html": [
       "<div>\n",
       "<style scoped>\n",
       "    .dataframe tbody tr th:only-of-type {\n",
       "        vertical-align: middle;\n",
       "    }\n",
       "\n",
       "    .dataframe tbody tr th {\n",
       "        vertical-align: top;\n",
       "    }\n",
       "\n",
       "    .dataframe thead th {\n",
       "        text-align: right;\n",
       "    }\n",
       "</style>\n",
       "<table border=\"1\" class=\"dataframe\">\n",
       "  <thead>\n",
       "    <tr style=\"text-align: right;\">\n",
       "      <th></th>\n",
       "      <th>Unnamed: 0</th>\n",
       "      <th>genre_ids</th>\n",
       "      <th>id_x</th>\n",
       "      <th>original_language</th>\n",
       "      <th>original_title</th>\n",
       "      <th>popularity</th>\n",
       "      <th>release_date_x</th>\n",
       "      <th>title</th>\n",
       "      <th>vote_average</th>\n",
       "      <th>vote_count</th>\n",
       "      <th>Mov_name</th>\n",
       "      <th>release_year</th>\n",
       "      <th>id_y</th>\n",
       "      <th>release_date_y</th>\n",
       "      <th>movie</th>\n",
       "      <th>production_budget</th>\n",
       "      <th>domestic_gross</th>\n",
       "      <th>worldwide_gross</th>\n",
       "    </tr>\n",
       "  </thead>\n",
       "  <tbody>\n",
       "    <tr>\n",
       "      <th>0</th>\n",
       "      <td>1</td>\n",
       "      <td>[14, 12, 16, 10751]</td>\n",
       "      <td>10191</td>\n",
       "      <td>en</td>\n",
       "      <td>How to Train Your Dragon</td>\n",
       "      <td>28.734</td>\n",
       "      <td>2010-03-26</td>\n",
       "      <td>How to Train Your Dragon</td>\n",
       "      <td>7.7</td>\n",
       "      <td>7610</td>\n",
       "      <td>howtotrainyourdragon</td>\n",
       "      <td>2010</td>\n",
       "      <td>30</td>\n",
       "      <td>Mar 26, 2010</td>\n",
       "      <td>How to Train Your Dragon</td>\n",
       "      <td>$165,000,000</td>\n",
       "      <td>$217,581,232</td>\n",
       "      <td>$494,870,992</td>\n",
       "    </tr>\n",
       "  </tbody>\n",
       "</table>\n",
       "</div>"
      ],
      "text/plain": [
       "   Unnamed: 0            genre_ids   id_x original_language  \\\n",
       "0           1  [14, 12, 16, 10751]  10191                en   \n",
       "\n",
       "             original_title  popularity release_date_x  \\\n",
       "0  How to Train Your Dragon      28.734     2010-03-26   \n",
       "\n",
       "                      title  vote_average  vote_count              Mov_name  \\\n",
       "0  How to Train Your Dragon           7.7        7610  howtotrainyourdragon   \n",
       "\n",
       "  release_year  id_y release_date_y                     movie  \\\n",
       "0         2010    30   Mar 26, 2010  How to Train Your Dragon   \n",
       "\n",
       "  production_budget domestic_gross worldwide_gross  \n",
       "0      $165,000,000   $217,581,232    $494,870,992  "
      ]
     },
     "execution_count": 8,
     "metadata": {},
     "output_type": "execute_result"
    }
   ],
   "source": [
    "display(imdb_df.head(1))\n",
    "tn_df.head(1)"
   ]
  },
  {
   "cell_type": "code",
   "execution_count": 9,
   "metadata": {},
   "outputs": [
    {
     "data": {
      "text/html": [
       "<div>\n",
       "<style scoped>\n",
       "    .dataframe tbody tr th:only-of-type {\n",
       "        vertical-align: middle;\n",
       "    }\n",
       "\n",
       "    .dataframe tbody tr th {\n",
       "        vertical-align: top;\n",
       "    }\n",
       "\n",
       "    .dataframe thead th {\n",
       "        text-align: right;\n",
       "    }\n",
       "</style>\n",
       "<table border=\"1\" class=\"dataframe\">\n",
       "  <thead>\n",
       "    <tr style=\"text-align: right;\">\n",
       "      <th></th>\n",
       "      <th>Unnamed: 0</th>\n",
       "      <th>genre_ids</th>\n",
       "      <th>id_x</th>\n",
       "      <th>original_language</th>\n",
       "      <th>original_title</th>\n",
       "      <th>popularity</th>\n",
       "      <th>release_date_x</th>\n",
       "      <th>title</th>\n",
       "      <th>vote_average</th>\n",
       "      <th>vote_count</th>\n",
       "      <th>Mov_name</th>\n",
       "      <th>release_year</th>\n",
       "      <th>id_y</th>\n",
       "      <th>release_date_y</th>\n",
       "      <th>movie</th>\n",
       "      <th>production_budget</th>\n",
       "      <th>domestic_gross</th>\n",
       "      <th>worldwide_gross</th>\n",
       "    </tr>\n",
       "  </thead>\n",
       "  <tbody>\n",
       "    <tr>\n",
       "      <th>0</th>\n",
       "      <td>1</td>\n",
       "      <td>[14, 12, 16, 10751]</td>\n",
       "      <td>10191</td>\n",
       "      <td>en</td>\n",
       "      <td>How to Train Your Dragon</td>\n",
       "      <td>28.734</td>\n",
       "      <td>2010-03-26</td>\n",
       "      <td>How to Train Your Dragon</td>\n",
       "      <td>7.7</td>\n",
       "      <td>7610</td>\n",
       "      <td>howtotrainyourdragon</td>\n",
       "      <td>2010</td>\n",
       "      <td>30</td>\n",
       "      <td>Mar 26, 2010</td>\n",
       "      <td>How to Train Your Dragon</td>\n",
       "      <td>$165,000,000</td>\n",
       "      <td>$217,581,232</td>\n",
       "      <td>$494,870,992</td>\n",
       "    </tr>\n",
       "  </tbody>\n",
       "</table>\n",
       "</div>"
      ],
      "text/plain": [
       "   Unnamed: 0            genre_ids   id_x original_language  \\\n",
       "0           1  [14, 12, 16, 10751]  10191                en   \n",
       "\n",
       "             original_title  popularity release_date_x  \\\n",
       "0  How to Train Your Dragon      28.734     2010-03-26   \n",
       "\n",
       "                      title  vote_average  vote_count              Mov_name  \\\n",
       "0  How to Train Your Dragon           7.7        7610  howtotrainyourdragon   \n",
       "\n",
       "  release_year  id_y release_date_y                     movie  \\\n",
       "0         2010    30   Mar 26, 2010  How to Train Your Dragon   \n",
       "\n",
       "  production_budget domestic_gross worldwide_gross  \n",
       "0      $165,000,000   $217,581,232    $494,870,992  "
      ]
     },
     "execution_count": 9,
     "metadata": {},
     "output_type": "execute_result"
    }
   ],
   "source": [
    "#created new column with movie names stripped\n",
    "imdb_df['Mov_name'] = imdb_df['primary_title'].str.lower().str.replace('[ \\'\\:\\,\\.]','').astype(str)\n",
    "\n",
    "imdb_df.head(1)\n",
    "tn_df.head(1)"
   ]
  },
  {
   "cell_type": "code",
   "execution_count": 10,
   "metadata": {},
   "outputs": [],
   "source": [
    "#create a new colum to include name and year of release\n",
    "imdb_df['name_year'] = imdb_df['Mov_name'] + imdb_df['start_year'].astype(str)\n",
    "tn_df['name_year'] = tn_df['Mov_name'] + tn_df['release_year'].astype(str)\n"
   ]
  },
  {
   "cell_type": "code",
   "execution_count": 11,
   "metadata": {},
   "outputs": [],
   "source": [
    "#new cost df joining imdb and tn keeping only values with the same name,year and has cost data\n",
    "budget_df = tn_df.merge(imdb_df, on = 'name_year', how = 'inner')"
   ]
  },
  {
   "cell_type": "code",
   "execution_count": null,
   "metadata": {},
   "outputs": [],
   "source": [
    "#p_cost.columns"
   ]
  },
  {
   "cell_type": "code",
   "execution_count": null,
   "metadata": {},
   "outputs": [],
   "source": [
    "#p_cost[['original_title_x','title_x', 'Mov_name', 'movie', 'primary_title','original_title_y','title_y']]"
   ]
  },
  {
   "cell_type": "code",
   "execution_count": 12,
   "metadata": {},
   "outputs": [],
   "source": [
    "#created two new columns to convert money strings to ints without punctuations\n",
    "budget_df[\"domestic_gross_$\"] = budget_df['domestic_gross'].str.lower().str.replace('[ \\'\\:\\,\\.\\$]','').astype(int)\n",
    "budget_df[\"worldwide_gross_$\"] = budget_df['worldwide_gross'].str.lower().str.replace('[ \\'\\:\\,\\.\\$]','').astype(int)"
   ]
  },
  {
   "cell_type": "code",
   "execution_count": 13,
   "metadata": {},
   "outputs": [],
   "source": [
    "#new column converting production budget into a usable format\n",
    "budget_df[\"production_$\"] = budget_df['production_budget'].str.lower().str.replace('[ \\'\\:\\,\\.\\$]','').astype(int)\n",
    "\n",
    "#new column with the sum of the gross\n",
    "budget_df['total_gross'] = budget_df[\"worldwide_gross_$\"] + budget_df[\"domestic_gross_$\"]\n",
    "\n",
    "#new colum with net value of the movie\n",
    "budget_df['net_cost'] = budget_df['total_gross'] - budget_df['production_$']\n",
    "\n",
    "\n",
    "#display(p_cost.columns)\n"
   ]
  },
  {
   "cell_type": "code",
   "execution_count": null,
   "metadata": {
    "scrolled": true
   },
   "outputs": [],
   "source": [
    "#p_cost[['movie','original_title_x','Mov_name','primary_title','title_y']]\n",
    "#p_cost[['original_title_x','title_x', 'movie', 'primary_title','original_title_y','title_y']]"
   ]
  },
  {
   "cell_type": "code",
   "execution_count": 14,
   "metadata": {},
   "outputs": [
    {
     "data": {
      "text/html": [
       "<div>\n",
       "<style scoped>\n",
       "    .dataframe tbody tr th:only-of-type {\n",
       "        vertical-align: middle;\n",
       "    }\n",
       "\n",
       "    .dataframe tbody tr th {\n",
       "        vertical-align: top;\n",
       "    }\n",
       "\n",
       "    .dataframe thead th {\n",
       "        text-align: right;\n",
       "    }\n",
       "</style>\n",
       "<table border=\"1\" class=\"dataframe\">\n",
       "  <thead>\n",
       "    <tr style=\"text-align: right;\">\n",
       "      <th></th>\n",
       "      <th>movie</th>\n",
       "      <th>genres</th>\n",
       "      <th>production_budget</th>\n",
       "      <th>domestic_gross</th>\n",
       "      <th>worldwide_gross</th>\n",
       "      <th>total_gross</th>\n",
       "      <th>net_cost</th>\n",
       "    </tr>\n",
       "  </thead>\n",
       "  <tbody>\n",
       "    <tr>\n",
       "      <th>0</th>\n",
       "      <td>How to Train Your Dragon</td>\n",
       "      <td>Action,Adventure,Animation</td>\n",
       "      <td>$165,000,000</td>\n",
       "      <td>$217,581,232</td>\n",
       "      <td>$494,870,992</td>\n",
       "      <td>712452224</td>\n",
       "      <td>547452224</td>\n",
       "    </tr>\n",
       "    <tr>\n",
       "      <th>1</th>\n",
       "      <td>How to Train Your Dragon</td>\n",
       "      <td>Action,Adventure,Animation</td>\n",
       "      <td>$165,000,000</td>\n",
       "      <td>$217,581,232</td>\n",
       "      <td>$494,870,992</td>\n",
       "      <td>712452224</td>\n",
       "      <td>547452224</td>\n",
       "    </tr>\n",
       "    <tr>\n",
       "      <th>2</th>\n",
       "      <td>How to Train Your Dragon</td>\n",
       "      <td>Action,Adventure,Animation</td>\n",
       "      <td>$165,000,000</td>\n",
       "      <td>$217,581,232</td>\n",
       "      <td>$494,870,992</td>\n",
       "      <td>712452224</td>\n",
       "      <td>547452224</td>\n",
       "    </tr>\n",
       "    <tr>\n",
       "      <th>3</th>\n",
       "      <td>How to Train Your Dragon</td>\n",
       "      <td>Action,Adventure,Animation</td>\n",
       "      <td>$165,000,000</td>\n",
       "      <td>$217,581,232</td>\n",
       "      <td>$494,870,992</td>\n",
       "      <td>712452224</td>\n",
       "      <td>547452224</td>\n",
       "    </tr>\n",
       "    <tr>\n",
       "      <th>4</th>\n",
       "      <td>How to Train Your Dragon</td>\n",
       "      <td>Action,Adventure,Animation</td>\n",
       "      <td>$165,000,000</td>\n",
       "      <td>$217,581,232</td>\n",
       "      <td>$494,870,992</td>\n",
       "      <td>712452224</td>\n",
       "      <td>547452224</td>\n",
       "    </tr>\n",
       "    <tr>\n",
       "      <th>...</th>\n",
       "      <td>...</td>\n",
       "      <td>...</td>\n",
       "      <td>...</td>\n",
       "      <td>...</td>\n",
       "      <td>...</td>\n",
       "      <td>...</td>\n",
       "      <td>...</td>\n",
       "    </tr>\n",
       "    <tr>\n",
       "      <th>43913</th>\n",
       "      <td>The Box</td>\n",
       "      <td>Thriller</td>\n",
       "      <td>$25,000,000</td>\n",
       "      <td>$15,051,977</td>\n",
       "      <td>$34,356,760</td>\n",
       "      <td>49408737</td>\n",
       "      <td>24408737</td>\n",
       "    </tr>\n",
       "    <tr>\n",
       "      <th>43914</th>\n",
       "      <td>The Box</td>\n",
       "      <td>Thriller</td>\n",
       "      <td>$25,000,000</td>\n",
       "      <td>$15,051,977</td>\n",
       "      <td>$34,356,760</td>\n",
       "      <td>49408737</td>\n",
       "      <td>24408737</td>\n",
       "    </tr>\n",
       "    <tr>\n",
       "      <th>43915</th>\n",
       "      <td>The Box</td>\n",
       "      <td>Thriller</td>\n",
       "      <td>$25,000,000</td>\n",
       "      <td>$15,051,977</td>\n",
       "      <td>$34,356,760</td>\n",
       "      <td>49408737</td>\n",
       "      <td>24408737</td>\n",
       "    </tr>\n",
       "    <tr>\n",
       "      <th>43916</th>\n",
       "      <td>The Box</td>\n",
       "      <td>Thriller</td>\n",
       "      <td>$25,000,000</td>\n",
       "      <td>$15,051,977</td>\n",
       "      <td>$34,356,760</td>\n",
       "      <td>49408737</td>\n",
       "      <td>24408737</td>\n",
       "    </tr>\n",
       "    <tr>\n",
       "      <th>43917</th>\n",
       "      <td>The Box</td>\n",
       "      <td>Thriller</td>\n",
       "      <td>$25,000,000</td>\n",
       "      <td>$15,051,977</td>\n",
       "      <td>$34,356,760</td>\n",
       "      <td>49408737</td>\n",
       "      <td>24408737</td>\n",
       "    </tr>\n",
       "  </tbody>\n",
       "</table>\n",
       "<p>43918 rows × 7 columns</p>\n",
       "</div>"
      ],
      "text/plain": [
       "                          movie                      genres production_budget  \\\n",
       "0      How to Train Your Dragon  Action,Adventure,Animation      $165,000,000   \n",
       "1      How to Train Your Dragon  Action,Adventure,Animation      $165,000,000   \n",
       "2      How to Train Your Dragon  Action,Adventure,Animation      $165,000,000   \n",
       "3      How to Train Your Dragon  Action,Adventure,Animation      $165,000,000   \n",
       "4      How to Train Your Dragon  Action,Adventure,Animation      $165,000,000   \n",
       "...                         ...                         ...               ...   \n",
       "43913                   The Box                    Thriller       $25,000,000   \n",
       "43914                   The Box                    Thriller       $25,000,000   \n",
       "43915                   The Box                    Thriller       $25,000,000   \n",
       "43916                   The Box                    Thriller       $25,000,000   \n",
       "43917                   The Box                    Thriller       $25,000,000   \n",
       "\n",
       "      domestic_gross worldwide_gross  total_gross   net_cost  \n",
       "0       $217,581,232    $494,870,992    712452224  547452224  \n",
       "1       $217,581,232    $494,870,992    712452224  547452224  \n",
       "2       $217,581,232    $494,870,992    712452224  547452224  \n",
       "3       $217,581,232    $494,870,992    712452224  547452224  \n",
       "4       $217,581,232    $494,870,992    712452224  547452224  \n",
       "...              ...             ...          ...        ...  \n",
       "43913    $15,051,977     $34,356,760     49408737   24408737  \n",
       "43914    $15,051,977     $34,356,760     49408737   24408737  \n",
       "43915    $15,051,977     $34,356,760     49408737   24408737  \n",
       "43916    $15,051,977     $34,356,760     49408737   24408737  \n",
       "43917    $15,051,977     $34,356,760     49408737   24408737  \n",
       "\n",
       "[43918 rows x 7 columns]"
      ]
     },
     "metadata": {},
     "output_type": "display_data"
    }
   ],
   "source": [
    "#new df with only relevant info and sorted by the total gross\n",
    "budget_df_simplified = budget_df[['movie','genres','production_budget','domestic_gross','worldwide_gross','total_gross','net_cost']]\n",
    "display(budget_df_simplified)\n",
    "all_budget_df = budget_df_simplified.drop_duplicates(keep ='first')\n",
    "#p_cost_simplified.sort_values(by= 'total_gross', ascending = False)"
   ]
  },
  {
   "cell_type": "code",
   "execution_count": 15,
   "metadata": {},
   "outputs": [
    {
     "name": "stderr",
     "output_type": "stream",
     "text": [
      "<ipython-input-15-f3603c3a1b5c>:1: SettingWithCopyWarning: \n",
      "A value is trying to be set on a copy of a slice from a DataFrame.\n",
      "Try using .loc[row_indexer,col_indexer] = value instead\n",
      "\n",
      "See the caveats in the documentation: https://pandas.pydata.org/pandas-docs/stable/user_guide/indexing.html#returning-a-view-versus-a-copy\n",
      "  all_budget_df['genres'] = all_budget_df['genres'].str.strip().str.split(',')\n"
     ]
    }
   ],
   "source": [
    "all_budget_df['genres'] = all_budget_df['genres'].str.strip().str.split(',')"
   ]
  },
  {
   "cell_type": "code",
   "execution_count": 19,
   "metadata": {},
   "outputs": [],
   "source": [
    "single_category_budget_df = all_budget_df.explode('genres')"
   ]
  },
  {
   "cell_type": "code",
   "execution_count": 26,
   "metadata": {},
   "outputs": [],
   "source": [
    "single_category_budget_df['net_cost'] = single_category_budget_df['net_cost'].astype(int)"
   ]
  },
  {
   "cell_type": "code",
   "execution_count": 42,
   "metadata": {},
   "outputs": [],
   "source": [
    "single_category_budget_df['earnings_in_millions'] = single_category_budget_df['net_cost']/1000000"
   ]
  },
  {
   "cell_type": "code",
   "execution_count": 46,
   "metadata": {
    "scrolled": true
   },
   "outputs": [
    {
     "data": {
      "text/plain": [
       "genres\n",
       "Animation    386.956611\n",
       "Musical      357.855580\n",
       "Adventure    348.977875\n",
       "Sci-Fi       322.598654\n",
       "Fantasy      255.712810\n",
       "Action       232.078663\n",
       "Family       200.019000\n",
       "Comedy       147.495145\n",
       "Thriller     105.645919\n",
       "Music        102.829682\n",
       "Name: earnings_in_millions, dtype: float64"
      ]
     },
     "execution_count": 46,
     "metadata": {},
     "output_type": "execute_result"
    }
   ],
   "source": [
    "top_10_cat = single_category_budget_df.groupby('genres')['earnings_in_millions'].mean().sort_values(ascending = False).head(10)\n",
    "top_10_cat\n"
   ]
  },
  {
   "cell_type": "code",
   "execution_count": 57,
   "metadata": {},
   "outputs": [
    {
     "data": {
      "image/png": "[encoded data removed]",
      "text/plain": [
       "<Figure size 432x288 with 1 Axes>"
      ]
     },
     "metadata": {
      "needs_background": "light"
     },
     "output_type": "display_data"
    }
   ],
   "source": [
    "top_10_cat.plot.bar(xlabel = 'Genres',ylabel = 'Net Profit\\n (Millions)',title= \"Top 10 Money Making Movie Genres\",rot = 45);"
   ]
  },
  {
   "cell_type": "code",
   "execution_count": 58,
   "metadata": {},
   "outputs": [],
   "source": [
    "#single_category_budget_df.plot.bar(x ='genres', y = 'net_cost'.mean())"
   ]
  },
  {
   "cell_type": "code",
   "execution_count": null,
   "metadata": {},
   "outputs": [],
   "source": [
    "#filtered to see all movies with more than $0 global gross\n",
    "#p_cost_simp_filter = p_cost_simplified[p_cost_simplified['total_gross']>0]\n",
    "#p_cost_simp_filter.sort_values(by= 'total_gross', ascending = False).head()"
   ]
  },
  {
   "cell_type": "code",
   "execution_count": null,
   "metadata": {},
   "outputs": [],
   "source": [
    "#fig, ax ="
   ]
  },
  {
   "cell_type": "code",
   "execution_count": null,
   "metadata": {},
   "outputs": [],
   "source": []
  },
  {
   "cell_type": "code",
   "execution_count": null,
   "metadata": {},
   "outputs": [],
   "source": []
  },
  {
   "cell_type": "code",
   "execution_count": null,
   "metadata": {},
   "outputs": [],
   "source": [
    "############################################"
   ]
  },
  {
   "cell_type": "code",
   "execution_count": null,
   "metadata": {},
   "outputs": [],
   "source": [
    "#tn_db = tn_mov_df.join(tndb_df, on='id', how = 'left',lsuffix = \" combined\")\n",
    "#tn_db.head()\n"
   ]
  },
  {
   "cell_type": "code",
   "execution_count": null,
   "metadata": {},
   "outputs": [],
   "source": [
    "'''\n",
    "\n",
    "\n",
    "tndb_df[\"Mov_name\"] = tndb_df['movie'].str.lower().str.replace('[ \\'\\:\\,\\.]','').astype(str)\n",
    "tn_mov_df[\"Mov_name\"] = tn_mov_df['title'].str.lower().str.replace('[ \\'\\:\\,\\.]','').astype(str)\n",
    "akas_df[\"Mov_name\"] = akas_df['title'].str.lower().str.replace('[ \\'\\:\\,\\.]','').astype(str)\n",
    "basics_df['Mov_name'] = basics_df['primary_title'].str.lower().str.replace('[ \\'\\:\\,\\.]','').astype(str)\n",
    "'''\n",
    "\n",
    "\n",
    "#def simplify_title(df_col):\n",
    "#    df_col['Mov_name'] = df_col.str.lower().str.replace('[ \\'\\:\\,\\.]','').astype(str)\n",
    "display(akas_df.head(1))\n",
    "#tn_mov_df.head(1)\n",
    "basics_df.head(1)"
   ]
  },
  {
   "cell_type": "code",
   "execution_count": null,
   "metadata": {},
   "outputs": [],
   "source": [
    "imdb_db = basics_df.join(akas_df,lsuffix ='title_id',rsuffix = \"tconst\",how = \"outer\")\n",
    "imdb_db"
   ]
  },
  {
   "cell_type": "code",
   "execution_count": null,
   "metadata": {},
   "outputs": [],
   "source": []
  },
  {
   "cell_type": "code",
   "execution_count": null,
   "metadata": {},
   "outputs": [],
   "source": []
  },
  {
   "cell_type": "code",
   "execution_count": null,
   "metadata": {},
   "outputs": [],
   "source": []
  },
  {
   "cell_type": "code",
   "execution_count": null,
   "metadata": {},
   "outputs": [],
   "source": []
  },
  {
   "cell_type": "code",
   "execution_count": null,
   "metadata": {},
   "outputs": [],
   "source": []
  },
  {
   "cell_type": "code",
   "execution_count": null,
   "metadata": {},
   "outputs": [],
   "source": [
    "#display(tndb_df.head(1))\n",
    "#display(tn_mov_df.head(1))\n",
    "#akas_df.head(1)"
   ]
  },
  {
   "cell_type": "code",
   "execution_count": null,
   "metadata": {},
   "outputs": [],
   "source": [
    "#tn_db = tn_mov_df.merge(tndb_df, on = 'Mov_name', how = 'left')\n",
    "#tn_db.head()"
   ]
  },
  {
   "cell_type": "code",
   "execution_count": null,
   "metadata": {},
   "outputs": [],
   "source": [
    "#tn_db.info()\n",
    "\n",
    "#tn_imdb_db = akas_df.merge(tn_db, on = 'Mov_name', how = 'left')\n",
    "#tn_imdb_db.info()\n",
    "#tn_imdb_db.head(10)"
   ]
  },
  {
   "cell_type": "code",
   "execution_count": null,
   "metadata": {},
   "outputs": [],
   "source": [
    "#tn_df['Mov_name'] = tn_df['Mov_name'].str.replace('[ \\'\\:\\,\\.]','')"
   ]
  },
  {
   "cell_type": "code",
   "execution_count": null,
   "metadata": {},
   "outputs": [],
   "source": [
    "#tn_info_df = tn_mov_df.join(tndb_df, how = \"inner\")"
   ]
  },
  {
   "cell_type": "code",
   "execution_count": null,
   "metadata": {},
   "outputs": [],
   "source": []
  }
 ],
 "metadata": {
  "kernelspec": {
   "display_name": "Python (learn-env)",
   "language": "python",
   "name": "learn-env"
  },
  "language_info": {
   "codemirror_mode": {
    "name": "ipython",
    "version": 3
   },
   "file_extension": ".py",
   "mimetype": "text/x-python",
   "name": "python",
   "nbconvert_exporter": "python",
   "pygments_lexer": "ipython3",
   "version": "3.8.5"
  }
 },
 "nbformat": 4,
 "nbformat_minor": 4
}
