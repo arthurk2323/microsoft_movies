{
 "cells": [
  {
   "cell_type": "code",
<<<<<<< HEAD
   "execution_count": 2,
=======
   "execution_count": 1,
>>>>>>> main
   "metadata": {},
   "outputs": [
    {
     "name": "stdout",
     "output_type": "stream",
     "text": [
      "ls: Data: No such file or directory\r\n"
     ]
    }
   ],
   "source": [
    "#!ls Data"
   ]
  },
  {
   "cell_type": "code",
<<<<<<< HEAD
   "execution_count": 3,
=======
   "execution_count": 2,
>>>>>>> main
   "metadata": {},
   "outputs": [
    {
     "name": "stdout",
     "output_type": "stream",
     "text": [
      "/Users/miafryer/Documents/flatiron_ds/phase 1/project1/microsoft_movies\n"
     ]
    }
   ],
   "source": [
    "cd ../.."
   ]
  },
  {
   "cell_type": "code",
<<<<<<< HEAD
   "execution_count": 4,
=======
   "execution_count": 3,
>>>>>>> main
   "metadata": {},
   "outputs": [],
   "source": [
    "import pandas as pd\n",
    "import numpy as np\n",
    "import matplotlib.pyplot as plt\n",
    "import seaborn as sns\n",
    "\n",
    "%matplotlib inline"
   ]
  },
  {
   "cell_type": "code",
<<<<<<< HEAD
   "execution_count": 5,
=======
   "execution_count": 4,
>>>>>>> main
   "metadata": {},
   "outputs": [],
   "source": [
    "#import the four relevent schemas to the budget and genres\n",
    "tndb_df = pd.read_csv('Data/tn.movie_budgets.csv')\n",
    "tn_mov_df = pd.read_csv('Data/tmdb.movies.csv')\n",
    "akas_df = pd.read_csv('Data/imdb.title.akas.csv')\n",
<<<<<<< HEAD
    "basics_df = pd.read_csv('Data/imdb.title.basics.csv')\n",
    "#basics_df.head(1)\n",
    "#tn_mov_df.shape\n",
    "#tndb_df.info()"
   ]
  },
  {
   "cell_type": "code",
   "execution_count": 6,
   "metadata": {},
   "outputs": [],
   "source": [
    "#basics_df.loc[basics_df['primary_title'].str.contains(\"Avat\"),'primary_title']\n",
    "#basics_df.groupby(basics_df['primary_title'])"
   ]
  },
  {
   "cell_type": "code",
   "execution_count": 7,
   "metadata": {
    "scrolled": true
   },
   "outputs": [],
   "source": [
    "#display(tn_mov_df.shape)\n",
    "#tn_mov_df['popularity'].unique\n",
    "#no idea what how they measure popularity so this data will not be used"
=======
    "basics_df = pd.read_csv('Data/imdb.title.basics.csv')"
>>>>>>> main
   ]
  },
  {
   "cell_type": "code",
<<<<<<< HEAD
   "execution_count": 8,
=======
   "execution_count": 5,
>>>>>>> main
   "metadata": {},
   "outputs": [],
   "source": [
    "#removed all punctuations to movie titles on the two schemas\n",
    "tndb_df[\"Mov_name\"] = tndb_df['movie'].str.lower().str.replace('[ \\'\\:\\,\\.]','').astype(str)\n",
    "tn_mov_df[\"Mov_name\"] = tn_mov_df['title'].str.lower().str.replace('[ \\'\\:\\,\\.]','').astype(str)\n",
    "\n",
    "\n",
    "#creates new column with only the release year of the movie\n",
    "tn_mov_df['release_year'] = tn_mov_df['release_date'].astype(str).str[:4]\n",
    "\n",
    "\n",
    "\n",
    "#########################\n",
    "'''\n",
    "def strip_and_add_col_fnc (new_col_name,old_col_name,df):\n",
    "    df[new_col_name] = df[old_col].str.lower().str.replace('[ \\'\\:\\,\\.]','').astype(str)\n",
    "    return df\n",
    "\n",
    "\n",
    "\n",
    "strip_and_add_col_fnc(\"Mov_name\",'movie',tndb_df)\n",
    "strip_and_add_col_fnc(\"Mov_name\",'title',tn_mov_df)\n",
    "\n",
    "'''"
   ]
  },
  {
   "cell_type": "code",
<<<<<<< HEAD
   "execution_count": 9,
=======
   "execution_count": 6,
>>>>>>> main
   "metadata": {
    "scrolled": false
   },
   "outputs": [],
   "source": [
    "#merged the two schemas with constant id\n",
    "#rt_df = info_df.merge(reviews_df, on='id')\n",
    "imdb_df = basics_df.merge(akas_df,left_on ='tconst',right_on = \"title_id\",how = \"inner\") \n",
    "\n",
    "#merged tn and tndb to create new db, keeping values only the same movie names \n",
    "tn_df = tn_mov_df.merge(tndb_df, on = 'Mov_name', how = 'inner')"
   ]
  },
  {
   "cell_type": "code",
<<<<<<< HEAD
   "execution_count": 10,
   "metadata": {},
   "outputs": [],
   "source": [
    "#imdb_df"
   ]
  },
  {
   "cell_type": "code",
   "execution_count": 11,
   "metadata": {},
   "outputs": [],
   "source": [
    "#display(imdb_df.head(1))\n",
    "#tn_df.head(1)"
   ]
  },
  {
   "cell_type": "code",
   "execution_count": 12,
=======
   "execution_count": 7,
>>>>>>> main
   "metadata": {},
   "outputs": [],
   "source": [
    "#created new column with movie names stripped\n",
    "imdb_df['Mov_name'] = imdb_df['primary_title'].str.lower().str.replace('[ \\'\\:\\,\\.]','').astype(str)\n",
    "\n",
    "#########################\n",
    "'''\n",
    "strip_and_add_col_fnc('Mov_name','primary_title',imdb_df)\n",
    "\n",
    "'''"
   ]
  },
  {
   "cell_type": "code",
<<<<<<< HEAD
   "execution_count": 13,
=======
   "execution_count": 8,
>>>>>>> main
   "metadata": {},
   "outputs": [],
   "source": [
    "#create a new colum to include name and year of release\n",
    "imdb_df['name_year'] = imdb_df['Mov_name'] + imdb_df['start_year'].astype(str)\n",
    "tn_df['name_year'] = tn_df['Mov_name'] + tn_df['release_year'].astype(str)"
   ]
  },
  {
   "cell_type": "code",
<<<<<<< HEAD
   "execution_count": 14,
=======
   "execution_count": 9,
>>>>>>> main
   "metadata": {},
   "outputs": [],
   "source": [
    "#new cost df joining imdb and tn keeping only values with the same name,year and has cost data\n",
    "budget_df = tn_df.merge(imdb_df, on = 'name_year', how = 'inner')"
   ]
  },
  {
   "cell_type": "code",
<<<<<<< HEAD
   "execution_count": 15,
   "metadata": {},
   "outputs": [],
   "source": [
    "#p_cost.columns"
   ]
  },
  {
   "cell_type": "code",
   "execution_count": 16,
   "metadata": {},
   "outputs": [],
   "source": [
    "#p_cost[['original_title_x','title_x', 'Mov_name', 'movie', 'primary_title','original_title_y','title_y']]"
   ]
  },
  {
   "cell_type": "code",
   "execution_count": 17,
=======
   "execution_count": 10,
>>>>>>> main
   "metadata": {},
   "outputs": [],
   "source": [
    "#created two new columns to convert money strings to ints without punctuations\n",
    "budget_df[\"domestic_gross_$\"] = budget_df['domestic_gross'].str.lower().str.replace('[ \\'\\:\\,\\.\\$]','').astype(int)\n",
    "budget_df[\"worldwide_gross_$\"] = budget_df['worldwide_gross'].str.lower().str.replace('[ \\'\\:\\,\\.\\$]','').astype(int)"
   ]
  },
  {
   "cell_type": "code",
<<<<<<< HEAD
   "execution_count": 18,
=======
   "execution_count": 11,
>>>>>>> main
   "metadata": {},
   "outputs": [],
   "source": [
    "#new column converting production budget into a usable format\n",
    "budget_df[\"production_$\"] = budget_df['production_budget'].str.lower().str.replace('[ \\'\\:\\,\\.\\$]','').astype(int)\n",
    "\n",
    "#new column with the sum of the gross\n",
    "budget_df['international_gross'] = budget_df[\"worldwide_gross_$\"] - budget_df[\"domestic_gross_$\"]\n",
    "\n",
    "#new colum with net value of the movie\n",
    "budget_df['net_gain'] = budget_df['worldwide_gross_$'] - budget_df['production_$']\n"
   ]
  },
  {
   "cell_type": "code",
<<<<<<< HEAD
   "execution_count": 19,
   "metadata": {
    "scrolled": true
   },
=======
   "execution_count": 12,
   "metadata": {},
>>>>>>> main
   "outputs": [],
   "source": [
    "#check the colums of budget_Df\n",
    "#budget_df.columns"
   ]
  },
  {
   "cell_type": "code",
<<<<<<< HEAD
   "execution_count": 20,
=======
   "execution_count": 13,
>>>>>>> main
   "metadata": {},
   "outputs": [
    {
     "data": {
      "text/html": [
       "<div>\n",
       "<style scoped>\n",
       "    .dataframe tbody tr th:only-of-type {\n",
       "        vertical-align: middle;\n",
       "    }\n",
       "\n",
       "    .dataframe tbody tr th {\n",
       "        vertical-align: top;\n",
       "    }\n",
       "\n",
       "    .dataframe thead th {\n",
       "        text-align: right;\n",
       "    }\n",
       "</style>\n",
       "<table border=\"1\" class=\"dataframe\">\n",
       "  <thead>\n",
       "    <tr style=\"text-align: right;\">\n",
       "      <th></th>\n",
       "      <th>movie</th>\n",
       "      <th>genres</th>\n",
       "      <th>production_budget</th>\n",
       "      <th>domestic_gross</th>\n",
       "      <th>worldwide_gross</th>\n",
       "      <th>net_gain</th>\n",
       "      <th>domestic_gross_$</th>\n",
       "      <th>worldwide_gross_$</th>\n",
       "      <th>international_gross</th>\n",
       "    </tr>\n",
       "  </thead>\n",
       "  <tbody>\n",
       "    <tr>\n",
       "      <th>0</th>\n",
       "      <td>How to Train Your Dragon</td>\n",
       "      <td>Action,Adventure,Animation</td>\n",
       "      <td>$165,000,000</td>\n",
       "      <td>$217,581,232</td>\n",
       "      <td>$494,870,992</td>\n",
       "      <td>329870992</td>\n",
       "      <td>217581232</td>\n",
       "      <td>494870992</td>\n",
       "      <td>277289760</td>\n",
       "    </tr>\n",
       "    <tr>\n",
       "      <th>1</th>\n",
       "      <td>How to Train Your Dragon</td>\n",
       "      <td>Action,Adventure,Animation</td>\n",
       "      <td>$165,000,000</td>\n",
       "      <td>$217,581,232</td>\n",
       "      <td>$494,870,992</td>\n",
       "      <td>329870992</td>\n",
       "      <td>217581232</td>\n",
       "      <td>494870992</td>\n",
       "      <td>277289760</td>\n",
       "    </tr>\n",
       "    <tr>\n",
       "      <th>2</th>\n",
       "      <td>How to Train Your Dragon</td>\n",
       "      <td>Action,Adventure,Animation</td>\n",
       "      <td>$165,000,000</td>\n",
       "      <td>$217,581,232</td>\n",
       "      <td>$494,870,992</td>\n",
       "      <td>329870992</td>\n",
       "      <td>217581232</td>\n",
       "      <td>494870992</td>\n",
       "      <td>277289760</td>\n",
       "    </tr>\n",
       "  </tbody>\n",
       "</table>\n",
       "</div>"
      ],
      "text/plain": [
       "                      movie                      genres production_budget  \\\n",
       "0  How to Train Your Dragon  Action,Adventure,Animation      $165,000,000   \n",
       "1  How to Train Your Dragon  Action,Adventure,Animation      $165,000,000   \n",
       "2  How to Train Your Dragon  Action,Adventure,Animation      $165,000,000   \n",
       "\n",
       "  domestic_gross worldwide_gross   net_gain  domestic_gross_$  \\\n",
       "0   $217,581,232    $494,870,992  329870992         217581232   \n",
       "1   $217,581,232    $494,870,992  329870992         217581232   \n",
       "2   $217,581,232    $494,870,992  329870992         217581232   \n",
       "\n",
       "   worldwide_gross_$  international_gross  \n",
       "0          494870992            277289760  \n",
       "1          494870992            277289760  \n",
       "2          494870992            277289760  "
      ]
     },
     "metadata": {},
     "output_type": "display_data"
    },
    {
     "data": {
      "text/html": [
       "<div>\n",
       "<style scoped>\n",
       "    .dataframe tbody tr th:only-of-type {\n",
       "        vertical-align: middle;\n",
       "    }\n",
       "\n",
       "    .dataframe tbody tr th {\n",
       "        vertical-align: top;\n",
       "    }\n",
       "\n",
       "    .dataframe thead th {\n",
       "        text-align: right;\n",
       "    }\n",
       "</style>\n",
       "<table border=\"1\" class=\"dataframe\">\n",
       "  <thead>\n",
       "    <tr style=\"text-align: right;\">\n",
       "      <th></th>\n",
       "      <th>movie</th>\n",
       "      <th>genres</th>\n",
       "      <th>production_budget</th>\n",
       "      <th>domestic_gross</th>\n",
       "      <th>worldwide_gross</th>\n",
       "      <th>net_gain</th>\n",
       "      <th>domestic_gross_$</th>\n",
       "      <th>worldwide_gross_$</th>\n",
       "      <th>international_gross</th>\n",
       "    </tr>\n",
       "  </thead>\n",
       "  <tbody>\n",
       "    <tr>\n",
       "      <th>0</th>\n",
       "      <td>How to Train Your Dragon</td>\n",
       "      <td>Action,Adventure,Animation</td>\n",
       "      <td>$165,000,000</td>\n",
       "      <td>$217,581,232</td>\n",
       "      <td>$494,870,992</td>\n",
       "      <td>329870992</td>\n",
       "      <td>217581232</td>\n",
       "      <td>494870992</td>\n",
       "      <td>277289760</td>\n",
       "    </tr>\n",
       "    <tr>\n",
       "      <th>44</th>\n",
       "      <td>Iron Man 2</td>\n",
       "      <td>Action,Adventure,Sci-Fi</td>\n",
       "      <td>$170,000,000</td>\n",
       "      <td>$312,433,331</td>\n",
       "      <td>$621,156,389</td>\n",
       "      <td>451156389</td>\n",
       "      <td>312433331</td>\n",
       "      <td>621156389</td>\n",
       "      <td>308723058</td>\n",
       "    </tr>\n",
       "    <tr>\n",
       "      <th>82</th>\n",
       "      <td>Inception</td>\n",
       "      <td>Action,Adventure,Sci-Fi</td>\n",
       "      <td>$160,000,000</td>\n",
       "      <td>$292,576,195</td>\n",
       "      <td>$835,524,642</td>\n",
       "      <td>675524642</td>\n",
       "      <td>292576195</td>\n",
       "      <td>835524642</td>\n",
       "      <td>542948447</td>\n",
       "    </tr>\n",
       "  </tbody>\n",
       "</table>\n",
       "</div>"
      ],
      "text/plain": [
       "                       movie                      genres production_budget  \\\n",
       "0   How to Train Your Dragon  Action,Adventure,Animation      $165,000,000   \n",
       "44                Iron Man 2     Action,Adventure,Sci-Fi      $170,000,000   \n",
       "82                 Inception     Action,Adventure,Sci-Fi      $160,000,000   \n",
       "\n",
       "   domestic_gross worldwide_gross   net_gain  domestic_gross_$  \\\n",
       "0    $217,581,232    $494,870,992  329870992         217581232   \n",
       "44   $312,433,331    $621,156,389  451156389         312433331   \n",
       "82   $292,576,195    $835,524,642  675524642         292576195   \n",
       "\n",
       "    worldwide_gross_$  international_gross  \n",
       "0           494870992            277289760  \n",
       "44          621156389            308723058  \n",
       "82          835524642            542948447  "
      ]
     },
     "execution_count": 13,
     "metadata": {},
     "output_type": "execute_result"
    }
   ],
   "source": [
    "#new df with only relevant info and sorted by the total gross\n",
    "budget_df_simplified = budget_df[['movie','genres','production_budget','domestic_gross','worldwide_gross','net_gain','domestic_gross_$','worldwide_gross_$','international_gross']]\n",
    "all_budget_df = budget_df_simplified.drop_duplicates(keep ='first').copy()\n",
    "\n",
    "display(budget_df_simplified.head(3))\n",
    "all_budget_df.head(3)"
   ]
  },
  {
   "cell_type": "code",
<<<<<<< HEAD
   "execution_count": 21,
=======
   "execution_count": 14,
>>>>>>> main
   "metadata": {},
   "outputs": [],
   "source": [
    "#splits the genres and creates a list to be exploded\n",
    "all_budget_df['genres'] = all_budget_df['genres'].str.strip().str.split(',')"
   ]
  },
  {
   "cell_type": "code",
<<<<<<< HEAD
   "execution_count": 22,
=======
   "execution_count": 15,
>>>>>>> main
   "metadata": {},
   "outputs": [],
   "source": [
    "#exploded the genres column to isolate genres\n",
    "single_category_budget_df = all_budget_df.explode('genres')"
   ]
  },
  {
   "cell_type": "code",
<<<<<<< HEAD
   "execution_count": 23,
=======
   "execution_count": 16,
>>>>>>> main
   "metadata": {},
   "outputs": [],
   "source": [
    "#chcanges the net_cost to int type\n",
    "single_category_budget_df['net_gain'] = single_category_budget_df['net_gain'].astype(int)"
   ]
  },
  {
   "cell_type": "code",
<<<<<<< HEAD
   "execution_count": 24,
=======
   "execution_count": 17,
>>>>>>> main
   "metadata": {},
   "outputs": [
    {
     "data": {
      "text/html": [
       "<div>\n",
       "<style scoped>\n",
       "    .dataframe tbody tr th:only-of-type {\n",
       "        vertical-align: middle;\n",
       "    }\n",
       "\n",
       "    .dataframe tbody tr th {\n",
       "        vertical-align: top;\n",
       "    }\n",
       "\n",
       "    .dataframe thead th {\n",
       "        text-align: right;\n",
       "    }\n",
       "</style>\n",
       "<table border=\"1\" class=\"dataframe\">\n",
       "  <thead>\n",
       "    <tr style=\"text-align: right;\">\n",
       "      <th></th>\n",
       "      <th>movie</th>\n",
       "      <th>genres</th>\n",
       "      <th>production_budget</th>\n",
       "      <th>domestic_gross</th>\n",
       "      <th>worldwide_gross</th>\n",
<<<<<<< HEAD
       "      <th>total_gross</th>\n",
       "      <th>net_cost</th>\n",
=======
       "      <th>net_gain</th>\n",
       "      <th>domestic_gross_$</th>\n",
       "      <th>worldwide_gross_$</th>\n",
       "      <th>international_gross</th>\n",
>>>>>>> main
       "    </tr>\n",
       "  </thead>\n",
       "  <tbody>\n",
       "    <tr>\n",
       "      <th>0</th>\n",
       "      <td>How to Train Your Dragon</td>\n",
       "      <td>Action</td>\n",
       "      <td>$165,000,000</td>\n",
       "      <td>$217,581,232</td>\n",
       "      <td>$494,870,992</td>\n",
<<<<<<< HEAD
       "      <td>712452224</td>\n",
       "      <td>547452224</td>\n",
=======
       "      <td>329870992</td>\n",
       "      <td>217581232</td>\n",
       "      <td>494870992</td>\n",
       "      <td>277289760</td>\n",
>>>>>>> main
       "    </tr>\n",
       "  </tbody>\n",
       "</table>\n",
       "</div>"
      ],
      "text/plain": [
       "                      movie  genres production_budget domestic_gross  \\\n",
       "0  How to Train Your Dragon  Action      $165,000,000   $217,581,232   \n",
       "\n",
<<<<<<< HEAD
       "  worldwide_gross  total_gross   net_cost  \n",
       "0    $494,870,992    712452224  547452224  "
      ]
     },
     "execution_count": 24,
=======
       "  worldwide_gross   net_gain  domestic_gross_$  worldwide_gross_$  \\\n",
       "0    $494,870,992  329870992         217581232          494870992   \n",
       "\n",
       "   international_gross  \n",
       "0            277289760  "
      ]
     },
     "execution_count": 17,
>>>>>>> main
     "metadata": {},
     "output_type": "execute_result"
    }
   ],
   "source": [
    "single_category_budget_df.head(1)\n"
   ]
  },
  {
   "cell_type": "code",
<<<<<<< HEAD
   "execution_count": 25,
=======
   "execution_count": 18,
>>>>>>> main
   "metadata": {
    "scrolled": false
   },
   "outputs": [
    {
     "data": {
      "text/html": [
       "<div>\n",
       "<style scoped>\n",
       "    .dataframe tbody tr th:only-of-type {\n",
       "        vertical-align: middle;\n",
       "    }\n",
       "\n",
       "    .dataframe tbody tr th {\n",
       "        vertical-align: top;\n",
       "    }\n",
       "\n",
       "    .dataframe thead th {\n",
       "        text-align: right;\n",
       "    }\n",
       "</style>\n",
       "<table border=\"1\" class=\"dataframe\">\n",
       "  <thead>\n",
       "    <tr style=\"text-align: right;\">\n",
       "      <th></th>\n",
       "      <th>movie</th>\n",
       "      <th>production_budget</th>\n",
       "      <th>domestic_gross</th>\n",
       "      <th>worldwide_gross</th>\n",
<<<<<<< HEAD
       "      <th>total_gross</th>\n",
       "      <th>net_cost</th>\n",
=======
       "      <th>net_gain</th>\n",
       "      <th>domestic_gross_$</th>\n",
       "      <th>worldwide_gross_$</th>\n",
       "      <th>international_gross</th>\n",
>>>>>>> main
       "    </tr>\n",
       "    <tr>\n",
       "      <th>genres</th>\n",
       "      <th></th>\n",
       "      <th></th>\n",
       "      <th></th>\n",
       "      <th></th>\n",
       "      <th></th>\n",
       "      <th></th>\n",
<<<<<<< HEAD
=======
       "      <th></th>\n",
       "      <th></th>\n",
>>>>>>> main
       "    </tr>\n",
       "  </thead>\n",
       "  <tbody>\n",
       "    <tr>\n",
       "      <th>Action</th>\n",
       "      <td>500</td>\n",
       "      <td>500</td>\n",
       "      <td>500</td>\n",
       "      <td>500</td>\n",
       "      <td>500</td>\n",
       "      <td>500</td>\n",
<<<<<<< HEAD
       "    </tr>\n",
       "    <tr>\n",
       "      <th>Adventure</th>\n",
       "      <td>381</td>\n",
       "      <td>381</td>\n",
       "      <td>381</td>\n",
       "      <td>381</td>\n",
       "      <td>381</td>\n",
       "      <td>381</td>\n",
       "    </tr>\n",
       "    <tr>\n",
       "      <th>Animation</th>\n",
       "      <td>112</td>\n",
       "      <td>112</td>\n",
       "      <td>112</td>\n",
       "      <td>112</td>\n",
       "      <td>112</td>\n",
       "      <td>112</td>\n",
       "    </tr>\n",
       "    <tr>\n",
       "      <th>Biography</th>\n",
       "      <td>151</td>\n",
       "      <td>151</td>\n",
       "      <td>151</td>\n",
       "      <td>151</td>\n",
       "      <td>151</td>\n",
       "      <td>151</td>\n",
       "    </tr>\n",
       "    <tr>\n",
       "      <th>Comedy</th>\n",
       "      <td>572</td>\n",
       "      <td>572</td>\n",
       "      <td>572</td>\n",
       "      <td>572</td>\n",
       "      <td>572</td>\n",
       "      <td>572</td>\n",
       "    </tr>\n",
       "    <tr>\n",
       "      <th>Crime</th>\n",
       "      <td>269</td>\n",
       "      <td>269</td>\n",
       "      <td>269</td>\n",
       "      <td>269</td>\n",
       "      <td>269</td>\n",
       "      <td>269</td>\n",
       "    </tr>\n",
       "    <tr>\n",
       "      <th>Documentary</th>\n",
       "      <td>108</td>\n",
       "      <td>108</td>\n",
       "      <td>108</td>\n",
       "      <td>108</td>\n",
       "      <td>108</td>\n",
       "      <td>108</td>\n",
       "    </tr>\n",
       "    <tr>\n",
       "      <th>Drama</th>\n",
       "      <td>916</td>\n",
       "      <td>916</td>\n",
       "      <td>916</td>\n",
       "      <td>916</td>\n",
       "      <td>916</td>\n",
       "      <td>916</td>\n",
       "    </tr>\n",
       "    <tr>\n",
       "      <th>Family</th>\n",
       "      <td>115</td>\n",
       "      <td>115</td>\n",
       "      <td>115</td>\n",
       "      <td>115</td>\n",
       "      <td>115</td>\n",
       "      <td>115</td>\n",
       "    </tr>\n",
       "    <tr>\n",
       "      <th>Fantasy</th>\n",
       "      <td>150</td>\n",
       "      <td>150</td>\n",
       "      <td>150</td>\n",
       "      <td>150</td>\n",
       "      <td>150</td>\n",
       "      <td>150</td>\n",
       "    </tr>\n",
       "    <tr>\n",
       "      <th>History</th>\n",
       "      <td>45</td>\n",
       "      <td>45</td>\n",
       "      <td>45</td>\n",
       "      <td>45</td>\n",
       "      <td>45</td>\n",
       "      <td>45</td>\n",
       "    </tr>\n",
       "    <tr>\n",
       "      <th>Horror</th>\n",
       "      <td>248</td>\n",
       "      <td>248</td>\n",
       "      <td>248</td>\n",
       "      <td>248</td>\n",
       "      <td>248</td>\n",
       "      <td>248</td>\n",
       "    </tr>\n",
       "    <tr>\n",
       "      <th>Music</th>\n",
       "      <td>52</td>\n",
       "      <td>52</td>\n",
       "      <td>52</td>\n",
       "      <td>52</td>\n",
       "      <td>52</td>\n",
       "      <td>52</td>\n",
       "    </tr>\n",
       "    <tr>\n",
       "      <th>Musical</th>\n",
       "      <td>12</td>\n",
       "      <td>12</td>\n",
       "      <td>12</td>\n",
       "      <td>12</td>\n",
       "      <td>12</td>\n",
       "      <td>12</td>\n",
       "    </tr>\n",
       "    <tr>\n",
       "      <th>Mystery</th>\n",
       "      <td>150</td>\n",
       "      <td>150</td>\n",
       "      <td>150</td>\n",
       "      <td>150</td>\n",
       "      <td>150</td>\n",
       "      <td>150</td>\n",
       "    </tr>\n",
       "    <tr>\n",
       "      <th>News</th>\n",
       "      <td>1</td>\n",
       "      <td>1</td>\n",
       "      <td>1</td>\n",
       "      <td>1</td>\n",
       "      <td>1</td>\n",
       "      <td>1</td>\n",
       "    </tr>\n",
       "    <tr>\n",
       "      <th>Reality-TV</th>\n",
       "      <td>1</td>\n",
       "      <td>1</td>\n",
       "      <td>1</td>\n",
       "      <td>1</td>\n",
       "      <td>1</td>\n",
       "      <td>1</td>\n",
       "    </tr>\n",
       "    <tr>\n",
       "      <th>Romance</th>\n",
       "      <td>236</td>\n",
       "      <td>236</td>\n",
       "      <td>236</td>\n",
       "      <td>236</td>\n",
       "      <td>236</td>\n",
       "      <td>236</td>\n",
       "    </tr>\n",
       "    <tr>\n",
       "      <th>Sci-Fi</th>\n",
       "      <td>158</td>\n",
       "      <td>158</td>\n",
       "      <td>158</td>\n",
       "      <td>158</td>\n",
       "      <td>158</td>\n",
       "      <td>158</td>\n",
       "    </tr>\n",
       "    <tr>\n",
       "      <th>Sport</th>\n",
       "      <td>48</td>\n",
       "      <td>48</td>\n",
       "      <td>48</td>\n",
       "      <td>48</td>\n",
       "      <td>48</td>\n",
       "      <td>48</td>\n",
       "    </tr>\n",
       "    <tr>\n",
       "      <th>Thriller</th>\n",
       "      <td>347</td>\n",
       "      <td>347</td>\n",
       "      <td>347</td>\n",
       "      <td>347</td>\n",
       "      <td>347</td>\n",
       "      <td>347</td>\n",
       "    </tr>\n",
       "    <tr>\n",
       "      <th>War</th>\n",
       "      <td>20</td>\n",
       "      <td>20</td>\n",
       "      <td>20</td>\n",
       "      <td>20</td>\n",
       "      <td>20</td>\n",
       "      <td>20</td>\n",
       "    </tr>\n",
       "    <tr>\n",
       "      <th>Western</th>\n",
       "      <td>14</td>\n",
       "      <td>14</td>\n",
       "      <td>14</td>\n",
       "      <td>14</td>\n",
       "      <td>14</td>\n",
       "      <td>14</td>\n",
=======
       "      <td>500</td>\n",
       "      <td>500</td>\n",
>>>>>>> main
       "    </tr>\n",
       "  </tbody>\n",
       "</table>\n",
       "</div>"
      ],
      "text/plain": [
       "        movie  production_budget  domestic_gross  worldwide_gross  net_gain  \\\n",
       "genres                                                                        \n",
       "Action    500                500             500              500       500   \n",
       "\n",
<<<<<<< HEAD
       "             total_gross  net_cost  \n",
       "genres                              \n",
       "Action               500       500  \n",
       "Adventure            381       381  \n",
       "Animation            112       112  \n",
       "Biography            151       151  \n",
       "Comedy               572       572  \n",
       "Crime                269       269  \n",
       "Documentary          108       108  \n",
       "Drama                916       916  \n",
       "Family               115       115  \n",
       "Fantasy              150       150  \n",
       "History               45        45  \n",
       "Horror               248       248  \n",
       "Music                 52        52  \n",
       "Musical               12        12  \n",
       "Mystery              150       150  \n",
       "News                   1         1  \n",
       "Reality-TV             1         1  \n",
       "Romance              236       236  \n",
       "Sci-Fi               158       158  \n",
       "Sport                 48        48  \n",
       "Thriller             347       347  \n",
       "War                   20        20  \n",
       "Western               14        14  "
      ]
     },
     "execution_count": 25,
=======
       "        domestic_gross_$  worldwide_gross_$  international_gross  \n",
       "genres                                                            \n",
       "Action               500                500                  500  "
      ]
     },
     "execution_count": 18,
>>>>>>> main
     "metadata": {},
     "output_type": "execute_result"
    }
   ],
   "source": [
    "single_category_budget_df.groupby('genres').count().head(1)\n",
    "#single_category_budget_df.describe()"
   ]
  },
  {
   "cell_type": "code",
<<<<<<< HEAD
   "execution_count": 26,
=======
   "execution_count": 2,
   "metadata": {},
   "outputs": [
    {
     "ename": "NameError",
     "evalue": "name 'single_category_budget_df' is not defined",
     "output_type": "error",
     "traceback": [
      "\u001b[0;31m---------------------------------------------------------------------------\u001b[0m",
      "\u001b[0;31mNameError\u001b[0m                                 Traceback (most recent call last)",
      "\u001b[0;32m<ipython-input-2-f348c06b8e10>\u001b[0m in \u001b[0;36m<module>\u001b[0;34m\u001b[0m\n\u001b[1;32m      1\u001b[0m \u001b[0;31m#creates new column for earnings in millions\u001b[0m\u001b[0;34m\u001b[0m\u001b[0;34m\u001b[0m\u001b[0;34m\u001b[0m\u001b[0m\n\u001b[0;32m----> 2\u001b[0;31m \u001b[0msingle_category_budget_df\u001b[0m\u001b[0;34m[\u001b[0m\u001b[0;34m'earnings_in_millions'\u001b[0m\u001b[0;34m]\u001b[0m \u001b[0;34m=\u001b[0m \u001b[0msingle_category_budget_df\u001b[0m\u001b[0;34m[\u001b[0m\u001b[0;34m'net_gain'\u001b[0m\u001b[0;34m]\u001b[0m\u001b[0;34m/\u001b[0m\u001b[0;36m1000000\u001b[0m\u001b[0;34m\u001b[0m\u001b[0;34m\u001b[0m\u001b[0m\n\u001b[0m\u001b[1;32m      3\u001b[0m \u001b[0;34m\u001b[0m\u001b[0m\n\u001b[1;32m      4\u001b[0m \u001b[0;34m\u001b[0m\u001b[0m\n\u001b[1;32m      5\u001b[0m \u001b[0;31m#def millions ():\u001b[0m\u001b[0;34m\u001b[0m\u001b[0;34m\u001b[0m\u001b[0;34m\u001b[0m\u001b[0m\n",
      "\u001b[0;31mNameError\u001b[0m: name 'single_category_budget_df' is not defined"
     ]
    }
   ],
   "source": [
    "#creates new column for earnings in millions\n",
    "single_category_budget_df['earnings_in_millions'] = single_category_budget_df['net_gain']/1000000\n",
    "\n",
    "###########################\n",
    "'''\n",
    "def millions_fn (new_col_name, old_col, df):\n",
    "    df[new_col_name] = df['old_col']/1000000\n",
    "\n",
    "    return df\n",
    "'''\n",
    "## millions_fn('earnings_in_millions','net_gain',single_category_budget_df)\n",
    "    "
   ]
  },
  {
   "cell_type": "code",
   "execution_count": 20,
>>>>>>> main
   "metadata": {},
   "outputs": [],
   "source": [
    "#new colums for domestic and worldwide gross in millions\n",
    "single_category_budget_df['domestic_earnings_millions'] = single_category_budget_df['domestic_gross_$']/1000000\n",
    "single_category_budget_df['international_earnings_millions'] = single_category_budget_df['international_gross']/1000000\n",
    "\n",
    "####################\n",
    "'''\n",
    "millions_fn('domestic_earnings_millions','domestic_gross_$',single_category_budget_df)\n",
    "\n",
    "## millions_fn('international_earnings_millions','international_gross',single_category_budget_df)\n",
    "'''"
   ]
  },
  {
   "cell_type": "code",
<<<<<<< HEAD
   "execution_count": 27,
   "metadata": {
    "scrolled": true
   },
=======
   "execution_count": 21,
   "metadata": {},
>>>>>>> main
   "outputs": [
    {
     "name": "stdout",
     "output_type": "stream",
     "text": [
      "<class 'pandas.core.frame.DataFrame'>\n",
      "RangeIndex: 10 entries, 0 to 9\n",
      "Data columns (total 2 columns):\n",
      " #   Column                Non-Null Count  Dtype  \n",
      "---  ------                --------------  -----  \n",
      " 0   genres                10 non-null     object \n",
      " 1   earnings_in_millions  10 non-null     float64\n",
      "dtypes: float64(1), object(1)\n",
      "memory usage: 288.0+ bytes\n"
     ]
    }
   ],
   "source": [
    "top_10_cat = single_category_budget_df.groupby('genres')['earnings_in_millions'].mean().sort_values(ascending = False).head(10)\n",
    "\n",
    "\n",
    "top_10_cat_df = top_10_cat.to_frame()\n",
    "top_10_cat_df.reset_index(inplace = True)\n",
    "top_10_cat_df.info()"
   ]
  },
  {
   "cell_type": "code",
   "execution_count": 28,
   "metadata": {},
   "outputs": [
    {
     "data": {
      "text/html": [
       "<div>\n",
       "<style scoped>\n",
       "    .dataframe tbody tr th:only-of-type {\n",
       "        vertical-align: middle;\n",
       "    }\n",
       "\n",
       "    .dataframe tbody tr th {\n",
       "        vertical-align: top;\n",
       "    }\n",
       "\n",
       "    .dataframe thead th {\n",
       "        text-align: right;\n",
       "    }\n",
       "</style>\n",
       "<table border=\"1\" class=\"dataframe\">\n",
       "  <thead>\n",
       "    <tr style=\"text-align: right;\">\n",
       "      <th></th>\n",
       "      <th>genres</th>\n",
       "      <th>earnings_in_millions</th>\n",
       "    </tr>\n",
       "  </thead>\n",
       "  <tbody>\n",
       "    <tr>\n",
       "      <th>0</th>\n",
       "      <td>Animation</td>\n",
       "      <td>386.956611</td>\n",
       "    </tr>\n",
       "    <tr>\n",
       "      <th>1</th>\n",
       "      <td>Musical</td>\n",
       "      <td>357.855580</td>\n",
       "    </tr>\n",
       "    <tr>\n",
       "      <th>2</th>\n",
       "      <td>Adventure</td>\n",
       "      <td>348.977875</td>\n",
       "    </tr>\n",
       "    <tr>\n",
       "      <th>3</th>\n",
       "      <td>Sci-Fi</td>\n",
       "      <td>322.598654</td>\n",
       "    </tr>\n",
       "    <tr>\n",
       "      <th>4</th>\n",
       "      <td>Fantasy</td>\n",
       "      <td>255.712810</td>\n",
       "    </tr>\n",
       "  </tbody>\n",
       "</table>\n",
       "</div>"
      ],
      "text/plain": [
       "      genres  earnings_in_millions\n",
       "0  Animation            386.956611\n",
       "1    Musical            357.855580\n",
       "2  Adventure            348.977875\n",
       "3     Sci-Fi            322.598654\n",
       "4    Fantasy            255.712810"
      ]
     },
     "execution_count": 28,
     "metadata": {},
     "output_type": "execute_result"
    }
   ],
   "source": [
    "top_10_cat_df.head()"
   ]
  },
  {
   "cell_type": "code",
   "execution_count": 39,
   "metadata": {},
   "outputs": [
    {
     "data": {
      "image/png": "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\n",
      "text/plain": [
<<<<<<< HEAD
       "'/Users/miafryer/Documents/flatiron_ds/phase 1/project1/microsoft_movies/images'"
      ]
     },
     "execution_count": 39,
     "metadata": {},
     "output_type": "execute_result"
    }
   ],
   "source": [
    "pwd"
=======
       "<Figure size 432x288 with 1 Axes>"
      ]
     },
     "metadata": {
      "needs_background": "light"
     },
     "output_type": "display_data"
    }
   ],
   "source": [
    "\n",
    "ww_earn_split = single_category_budget_df.groupby('genres')[['domestic_earnings_millions','international_earnings_millions']].mean().sort_values(by='domestic_earnings_millions', ascending = False).head(10)\n",
    "ww_earn_split.plot(kind ='bar', stacked = True, xlabel ='genres', ylabel='Earnings\\n(Millions)',rot = 45, title = \"Domestic and International Earnings\");\n"
>>>>>>> main
   ]
  },
  {
   "cell_type": "code",
<<<<<<< HEAD
   "execution_count": 40,
   "metadata": {},
   "outputs": [
    {
     "data": {
      "image/png": "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\n",
      "text/plain": [
       "<Figure size 576x576 with 1 Axes>"
      ]
     },
     "metadata": {},
     "output_type": "display_data"
    }
   ],
   "source": [
    "import seaborn as sns\n",
    "import matplotlib.pyplot as plt\n",
    "\n",
    "sns.set_style(\"whitegrid\", {'axes.grid' : False})\n",
    "#plot scatter plot: weighted average vs avg number of votes vs avg total gross\n",
    "plt.figure(figsize = (8,8))\n",
    "sns.barplot(data=top_10_cat_df, x='genres',y= 'earnings_in_millions', palette=\"Blues_r\")\n",
    "plt.xlabel('Genres', size=20)\n",
    "plt.ylabel('Average Net Profit\\n (Millions)', size=20)\n",
    "plt.title('Top 10 Money Making Movie Genres', size=20)\n",
    "             \n",
    "plt.savefig('eddie.png', dpi=80, bbox_inches='tight')\n",
    "    "
=======
   "execution_count": 22,
   "metadata": {
    "scrolled": true
   },
   "outputs": [],
   "source": [
    "#creates seperate data with only the higest earning genres worldwide\n",
    "top_10_cat = single_category_budget_df.groupby('genres')['earnings_in_millions'].mean().sort_values(ascending = False).head(10)\n",
    "#top_10_cat"
>>>>>>> main
   ]
  },
  {
   "cell_type": "code",
   "execution_count": 23,
   "metadata": {
    "scrolled": true
   },
   "outputs": [
    {
     "data": {
      "image/png": "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\n",
      "text/plain": [
       "<Figure size 432x288 with 1 Axes>"
      ]
     },
     "metadata": {
      "needs_background": "light"
     },
     "output_type": "display_data"
    }
   ],
   "source": [
    "#plots the top 10 categories\n",
    "top_10_cat.plot.bar(xlabel = 'Genres',ylabel = 'Net Profit\\n(Millions)',title= \"Top 10 Profitting Genres\",rot = 45);\n"
   ]
  }
 ],
 "metadata": {
  "kernelspec": {
   "display_name": "Python (learn-env)",
   "language": "python",
   "name": "learn-env"
  },
  "language_info": {
   "codemirror_mode": {
    "name": "ipython",
    "version": 3
   },
   "file_extension": ".py",
   "mimetype": "text/x-python",
   "name": "python",
   "nbconvert_exporter": "python",
   "pygments_lexer": "ipython3",
   "version": "3.8.5"
  }
 },
 "nbformat": 4,
 "nbformat_minor": 4
}
