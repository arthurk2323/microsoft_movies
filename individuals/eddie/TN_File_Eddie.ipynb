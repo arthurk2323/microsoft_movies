{
 "cells": [
  {
   "cell_type": "code",
   "execution_count": 1,
   "metadata": {},
   "outputs": [],
   "source": [
    "#!ls Data"
   ]
  },
  {
   "cell_type": "code",
   "execution_count": 2,
   "metadata": {},
   "outputs": [
    {
     "name": "stdout",
     "output_type": "stream",
     "text": [
      "/Users/eddielin/Documents/Flatiron/Projects/Microsoft_movies_project/microsoft_movies\n"
     ]
    }
   ],
   "source": [
    "cd ../.."
   ]
  },
  {
   "cell_type": "code",
   "execution_count": 3,
   "metadata": {},
   "outputs": [],
   "source": [
    "import pandas as pd\n",
    "import numpy as np\n",
    "import matplotlib.pyplot as plt\n",
    "import seaborn as sns\n",
    "\n",
    "%matplotlib inline"
   ]
  },
  {
   "cell_type": "code",
   "execution_count": 4,
   "metadata": {},
   "outputs": [],
   "source": [
    "#import the four relevent schemas to the budget and genres\n",
    "tndb_df = pd.read_csv('Data/tn.movie_budgets.csv')\n",
    "tn_mov_df = pd.read_csv('Data/tmdb.movies.csv')\n",
    "akas_df = pd.read_csv('Data/imdb.title.akas.csv')\n",
    "basics_df = pd.read_csv('Data/imdb.title.basics.csv')"
   ]
  },
  {
   "cell_type": "code",
   "execution_count": 5,
   "metadata": {},
   "outputs": [],
   "source": [
    "#removed all punctuations to movie titles on the two schemas\n",
    "tndb_df[\"Mov_name\"] = tndb_df['movie'].str.lower().str.replace('[ \\'\\:\\,\\.]','').astype(str)\n",
    "tn_mov_df[\"Mov_name\"] = tn_mov_df['title'].str.lower().str.replace('[ \\'\\:\\,\\.]','').astype(str)\n",
    "\n",
    "\n",
    "#creates new column with only the release year of the movie\n",
    "tn_mov_df['release_year'] = tn_mov_df['release_date'].astype(str).str[:4]\n",
    "\n"
   ]
  },
  {
   "cell_type": "code",
   "execution_count": 6,
   "metadata": {
    "scrolled": false
   },
   "outputs": [],
   "source": [
    "#merged the two schemas with constant id\n",
    "#rt_df = info_df.merge(reviews_df, on='id')\n",
    "imdb_df = basics_df.merge(akas_df,left_on ='tconst',right_on = \"title_id\",how = \"inner\") \n",
    "\n",
    "#merged tn and tndb to create new db, keeping values only the same movie names \n",
    "tn_df = tn_mov_df.merge(tndb_df, on = 'Mov_name', how = 'inner')"
   ]
  },
  {
   "cell_type": "code",
   "execution_count": 7,
   "metadata": {},
   "outputs": [],
   "source": [
    "#created new column with movie names stripped\n",
    "imdb_df['Mov_name'] = imdb_df['primary_title'].str.lower().str.replace('[ \\'\\:\\,\\.]','').astype(str)\n",
    "\n"
   ]
  },
  {
   "cell_type": "code",
   "execution_count": 8,
   "metadata": {},
   "outputs": [],
   "source": [
    "#create a new colum to include name and year of release\n",
    "imdb_df['name_year'] = imdb_df['Mov_name'] + imdb_df['start_year'].astype(str)\n",
    "tn_df['name_year'] = tn_df['Mov_name'] + tn_df['release_year'].astype(str)"
   ]
  },
  {
   "cell_type": "code",
   "execution_count": 9,
   "metadata": {},
   "outputs": [],
   "source": [
    "#new cost df joining imdb and tn keeping only values with the same name,year and has cost data\n",
    "budget_df = tn_df.merge(imdb_df, on = 'name_year', how = 'inner')"
   ]
  },
  {
   "cell_type": "code",
   "execution_count": 10,
   "metadata": {},
   "outputs": [],
   "source": [
    "#created two new columns to convert money strings to ints without punctuations\n",
    "budget_df[\"domestic_gross_$\"] = budget_df['domestic_gross'].str.lower().str.replace('[ \\'\\:\\,\\.\\$]','').astype(int)\n",
    "budget_df[\"worldwide_gross_$\"] = budget_df['worldwide_gross'].str.lower().str.replace('[ \\'\\:\\,\\.\\$]','').astype(int)"
   ]
  },
  {
   "cell_type": "code",
   "execution_count": 11,
   "metadata": {},
   "outputs": [],
   "source": [
    "#new column converting production budget into a usable format\n",
    "budget_df[\"production_$\"] = budget_df['production_budget'].str.lower().str.replace('[ \\'\\:\\,\\.\\$]','').astype(int)\n",
    "\n",
    "#new column with the sum of the gross\n",
    "budget_df['international_gross'] = budget_df[\"worldwide_gross_$\"] - budget_df[\"domestic_gross_$\"]\n",
    "\n",
    "#new colum with net value of the movie\n",
    "budget_df['net_gain'] = budget_df['worldwide_gross_$'] - budget_df['production_$']\n"
   ]
  },
  {
   "cell_type": "code",
   "execution_count": 12,
   "metadata": {},
   "outputs": [],
   "source": [
    "#check the colums of budget_Df\n",
    "#budget_df.columns"
   ]
  },
  {
   "cell_type": "code",
   "execution_count": 13,
   "metadata": {},
   "outputs": [
    {
     "data": {
      "text/html": [
       "<div>\n",
       "<style scoped>\n",
       "    .dataframe tbody tr th:only-of-type {\n",
       "        vertical-align: middle;\n",
       "    }\n",
       "\n",
       "    .dataframe tbody tr th {\n",
       "        vertical-align: top;\n",
       "    }\n",
       "\n",
       "    .dataframe thead th {\n",
       "        text-align: right;\n",
       "    }\n",
       "</style>\n",
       "<table border=\"1\" class=\"dataframe\">\n",
       "  <thead>\n",
       "    <tr style=\"text-align: right;\">\n",
       "      <th></th>\n",
       "      <th>movie</th>\n",
       "      <th>genres</th>\n",
       "      <th>production_budget</th>\n",
       "      <th>domestic_gross</th>\n",
       "      <th>worldwide_gross</th>\n",
       "      <th>net_gain</th>\n",
       "      <th>domestic_gross_$</th>\n",
       "      <th>worldwide_gross_$</th>\n",
       "      <th>international_gross</th>\n",
       "    </tr>\n",
       "  </thead>\n",
       "  <tbody>\n",
       "    <tr>\n",
       "      <th>0</th>\n",
       "      <td>How to Train Your Dragon</td>\n",
       "      <td>Action,Adventure,Animation</td>\n",
       "      <td>$165,000,000</td>\n",
       "      <td>$217,581,232</td>\n",
       "      <td>$494,870,992</td>\n",
       "      <td>329870992</td>\n",
       "      <td>217581232</td>\n",
       "      <td>494870992</td>\n",
       "      <td>277289760</td>\n",
       "    </tr>\n",
       "    <tr>\n",
       "      <th>1</th>\n",
       "      <td>How to Train Your Dragon</td>\n",
       "      <td>Action,Adventure,Animation</td>\n",
       "      <td>$165,000,000</td>\n",
       "      <td>$217,581,232</td>\n",
       "      <td>$494,870,992</td>\n",
       "      <td>329870992</td>\n",
       "      <td>217581232</td>\n",
       "      <td>494870992</td>\n",
       "      <td>277289760</td>\n",
       "    </tr>\n",
       "    <tr>\n",
       "      <th>2</th>\n",
       "      <td>How to Train Your Dragon</td>\n",
       "      <td>Action,Adventure,Animation</td>\n",
       "      <td>$165,000,000</td>\n",
       "      <td>$217,581,232</td>\n",
       "      <td>$494,870,992</td>\n",
       "      <td>329870992</td>\n",
       "      <td>217581232</td>\n",
       "      <td>494870992</td>\n",
       "      <td>277289760</td>\n",
       "    </tr>\n",
       "  </tbody>\n",
       "</table>\n",
       "</div>"
      ],
      "text/plain": [
       "                      movie                      genres production_budget  \\\n",
       "0  How to Train Your Dragon  Action,Adventure,Animation      $165,000,000   \n",
       "1  How to Train Your Dragon  Action,Adventure,Animation      $165,000,000   \n",
       "2  How to Train Your Dragon  Action,Adventure,Animation      $165,000,000   \n",
       "\n",
       "  domestic_gross worldwide_gross   net_gain  domestic_gross_$  \\\n",
       "0   $217,581,232    $494,870,992  329870992         217581232   \n",
       "1   $217,581,232    $494,870,992  329870992         217581232   \n",
       "2   $217,581,232    $494,870,992  329870992         217581232   \n",
       "\n",
       "   worldwide_gross_$  international_gross  \n",
       "0          494870992            277289760  \n",
       "1          494870992            277289760  \n",
       "2          494870992            277289760  "
      ]
     },
     "metadata": {},
     "output_type": "display_data"
    },
    {
     "data": {
      "text/html": [
       "<div>\n",
       "<style scoped>\n",
       "    .dataframe tbody tr th:only-of-type {\n",
       "        vertical-align: middle;\n",
       "    }\n",
       "\n",
       "    .dataframe tbody tr th {\n",
       "        vertical-align: top;\n",
       "    }\n",
       "\n",
       "    .dataframe thead th {\n",
       "        text-align: right;\n",
       "    }\n",
       "</style>\n",
       "<table border=\"1\" class=\"dataframe\">\n",
       "  <thead>\n",
       "    <tr style=\"text-align: right;\">\n",
       "      <th></th>\n",
       "      <th>movie</th>\n",
       "      <th>genres</th>\n",
       "      <th>production_budget</th>\n",
       "      <th>domestic_gross</th>\n",
       "      <th>worldwide_gross</th>\n",
       "      <th>net_gain</th>\n",
       "      <th>domestic_gross_$</th>\n",
       "      <th>worldwide_gross_$</th>\n",
       "      <th>international_gross</th>\n",
       "    </tr>\n",
       "  </thead>\n",
       "  <tbody>\n",
       "    <tr>\n",
       "      <th>0</th>\n",
       "      <td>How to Train Your Dragon</td>\n",
       "      <td>Action,Adventure,Animation</td>\n",
       "      <td>$165,000,000</td>\n",
       "      <td>$217,581,232</td>\n",
       "      <td>$494,870,992</td>\n",
       "      <td>329870992</td>\n",
       "      <td>217581232</td>\n",
       "      <td>494870992</td>\n",
       "      <td>277289760</td>\n",
       "    </tr>\n",
       "    <tr>\n",
       "      <th>44</th>\n",
       "      <td>Iron Man 2</td>\n",
       "      <td>Action,Adventure,Sci-Fi</td>\n",
       "      <td>$170,000,000</td>\n",
       "      <td>$312,433,331</td>\n",
       "      <td>$621,156,389</td>\n",
       "      <td>451156389</td>\n",
       "      <td>312433331</td>\n",
       "      <td>621156389</td>\n",
       "      <td>308723058</td>\n",
       "    </tr>\n",
       "    <tr>\n",
       "      <th>82</th>\n",
       "      <td>Inception</td>\n",
       "      <td>Action,Adventure,Sci-Fi</td>\n",
       "      <td>$160,000,000</td>\n",
       "      <td>$292,576,195</td>\n",
       "      <td>$835,524,642</td>\n",
       "      <td>675524642</td>\n",
       "      <td>292576195</td>\n",
       "      <td>835524642</td>\n",
       "      <td>542948447</td>\n",
       "    </tr>\n",
       "  </tbody>\n",
       "</table>\n",
       "</div>"
      ],
      "text/plain": [
       "                       movie                      genres production_budget  \\\n",
       "0   How to Train Your Dragon  Action,Adventure,Animation      $165,000,000   \n",
       "44                Iron Man 2     Action,Adventure,Sci-Fi      $170,000,000   \n",
       "82                 Inception     Action,Adventure,Sci-Fi      $160,000,000   \n",
       "\n",
       "   domestic_gross worldwide_gross   net_gain  domestic_gross_$  \\\n",
       "0    $217,581,232    $494,870,992  329870992         217581232   \n",
       "44   $312,433,331    $621,156,389  451156389         312433331   \n",
       "82   $292,576,195    $835,524,642  675524642         292576195   \n",
       "\n",
       "    worldwide_gross_$  international_gross  \n",
       "0           494870992            277289760  \n",
       "44          621156389            308723058  \n",
       "82          835524642            542948447  "
      ]
     },
     "execution_count": 13,
     "metadata": {},
     "output_type": "execute_result"
    }
   ],
   "source": [
    "#new df with only relevant info and sorted by the total gross\n",
    "budget_df_simplified = budget_df[['movie','genres','production_budget','domestic_gross','worldwide_gross','net_gain','domestic_gross_$','worldwide_gross_$','international_gross']]\n",
    "all_budget_df = budget_df_simplified.drop_duplicates(keep ='first').copy()\n",
    "\n",
    "display(budget_df_simplified.head(3))\n",
    "all_budget_df.head(3)"
   ]
  },
  {
   "cell_type": "code",
   "execution_count": null,
   "metadata": {},
   "outputs": [],
   "source": []
  },
  {
   "cell_type": "code",
   "execution_count": 14,
   "metadata": {},
   "outputs": [],
   "source": [
    "#splits the genres and creates a list to be exploded\n",
    "all_budget_df['genres'] = all_budget_df['genres'].str.strip().str.split(',')"
   ]
  },
  {
   "cell_type": "code",
   "execution_count": 15,
   "metadata": {},
   "outputs": [],
   "source": [
    "#exploded the genres column to isolate genres\n",
    "single_category_budget_df = all_budget_df.explode('genres')"
   ]
  },
  {
   "cell_type": "code",
   "execution_count": 16,
   "metadata": {},
   "outputs": [],
   "source": [
    "#chcanges the net_cost to int type\n",
    "single_category_budget_df['net_gain'] = single_category_budget_df['net_gain'].astype(int)"
   ]
  },
  {
   "cell_type": "code",
   "execution_count": 17,
   "metadata": {},
   "outputs": [],
   "source": [
    "#creates new column for earnings in millions\n",
    "single_category_budget_df['earnings_in_millions'] = single_category_budget_df['net_gain']/1000000\n"
   ]
  },
  {
   "cell_type": "code",
   "execution_count": 18,
   "metadata": {},
   "outputs": [],
   "source": [
    "#new colums for domestic and worldwide gross in millions\n",
    "single_category_budget_df['domestic_earnings_millions'] = single_category_budget_df['domestic_gross_$']/1000000\n",
    "single_category_budget_df['international_earnings_millions'] = single_category_budget_df['international_gross']/1000000\n"
   ]
  },
  {
   "cell_type": "code",
   "execution_count": 19,
   "metadata": {},
   "outputs": [
    {
     "data": {
      "image/png": "[encoded data removed]",
      "text/plain": [
       "<Figure size 432x288 with 1 Axes>"
      ]
     },
     "metadata": {
      "needs_background": "light"
     },
     "output_type": "display_data"
    }
   ],
   "source": [
    "\n",
    "ww_earn_split = single_category_budget_df.groupby('genres')[['domestic_earnings_millions','international_earnings_millions']].mean().sort_values(by='domestic_earnings_millions', ascending = False).head(10)\n",
    "ww_earn_split.plot(kind ='bar', stacked = True, xlabel ='genres', ylabel='Earnings\\n(Millions)',rot = 45, title = \"Domestic and International Earnings\");\n"
   ]
  },
  {
   "cell_type": "code",
   "execution_count": 20,
   "metadata": {
    "scrolled": true
   },
   "outputs": [
    {
     "name": "stdout",
     "output_type": "stream",
     "text": [
      "<class 'pandas.core.frame.DataFrame'>\n",
      "RangeIndex: 10 entries, 0 to 9\n",
      "Data columns (total 2 columns):\n",
      " #   Column                Non-Null Count  Dtype  \n",
      "---  ------                --------------  -----  \n",
      " 0   genres                10 non-null     object \n",
      " 1   earnings_in_millions  10 non-null     float64\n",
      "dtypes: float64(1), object(1)\n",
      "memory usage: 288.0+ bytes\n"
     ]
    }
   ],
   "source": [
    "#creates seperate data with only the higest earning genres worldwide\n",
    "top_10_cat = single_category_budget_df.groupby('genres')['earnings_in_millions'].mean().sort_values(ascending = False).head(10)\n",
    "\n",
    "#converts to dataframe\n",
    "top_10_cat_df = top_10_cat.to_frame()\n",
    "top_10_cat_df.reset_index(inplace = True)\n",
    "top_10_cat_df.info()"
   ]
  },
  {
   "cell_type": "code",
   "execution_count": 21,
   "metadata": {},
   "outputs": [
    {
     "data": {
      "text/html": [
       "<div>\n",
       "<style scoped>\n",
       "    .dataframe tbody tr th:only-of-type {\n",
       "        vertical-align: middle;\n",
       "    }\n",
       "\n",
       "    .dataframe tbody tr th {\n",
       "        vertical-align: top;\n",
       "    }\n",
       "\n",
       "    .dataframe thead th {\n",
       "        text-align: right;\n",
       "    }\n",
       "</style>\n",
       "<table border=\"1\" class=\"dataframe\">\n",
       "  <thead>\n",
       "    <tr style=\"text-align: right;\">\n",
       "      <th></th>\n",
       "      <th>genres</th>\n",
       "      <th>earnings_in_millions</th>\n",
       "    </tr>\n",
       "  </thead>\n",
       "  <tbody>\n",
       "    <tr>\n",
       "      <th>0</th>\n",
       "      <td>Animation</td>\n",
       "      <td>259.335013</td>\n",
       "    </tr>\n",
       "    <tr>\n",
       "      <th>1</th>\n",
       "      <td>Musical</td>\n",
       "      <td>233.589414</td>\n",
       "    </tr>\n",
       "    <tr>\n",
       "      <th>2</th>\n",
       "      <td>Adventure</td>\n",
       "      <td>231.129183</td>\n",
       "    </tr>\n",
       "    <tr>\n",
       "      <th>3</th>\n",
       "      <td>Sci-Fi</td>\n",
       "      <td>214.024724</td>\n",
       "    </tr>\n",
       "    <tr>\n",
       "      <th>4</th>\n",
       "      <td>Fantasy</td>\n",
       "      <td>166.877799</td>\n",
       "    </tr>\n",
       "  </tbody>\n",
       "</table>\n",
       "</div>"
      ],
      "text/plain": [
       "      genres  earnings_in_millions\n",
       "0  Animation            259.335013\n",
       "1    Musical            233.589414\n",
       "2  Adventure            231.129183\n",
       "3     Sci-Fi            214.024724\n",
       "4    Fantasy            166.877799"
      ]
     },
     "execution_count": 21,
     "metadata": {},
     "output_type": "execute_result"
    }
   ],
   "source": [
    "top_10_cat_df.head()"
   ]
  },
  {
   "cell_type": "code",
   "execution_count": 22,
   "metadata": {},
   "outputs": [
    {
     "data": {
      "image/png": "[encoded data removed]",
      "text/plain": [
       "<Figure size 576x576 with 1 Axes>"
      ]
     },
     "metadata": {},
     "output_type": "display_data"
    }
   ],
   "source": [
    "import seaborn as sns\n",
    "import matplotlib.pyplot as plt\n",
    "\n",
    "sns.set_style(\"whitegrid\", {'axes.grid' : False})\n",
    "#plot scatter plot: weighted average vs avg number of votes vs avg total gross\n",
    "plt.figure(figsize = (8,8))\n",
    "sns.barplot(data=top_10_cat_df, x='genres',y= 'earnings_in_millions', palette=\"Blues_r\")\n",
    "plt.xlabel('Genres', size=20)\n",
    "plt.ylabel('Average Net Profit\\n (Millions)', size=20)\n",
    "plt.title('Top 10 Money Making Movie Genres', size=20)\n",
    "             \n",
    "plt.savefig('eddie.png', dpi=80, bbox_inches='tight')"
   ]
  },
  {
   "cell_type": "code",
   "execution_count": 23,
   "metadata": {
    "scrolled": true
   },
   "outputs": [
    {
     "data": {
      "image/png": "[encoded data removed]",
      "text/plain": [
       "<Figure size 432x288 with 1 Axes>"
      ]
     },
     "metadata": {},
     "output_type": "display_data"
    }
   ],
   "source": [
    "#plots the top 10 categories\n",
    "top_10_cat.plot.bar(xlabel = 'Genres',ylabel = 'Net Profit\\n(Millions)',title= \"Top 10 Profitting Genres\",rot = 45);\n"
   ]
  }
 ],
 "metadata": {
  "kernelspec": {
   "display_name": "Python (learn-env)",
   "language": "python",
   "name": "learn-env"
  },
  "language_info": {
   "codemirror_mode": {
    "name": "ipython",
    "version": 3
   },
   "file_extension": ".py",
   "mimetype": "text/x-python",
   "name": "python",
   "nbconvert_exporter": "python",
   "pygments_lexer": "ipython3",
   "version": "3.8.5"
  }
 },
 "nbformat": 4,
 "nbformat_minor": 4
}
