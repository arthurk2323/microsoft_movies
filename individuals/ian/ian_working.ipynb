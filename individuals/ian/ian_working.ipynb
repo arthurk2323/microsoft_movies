{
 "cells": [
  {
   "cell_type": "code",
   "execution_count": 1,
   "metadata": {},
   "outputs": [
    {
     "name": "stdout",
     "output_type": "stream",
     "text": [
      "/Users/iansharff/Documents/flatiron_ds/phase1/microsoft_movies\n"
     ]
    }
   ],
   "source": [
    "cd ../.."
   ]
  },
  {
   "cell_type": "code",
   "execution_count": 2,
   "metadata": {},
   "outputs": [],
   "source": [
    "import pandas as pd\n",
    "import matplotlib.pyplot as plt\n",
    "%matplotlib inline"
   ]
  },
  {
   "cell_type": "markdown",
   "metadata": {},
   "source": [
    "# Debug Function"
   ]
  },
  {
   "cell_type": "code",
   "execution_count": null,
   "metadata": {},
   "outputs": [],
   "source": []
  },
  {
   "cell_type": "code",
   "execution_count": null,
   "metadata": {},
   "outputs": [],
   "source": [
    "%run -i\n"
   ]
  },
  {
   "cell_type": "code",
   "execution_count": 31,
   "metadata": {},
   "outputs": [],
   "source": [
    "test = pd.read_csv(TMDB_MOVIES)"
   ]
  },
  {
   "cell_type": "code",
   "execution_count": 40,
   "metadata": {},
   "outputs": [
    {
     "data": {
      "text/plain": [
       "['[18]',\n",
       " '[35]',\n",
       " '[27]',\n",
       " '[16]',\n",
       " '[878]',\n",
       " '[53]',\n",
       " '[99]',\n",
       " '[28]',\n",
       " '[14]',\n",
       " '[12]',\n",
       " '[10749]',\n",
       " '[]',\n",
       " '[37]',\n",
       " '[10751]',\n",
       " '[10402]',\n",
       " '[10770]',\n",
       " '[9648]',\n",
       " '[80]',\n",
       " '[36]',\n",
       " '[10752]']"
      ]
     },
     "execution_count": 40,
     "metadata": {},
     "output_type": "execute_result"
    }
   ],
   "source": [
    "list(filter(lambda x: ',' not in x, test.genre_ids.unique()))"
   ]
  },
  {
   "cell_type": "code",
   "execution_count": null,
   "metadata": {},
   "outputs": [],
   "source": [
    "test.count('[]')"
   ]
  },
  {
   "cell_type": "code",
   "execution_count": 1,
   "metadata": {},
   "outputs": [
    {
     "data": {
      "text/plain": [
       "200"
      ]
     },
     "execution_count": 1,
     "metadata": {},
     "output_type": "execute_result"
    }
   ],
   "source": [
    "import requests\n",
    "\n",
    "url = 'https://api.themoviedb.org/3/genre/movie/list?api_key=b25ff6cbb5d653698a17bb85dde54484&language=en-US'\n",
    "response = requests.get(url)\n",
    "response.status_code"
   ]
  },
  {
   "cell_type": "code",
   "execution_count": 6,
   "metadata": {},
   "outputs": [
    {
     "data": {
      "text/plain": [
       "{'28': 'Action',\n",
       " '12': 'Adventure',\n",
       " '16': 'Animation',\n",
       " '35': 'Comedy',\n",
       " '80': 'Crime',\n",
       " '99': 'Documentary',\n",
       " '18': 'Drama',\n",
       " '10751': 'Family',\n",
       " '14': 'Fantasy',\n",
       " '36': 'History',\n",
       " '27': 'Horror',\n",
       " '10402': 'Music',\n",
       " '9648': 'Mystery',\n",
       " '10749': 'Romance',\n",
       " '878': 'Science Fiction',\n",
       " '10770': 'TV Movie',\n",
       " '53': 'Thriller',\n",
       " '10752': 'War',\n",
       " '37': 'Western'}"
      ]
     },
     "execution_count": 6,
     "metadata": {},
     "output_type": "execute_result"
    }
   ],
   "source": [
    "import ast\n",
    "tmdb_movies_df = pd.read_csv(TMDB_MOVIES)\n",
    "tmdb_movies_df.drop('Unnamed: 0', axis=1, inplace=True)\n",
    "tmdb_movies_df.set_index('id', inplace=True)\n",
    "tmdb_movies_df['genre_ids'] = tmdb_movies_df['genre_ids'].map(ast.literal_eval)\n",
    "\n",
    "with open('./data/tmdb_genre_ids.json') as infile:\n",
    "    genres_dict = json.load(infile)\n",
    "\n",
    "genres_dict\n",
    "\n",
    "\n"
   ]
  },
  {
   "cell_type": "code",
   "execution_count": null,
   "metadata": {},
   "outputs": [],
   "source": []
  },
  {
   "cell_type": "code",
   "execution_count": null,
   "metadata": {},
   "outputs": [],
   "source": []
  }
 ],
 "metadata": {
  "kernelspec": {
   "display_name": "Python (learn-env)",
   "language": "python",
   "name": "learn-env"
  },
  "language_info": {
   "codemirror_mode": {
    "name": "ipython",
    "version": 3
   },
   "file_extension": ".py",
   "mimetype": "text/x-python",
   "name": "python",
   "nbconvert_exporter": "python",
   "pygments_lexer": "ipython3",
   "version": "3.8.5"
  }
 },
 "nbformat": 4,
 "nbformat_minor": 4
}
