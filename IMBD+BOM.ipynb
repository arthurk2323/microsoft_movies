{
 "cells": [
  {
   "cell_type": "code",
   "execution_count": 1,
   "metadata": {},
   "outputs": [
    {
     "name": "stdout",
     "output_type": "stream",
     "text": [
      "bom.movie_gross.csv       imdb.title.crew.csv       rt.reviews.tsv\r\n",
      "imdb.name.basics.csv      imdb.title.principals.csv tmdb.movies.csv\r\n",
      "imdb.title.akas.csv       imdb.title.ratings.csv    tn.movie_budgets.csv\r\n",
      "imdb.title.basics.csv     rt.movie_info.tsv\r\n"
     ]
    }
   ],
   "source": [
    "!ls Data"
   ]
  },
  {
   "cell_type": "code",
   "execution_count": 2,
   "metadata": {},
   "outputs": [],
   "source": [
    "\n",
    "import pandas as pd\n",
    "import numpy as np\n",
    "import matplotlib.pyplot as plt\n",
    "import seaborn as sns\n",
    "\n",
    "%matplotlib inline\n"
   ]
  },
  {
   "cell_type": "code",
   "execution_count": 3,
   "metadata": {},
   "outputs": [],
   "source": [
    "bom_df= pd.read_csv('data/bom.movie_gross.csv')\n",
    "imbd_name_df= pd.read_csv('data/imdb.name.basics.csv')\n",
    "akas_df=pd.read_csv('data/imdb.title.akas.csv')\n",
    "basics_df= pd.read_csv('data/imdb.title.basics.csv')\n",
    "crew_df= pd.read_csv('data/imdb.title.crew.csv')\n",
    "principals_df= pd.read_csv('data/imdb.title.principals.csv')\n",
    "ratings_df=pd.read_csv('data/imdb.title.ratings.csv')"
   ]
  },
  {
   "cell_type": "markdown",
   "metadata": {},
   "source": [
    "## Data Preparation"
   ]
  },
  {
   "cell_type": "code",
   "execution_count": 4,
   "metadata": {},
   "outputs": [],
   "source": [
    "import string\n",
    "\n",
    "#removing punctuations \n",
    "def remove_punctuations(text):\n",
    "    for punctuation in string.punctuation:\n",
    "        text = text.replace(punctuation, '')\n",
    "    return text\n",
    "\n",
    "bom_df[\"title\"] = bom_df['title'].apply(remove_punctuations)\n",
    "bom_df[\"title\"]= bom_df[\"title\"].str.lower()"
   ]
  },
  {
   "cell_type": "code",
   "execution_count": 5,
   "metadata": {},
   "outputs": [],
   "source": [
    "#renaming the column to merge tables\n",
    "akas_df.rename(columns={'title_id':'tconst'}, inplace=True)\n",
    "akas_df.rename(columns={'title':'title_akas'}, inplace=True)\n",
    "#removing punctuations and lower case title\n",
    "akas_df[\"title_akas\"] = akas_df['title_akas'].apply(remove_punctuations)\n",
    "basics_df[\"primary_title\"] = basics_df['primary_title'].apply(remove_punctuations)\n",
    "akas_df[\"title_akas\"] = akas_df['title_akas'].str.lower()\n",
    "basics_df[\"primary_title\"]= basics_df['primary_title'].str.lower()"
   ]
  },
  {
   "cell_type": "code",
   "execution_count": 6,
   "metadata": {},
   "outputs": [
    {
     "data": {
      "text/html": [
       "<div>\n",
       "<style scoped>\n",
       "    .dataframe tbody tr th:only-of-type {\n",
       "        vertical-align: middle;\n",
       "    }\n",
       "\n",
       "    .dataframe tbody tr th {\n",
       "        vertical-align: top;\n",
       "    }\n",
       "\n",
       "    .dataframe thead th {\n",
       "        text-align: right;\n",
       "    }\n",
       "</style>\n",
       "<table border=\"1\" class=\"dataframe\">\n",
       "  <thead>\n",
       "    <tr style=\"text-align: right;\">\n",
       "      <th></th>\n",
       "      <th>tconst</th>\n",
       "      <th>ordering</th>\n",
       "      <th>title_akas</th>\n",
       "      <th>region</th>\n",
       "      <th>language</th>\n",
       "      <th>types</th>\n",
       "      <th>attributes</th>\n",
       "      <th>is_original_title</th>\n",
       "      <th>primary_title</th>\n",
       "      <th>original_title</th>\n",
       "      <th>start_year</th>\n",
       "      <th>runtime_minutes</th>\n",
       "      <th>genres</th>\n",
       "    </tr>\n",
       "  </thead>\n",
       "  <tbody>\n",
       "    <tr>\n",
       "      <th>0</th>\n",
       "      <td>tt0369610</td>\n",
       "      <td>10.0</td>\n",
       "      <td>джурасик свят</td>\n",
       "      <td>BG</td>\n",
       "      <td>bg</td>\n",
       "      <td>NaN</td>\n",
       "      <td>NaN</td>\n",
       "      <td>0.0</td>\n",
       "      <td>jurassic world</td>\n",
       "      <td>Jurassic World</td>\n",
       "      <td>2015</td>\n",
       "      <td>124.0</td>\n",
       "      <td>Action,Adventure,Sci-Fi</td>\n",
       "    </tr>\n",
       "    <tr>\n",
       "      <th>1</th>\n",
       "      <td>tt0369610</td>\n",
       "      <td>11.0</td>\n",
       "      <td>jurashikku warudo</td>\n",
       "      <td>JP</td>\n",
       "      <td>NaN</td>\n",
       "      <td>imdbDisplay</td>\n",
       "      <td>NaN</td>\n",
       "      <td>0.0</td>\n",
       "      <td>jurassic world</td>\n",
       "      <td>Jurassic World</td>\n",
       "      <td>2015</td>\n",
       "      <td>124.0</td>\n",
       "      <td>Action,Adventure,Sci-Fi</td>\n",
       "    </tr>\n",
       "    <tr>\n",
       "      <th>2</th>\n",
       "      <td>tt0369610</td>\n",
       "      <td>12.0</td>\n",
       "      <td>jurassic world o mundo dos dinossauros</td>\n",
       "      <td>BR</td>\n",
       "      <td>NaN</td>\n",
       "      <td>imdbDisplay</td>\n",
       "      <td>NaN</td>\n",
       "      <td>0.0</td>\n",
       "      <td>jurassic world</td>\n",
       "      <td>Jurassic World</td>\n",
       "      <td>2015</td>\n",
       "      <td>124.0</td>\n",
       "      <td>Action,Adventure,Sci-Fi</td>\n",
       "    </tr>\n",
       "    <tr>\n",
       "      <th>3</th>\n",
       "      <td>tt0369610</td>\n",
       "      <td>13.0</td>\n",
       "      <td>o mundo dos dinossauros</td>\n",
       "      <td>BR</td>\n",
       "      <td>NaN</td>\n",
       "      <td>NaN</td>\n",
       "      <td>short title</td>\n",
       "      <td>0.0</td>\n",
       "      <td>jurassic world</td>\n",
       "      <td>Jurassic World</td>\n",
       "      <td>2015</td>\n",
       "      <td>124.0</td>\n",
       "      <td>Action,Adventure,Sci-Fi</td>\n",
       "    </tr>\n",
       "    <tr>\n",
       "      <th>4</th>\n",
       "      <td>tt0369610</td>\n",
       "      <td>14.0</td>\n",
       "      <td>jurassic world</td>\n",
       "      <td>FR</td>\n",
       "      <td>NaN</td>\n",
       "      <td>imdbDisplay</td>\n",
       "      <td>NaN</td>\n",
       "      <td>0.0</td>\n",
       "      <td>jurassic world</td>\n",
       "      <td>Jurassic World</td>\n",
       "      <td>2015</td>\n",
       "      <td>124.0</td>\n",
       "      <td>Action,Adventure,Sci-Fi</td>\n",
       "    </tr>\n",
       "  </tbody>\n",
       "</table>\n",
       "</div>"
      ],
      "text/plain": [
       "      tconst  ordering                              title_akas region  \\\n",
       "0  tt0369610      10.0                           джурасик свят     BG   \n",
       "1  tt0369610      11.0                       jurashikku warudo     JP   \n",
       "2  tt0369610      12.0  jurassic world o mundo dos dinossauros     BR   \n",
       "3  tt0369610      13.0                 o mundo dos dinossauros     BR   \n",
       "4  tt0369610      14.0                          jurassic world     FR   \n",
       "\n",
       "  language        types   attributes  is_original_title   primary_title  \\\n",
       "0       bg          NaN          NaN                0.0  jurassic world   \n",
       "1      NaN  imdbDisplay          NaN                0.0  jurassic world   \n",
       "2      NaN  imdbDisplay          NaN                0.0  jurassic world   \n",
       "3      NaN          NaN  short title                0.0  jurassic world   \n",
       "4      NaN  imdbDisplay          NaN                0.0  jurassic world   \n",
       "\n",
       "   original_title  start_year  runtime_minutes                   genres  \n",
       "0  Jurassic World        2015            124.0  Action,Adventure,Sci-Fi  \n",
       "1  Jurassic World        2015            124.0  Action,Adventure,Sci-Fi  \n",
       "2  Jurassic World        2015            124.0  Action,Adventure,Sci-Fi  \n",
       "3  Jurassic World        2015            124.0  Action,Adventure,Sci-Fi  \n",
       "4  Jurassic World        2015            124.0  Action,Adventure,Sci-Fi  "
      ]
     },
     "execution_count": 6,
     "metadata": {},
     "output_type": "execute_result"
    }
   ],
   "source": [
    "#combining akas and basics \n",
    "imbd_info_df1= akas_df.merge(basics_df, on = 'tconst', how ='outer')\n",
    "imbd_info_df1.head()"
   ]
  },
  {
   "cell_type": "code",
   "execution_count": 7,
   "metadata": {},
   "outputs": [
    {
     "data": {
      "text/html": [
       "<div>\n",
       "<style scoped>\n",
       "    .dataframe tbody tr th:only-of-type {\n",
       "        vertical-align: middle;\n",
       "    }\n",
       "\n",
       "    .dataframe tbody tr th {\n",
       "        vertical-align: top;\n",
       "    }\n",
       "\n",
       "    .dataframe thead th {\n",
       "        text-align: right;\n",
       "    }\n",
       "</style>\n",
       "<table border=\"1\" class=\"dataframe\">\n",
       "  <thead>\n",
       "    <tr style=\"text-align: right;\">\n",
       "      <th></th>\n",
       "      <th>tconst</th>\n",
       "      <th>ordering</th>\n",
       "      <th>title_akas</th>\n",
       "      <th>region</th>\n",
       "      <th>language</th>\n",
       "      <th>types</th>\n",
       "      <th>attributes</th>\n",
       "      <th>is_original_title</th>\n",
       "      <th>primary_title</th>\n",
       "      <th>original_title</th>\n",
       "      <th>start_year</th>\n",
       "      <th>runtime_minutes</th>\n",
       "      <th>genres</th>\n",
       "      <th>averagerating</th>\n",
       "      <th>numvotes</th>\n",
       "    </tr>\n",
       "  </thead>\n",
       "  <tbody>\n",
       "    <tr>\n",
       "      <th>0</th>\n",
       "      <td>tt0369610</td>\n",
       "      <td>10.0</td>\n",
       "      <td>джурасик свят</td>\n",
       "      <td>BG</td>\n",
       "      <td>bg</td>\n",
       "      <td>NaN</td>\n",
       "      <td>NaN</td>\n",
       "      <td>0.0</td>\n",
       "      <td>jurassic world</td>\n",
       "      <td>Jurassic World</td>\n",
       "      <td>2015</td>\n",
       "      <td>124.0</td>\n",
       "      <td>Action,Adventure,Sci-Fi</td>\n",
       "      <td>7.0</td>\n",
       "      <td>539338.0</td>\n",
       "    </tr>\n",
       "    <tr>\n",
       "      <th>1</th>\n",
       "      <td>tt0369610</td>\n",
       "      <td>11.0</td>\n",
       "      <td>jurashikku warudo</td>\n",
       "      <td>JP</td>\n",
       "      <td>NaN</td>\n",
       "      <td>imdbDisplay</td>\n",
       "      <td>NaN</td>\n",
       "      <td>0.0</td>\n",
       "      <td>jurassic world</td>\n",
       "      <td>Jurassic World</td>\n",
       "      <td>2015</td>\n",
       "      <td>124.0</td>\n",
       "      <td>Action,Adventure,Sci-Fi</td>\n",
       "      <td>7.0</td>\n",
       "      <td>539338.0</td>\n",
       "    </tr>\n",
       "    <tr>\n",
       "      <th>2</th>\n",
       "      <td>tt0369610</td>\n",
       "      <td>12.0</td>\n",
       "      <td>jurassic world o mundo dos dinossauros</td>\n",
       "      <td>BR</td>\n",
       "      <td>NaN</td>\n",
       "      <td>imdbDisplay</td>\n",
       "      <td>NaN</td>\n",
       "      <td>0.0</td>\n",
       "      <td>jurassic world</td>\n",
       "      <td>Jurassic World</td>\n",
       "      <td>2015</td>\n",
       "      <td>124.0</td>\n",
       "      <td>Action,Adventure,Sci-Fi</td>\n",
       "      <td>7.0</td>\n",
       "      <td>539338.0</td>\n",
       "    </tr>\n",
       "    <tr>\n",
       "      <th>3</th>\n",
       "      <td>tt0369610</td>\n",
       "      <td>13.0</td>\n",
       "      <td>o mundo dos dinossauros</td>\n",
       "      <td>BR</td>\n",
       "      <td>NaN</td>\n",
       "      <td>NaN</td>\n",
       "      <td>short title</td>\n",
       "      <td>0.0</td>\n",
       "      <td>jurassic world</td>\n",
       "      <td>Jurassic World</td>\n",
       "      <td>2015</td>\n",
       "      <td>124.0</td>\n",
       "      <td>Action,Adventure,Sci-Fi</td>\n",
       "      <td>7.0</td>\n",
       "      <td>539338.0</td>\n",
       "    </tr>\n",
       "    <tr>\n",
       "      <th>4</th>\n",
       "      <td>tt0369610</td>\n",
       "      <td>14.0</td>\n",
       "      <td>jurassic world</td>\n",
       "      <td>FR</td>\n",
       "      <td>NaN</td>\n",
       "      <td>imdbDisplay</td>\n",
       "      <td>NaN</td>\n",
       "      <td>0.0</td>\n",
       "      <td>jurassic world</td>\n",
       "      <td>Jurassic World</td>\n",
       "      <td>2015</td>\n",
       "      <td>124.0</td>\n",
       "      <td>Action,Adventure,Sci-Fi</td>\n",
       "      <td>7.0</td>\n",
       "      <td>539338.0</td>\n",
       "    </tr>\n",
       "  </tbody>\n",
       "</table>\n",
       "</div>"
      ],
      "text/plain": [
       "      tconst  ordering                              title_akas region  \\\n",
       "0  tt0369610      10.0                           джурасик свят     BG   \n",
       "1  tt0369610      11.0                       jurashikku warudo     JP   \n",
       "2  tt0369610      12.0  jurassic world o mundo dos dinossauros     BR   \n",
       "3  tt0369610      13.0                 o mundo dos dinossauros     BR   \n",
       "4  tt0369610      14.0                          jurassic world     FR   \n",
       "\n",
       "  language        types   attributes  is_original_title   primary_title  \\\n",
       "0       bg          NaN          NaN                0.0  jurassic world   \n",
       "1      NaN  imdbDisplay          NaN                0.0  jurassic world   \n",
       "2      NaN  imdbDisplay          NaN                0.0  jurassic world   \n",
       "3      NaN          NaN  short title                0.0  jurassic world   \n",
       "4      NaN  imdbDisplay          NaN                0.0  jurassic world   \n",
       "\n",
       "   original_title  start_year  runtime_minutes                   genres  \\\n",
       "0  Jurassic World        2015            124.0  Action,Adventure,Sci-Fi   \n",
       "1  Jurassic World        2015            124.0  Action,Adventure,Sci-Fi   \n",
       "2  Jurassic World        2015            124.0  Action,Adventure,Sci-Fi   \n",
       "3  Jurassic World        2015            124.0  Action,Adventure,Sci-Fi   \n",
       "4  Jurassic World        2015            124.0  Action,Adventure,Sci-Fi   \n",
       "\n",
       "   averagerating  numvotes  \n",
       "0            7.0  539338.0  \n",
       "1            7.0  539338.0  \n",
       "2            7.0  539338.0  \n",
       "3            7.0  539338.0  \n",
       "4            7.0  539338.0  "
      ]
     },
     "execution_count": 7,
     "metadata": {},
     "output_type": "execute_result"
    }
   ],
   "source": [
    "#merging ratings \n",
    "imbd_info_df2 = imbd_info_df1.merge(ratings_df, on='tconst',how ='outer')\n",
    "imbd_info_df2.head()"
   ]
  },
  {
   "cell_type": "code",
   "execution_count": 8,
   "metadata": {},
   "outputs": [
    {
     "data": {
      "text/html": [
       "<div>\n",
       "<style scoped>\n",
       "    .dataframe tbody tr th:only-of-type {\n",
       "        vertical-align: middle;\n",
       "    }\n",
       "\n",
       "    .dataframe tbody tr th {\n",
       "        vertical-align: top;\n",
       "    }\n",
       "\n",
       "    .dataframe thead th {\n",
       "        text-align: right;\n",
       "    }\n",
       "</style>\n",
       "<table border=\"1\" class=\"dataframe\">\n",
       "  <thead>\n",
       "    <tr style=\"text-align: right;\">\n",
       "      <th></th>\n",
       "      <th>tconst</th>\n",
       "      <th>ordering</th>\n",
       "      <th>title_akas</th>\n",
       "      <th>region</th>\n",
       "      <th>language</th>\n",
       "      <th>types</th>\n",
       "      <th>attributes</th>\n",
       "      <th>is_original_title</th>\n",
       "      <th>primary_title</th>\n",
       "      <th>original_title</th>\n",
       "      <th>start_year</th>\n",
       "      <th>runtime_minutes</th>\n",
       "      <th>genres</th>\n",
       "      <th>averagerating</th>\n",
       "      <th>numvotes</th>\n",
       "      <th>title</th>\n",
       "      <th>studio</th>\n",
       "      <th>domestic_gross</th>\n",
       "      <th>foreign_gross</th>\n",
       "      <th>year</th>\n",
       "    </tr>\n",
       "  </thead>\n",
       "  <tbody>\n",
       "    <tr>\n",
       "      <th>0</th>\n",
       "      <td>tt0369610</td>\n",
       "      <td>10.0</td>\n",
       "      <td>джурасик свят</td>\n",
       "      <td>BG</td>\n",
       "      <td>bg</td>\n",
       "      <td>NaN</td>\n",
       "      <td>NaN</td>\n",
       "      <td>0.0</td>\n",
       "      <td>jurassic world</td>\n",
       "      <td>Jurassic World</td>\n",
       "      <td>2015.0</td>\n",
       "      <td>124.0</td>\n",
       "      <td>Action,Adventure,Sci-Fi</td>\n",
       "      <td>7.0</td>\n",
       "      <td>539338.0</td>\n",
       "      <td>jurassic world</td>\n",
       "      <td>Uni.</td>\n",
       "      <td>652300000.0</td>\n",
       "      <td>1,019.4</td>\n",
       "      <td>2015.0</td>\n",
       "    </tr>\n",
       "    <tr>\n",
       "      <th>1</th>\n",
       "      <td>tt0369610</td>\n",
       "      <td>11.0</td>\n",
       "      <td>jurashikku warudo</td>\n",
       "      <td>JP</td>\n",
       "      <td>NaN</td>\n",
       "      <td>imdbDisplay</td>\n",
       "      <td>NaN</td>\n",
       "      <td>0.0</td>\n",
       "      <td>jurassic world</td>\n",
       "      <td>Jurassic World</td>\n",
       "      <td>2015.0</td>\n",
       "      <td>124.0</td>\n",
       "      <td>Action,Adventure,Sci-Fi</td>\n",
       "      <td>7.0</td>\n",
       "      <td>539338.0</td>\n",
       "      <td>jurassic world</td>\n",
       "      <td>Uni.</td>\n",
       "      <td>652300000.0</td>\n",
       "      <td>1,019.4</td>\n",
       "      <td>2015.0</td>\n",
       "    </tr>\n",
       "    <tr>\n",
       "      <th>2</th>\n",
       "      <td>tt0369610</td>\n",
       "      <td>12.0</td>\n",
       "      <td>jurassic world o mundo dos dinossauros</td>\n",
       "      <td>BR</td>\n",
       "      <td>NaN</td>\n",
       "      <td>imdbDisplay</td>\n",
       "      <td>NaN</td>\n",
       "      <td>0.0</td>\n",
       "      <td>jurassic world</td>\n",
       "      <td>Jurassic World</td>\n",
       "      <td>2015.0</td>\n",
       "      <td>124.0</td>\n",
       "      <td>Action,Adventure,Sci-Fi</td>\n",
       "      <td>7.0</td>\n",
       "      <td>539338.0</td>\n",
       "      <td>jurassic world</td>\n",
       "      <td>Uni.</td>\n",
       "      <td>652300000.0</td>\n",
       "      <td>1,019.4</td>\n",
       "      <td>2015.0</td>\n",
       "    </tr>\n",
       "    <tr>\n",
       "      <th>3</th>\n",
       "      <td>tt0369610</td>\n",
       "      <td>13.0</td>\n",
       "      <td>o mundo dos dinossauros</td>\n",
       "      <td>BR</td>\n",
       "      <td>NaN</td>\n",
       "      <td>NaN</td>\n",
       "      <td>short title</td>\n",
       "      <td>0.0</td>\n",
       "      <td>jurassic world</td>\n",
       "      <td>Jurassic World</td>\n",
       "      <td>2015.0</td>\n",
       "      <td>124.0</td>\n",
       "      <td>Action,Adventure,Sci-Fi</td>\n",
       "      <td>7.0</td>\n",
       "      <td>539338.0</td>\n",
       "      <td>jurassic world</td>\n",
       "      <td>Uni.</td>\n",
       "      <td>652300000.0</td>\n",
       "      <td>1,019.4</td>\n",
       "      <td>2015.0</td>\n",
       "    </tr>\n",
       "    <tr>\n",
       "      <th>4</th>\n",
       "      <td>tt0369610</td>\n",
       "      <td>14.0</td>\n",
       "      <td>jurassic world</td>\n",
       "      <td>FR</td>\n",
       "      <td>NaN</td>\n",
       "      <td>imdbDisplay</td>\n",
       "      <td>NaN</td>\n",
       "      <td>0.0</td>\n",
       "      <td>jurassic world</td>\n",
       "      <td>Jurassic World</td>\n",
       "      <td>2015.0</td>\n",
       "      <td>124.0</td>\n",
       "      <td>Action,Adventure,Sci-Fi</td>\n",
       "      <td>7.0</td>\n",
       "      <td>539338.0</td>\n",
       "      <td>jurassic world</td>\n",
       "      <td>Uni.</td>\n",
       "      <td>652300000.0</td>\n",
       "      <td>1,019.4</td>\n",
       "      <td>2015.0</td>\n",
       "    </tr>\n",
       "  </tbody>\n",
       "</table>\n",
       "</div>"
      ],
      "text/plain": [
       "      tconst  ordering                              title_akas region  \\\n",
       "0  tt0369610      10.0                           джурасик свят     BG   \n",
       "1  tt0369610      11.0                       jurashikku warudo     JP   \n",
       "2  tt0369610      12.0  jurassic world o mundo dos dinossauros     BR   \n",
       "3  tt0369610      13.0                 o mundo dos dinossauros     BR   \n",
       "4  tt0369610      14.0                          jurassic world     FR   \n",
       "\n",
       "  language        types   attributes  is_original_title   primary_title  \\\n",
       "0       bg          NaN          NaN                0.0  jurassic world   \n",
       "1      NaN  imdbDisplay          NaN                0.0  jurassic world   \n",
       "2      NaN  imdbDisplay          NaN                0.0  jurassic world   \n",
       "3      NaN          NaN  short title                0.0  jurassic world   \n",
       "4      NaN  imdbDisplay          NaN                0.0  jurassic world   \n",
       "\n",
       "   original_title  start_year  runtime_minutes                   genres  \\\n",
       "0  Jurassic World      2015.0            124.0  Action,Adventure,Sci-Fi   \n",
       "1  Jurassic World      2015.0            124.0  Action,Adventure,Sci-Fi   \n",
       "2  Jurassic World      2015.0            124.0  Action,Adventure,Sci-Fi   \n",
       "3  Jurassic World      2015.0            124.0  Action,Adventure,Sci-Fi   \n",
       "4  Jurassic World      2015.0            124.0  Action,Adventure,Sci-Fi   \n",
       "\n",
       "   averagerating  numvotes           title studio  domestic_gross  \\\n",
       "0            7.0  539338.0  jurassic world   Uni.     652300000.0   \n",
       "1            7.0  539338.0  jurassic world   Uni.     652300000.0   \n",
       "2            7.0  539338.0  jurassic world   Uni.     652300000.0   \n",
       "3            7.0  539338.0  jurassic world   Uni.     652300000.0   \n",
       "4            7.0  539338.0  jurassic world   Uni.     652300000.0   \n",
       "\n",
       "  foreign_gross    year  \n",
       "0       1,019.4  2015.0  \n",
       "1       1,019.4  2015.0  \n",
       "2       1,019.4  2015.0  \n",
       "3       1,019.4  2015.0  \n",
       "4       1,019.4  2015.0  "
      ]
     },
     "execution_count": 8,
     "metadata": {},
     "output_type": "execute_result"
    }
   ],
   "source": [
    "#merging bom \n",
    "imbd_info_df3 = imbd_info_df2.merge(bom_df,left_on='primary_title', right_on='title', how ='outer')\n",
    "imbd_info_df3.head()"
   ]
  },
  {
   "cell_type": "markdown",
   "metadata": {},
   "source": [
    "imbd_cast_df1 = imbd_name_df.merge(principals_df, on='nconst')\n",
    "imbd_cast_df1.head()"
   ]
  },
  {
   "cell_type": "markdown",
   "metadata": {},
   "source": [
    "imbd_cast_df2 = imbd_cast_df1.merge(crew_df, on='tconst')\n",
    "imbd_cast_df2.head()"
   ]
  },
  {
   "cell_type": "code",
   "execution_count": 9,
   "metadata": {},
   "outputs": [],
   "source": [
    "#converting foreign gross column into float\n",
    "imbd_info_df3['foreign_gross']= imbd_info_df3['foreign_gross'].astype(str)\n",
    "imbd_info_df3['foreign_gross'] = imbd_info_df3['foreign_gross'].apply(remove_punctuations)\n",
    "imbd_info_df3['foreign_gross']= imbd_info_df3['foreign_gross'].astype(float)"
   ]
  },
  {
   "cell_type": "code",
   "execution_count": 10,
   "metadata": {},
   "outputs": [],
   "source": [
    "#selecting only the necessary columns\n",
    "imbd_info_df_main= imbd_info_df3[['genres','domestic_gross','averagerating','numvotes', 'foreign_gross', 'start_year']]"
   ]
  },
  {
   "cell_type": "code",
   "execution_count": 11,
   "metadata": {},
   "outputs": [
    {
     "data": {
      "text/html": [
       "<div>\n",
       "<style scoped>\n",
       "    .dataframe tbody tr th:only-of-type {\n",
       "        vertical-align: middle;\n",
       "    }\n",
       "\n",
       "    .dataframe tbody tr th {\n",
       "        vertical-align: top;\n",
       "    }\n",
       "\n",
       "    .dataframe thead th {\n",
       "        text-align: right;\n",
       "    }\n",
       "</style>\n",
       "<table border=\"1\" class=\"dataframe\">\n",
       "  <thead>\n",
       "    <tr style=\"text-align: right;\">\n",
       "      <th></th>\n",
       "      <th>genres</th>\n",
       "      <th>domestic_gross</th>\n",
       "      <th>averagerating</th>\n",
       "      <th>numvotes</th>\n",
       "      <th>foreign_gross</th>\n",
       "      <th>start_year</th>\n",
       "    </tr>\n",
       "  </thead>\n",
       "  <tbody>\n",
       "    <tr>\n",
       "      <th>0</th>\n",
       "      <td>Action,Adventure,Sci-Fi</td>\n",
       "      <td>652300000.0</td>\n",
       "      <td>7.0</td>\n",
       "      <td>539338.0</td>\n",
       "      <td>10194.0</td>\n",
       "      <td>2015.0</td>\n",
       "    </tr>\n",
       "    <tr>\n",
       "      <th>1</th>\n",
       "      <td>Action,Adventure,Sci-Fi</td>\n",
       "      <td>652300000.0</td>\n",
       "      <td>7.0</td>\n",
       "      <td>539338.0</td>\n",
       "      <td>10194.0</td>\n",
       "      <td>2015.0</td>\n",
       "    </tr>\n",
       "    <tr>\n",
       "      <th>2</th>\n",
       "      <td>Action,Adventure,Sci-Fi</td>\n",
       "      <td>652300000.0</td>\n",
       "      <td>7.0</td>\n",
       "      <td>539338.0</td>\n",
       "      <td>10194.0</td>\n",
       "      <td>2015.0</td>\n",
       "    </tr>\n",
       "    <tr>\n",
       "      <th>3</th>\n",
       "      <td>Action,Adventure,Sci-Fi</td>\n",
       "      <td>652300000.0</td>\n",
       "      <td>7.0</td>\n",
       "      <td>539338.0</td>\n",
       "      <td>10194.0</td>\n",
       "      <td>2015.0</td>\n",
       "    </tr>\n",
       "    <tr>\n",
       "      <th>4</th>\n",
       "      <td>Action,Adventure,Sci-Fi</td>\n",
       "      <td>652300000.0</td>\n",
       "      <td>7.0</td>\n",
       "      <td>539338.0</td>\n",
       "      <td>10194.0</td>\n",
       "      <td>2015.0</td>\n",
       "    </tr>\n",
       "  </tbody>\n",
       "</table>\n",
       "</div>"
      ],
      "text/plain": [
       "                    genres  domestic_gross  averagerating  numvotes  \\\n",
       "0  Action,Adventure,Sci-Fi     652300000.0            7.0  539338.0   \n",
       "1  Action,Adventure,Sci-Fi     652300000.0            7.0  539338.0   \n",
       "2  Action,Adventure,Sci-Fi     652300000.0            7.0  539338.0   \n",
       "3  Action,Adventure,Sci-Fi     652300000.0            7.0  539338.0   \n",
       "4  Action,Adventure,Sci-Fi     652300000.0            7.0  539338.0   \n",
       "\n",
       "   foreign_gross  start_year  \n",
       "0        10194.0      2015.0  \n",
       "1        10194.0      2015.0  \n",
       "2        10194.0      2015.0  \n",
       "3        10194.0      2015.0  \n",
       "4        10194.0      2015.0  "
      ]
     },
     "execution_count": 11,
     "metadata": {},
     "output_type": "execute_result"
    }
   ],
   "source": [
    "#remove null\n",
    "imbd_info_df_main_clean= imbd_info_df_main.dropna(axis=0).copy()\n",
    "imbd_info_df_main_clean.head()"
   ]
  },
  {
   "cell_type": "code",
   "execution_count": 12,
   "metadata": {},
   "outputs": [
    {
     "name": "stdout",
     "output_type": "stream",
     "text": [
      "<class 'pandas.core.frame.DataFrame'>\n",
      "Int64Index: 1909 entries, 0 to 333436\n",
      "Data columns (total 6 columns):\n",
      " #   Column          Non-Null Count  Dtype  \n",
      "---  ------          --------------  -----  \n",
      " 0   genres          1909 non-null   object \n",
      " 1   domestic_gross  1909 non-null   float64\n",
      " 2   averagerating   1909 non-null   float64\n",
      " 3   numvotes        1909 non-null   float64\n",
      " 4   foreign_gross   1909 non-null   float64\n",
      " 5   start_year      1909 non-null   float64\n",
      "dtypes: float64(5), object(1)\n",
      "memory usage: 104.4+ KB\n"
     ]
    }
   ],
   "source": [
    "#remove duplicates\n",
    "imbd_info_df_main_clean1= imbd_info_df_main_clean.drop_duplicates().copy()\n",
    "imbd_info_df_main_clean1.info()"
   ]
  },
  {
   "cell_type": "code",
   "execution_count": 13,
   "metadata": {},
   "outputs": [],
   "source": [
    "#creating total rating to find weighted rating \n",
    "imbd_info_df_main_clean1.eval('total_rating= averagerating *numvotes', inplace=True)"
   ]
  },
  {
   "cell_type": "code",
   "execution_count": 14,
   "metadata": {},
   "outputs": [
    {
     "data": {
      "text/html": [
       "<div>\n",
       "<style scoped>\n",
       "    .dataframe tbody tr th:only-of-type {\n",
       "        vertical-align: middle;\n",
       "    }\n",
       "\n",
       "    .dataframe tbody tr th {\n",
       "        vertical-align: top;\n",
       "    }\n",
       "\n",
       "    .dataframe thead th {\n",
       "        text-align: right;\n",
       "    }\n",
       "</style>\n",
       "<table border=\"1\" class=\"dataframe\">\n",
       "  <thead>\n",
       "    <tr style=\"text-align: right;\">\n",
       "      <th></th>\n",
       "      <th>index</th>\n",
       "      <th>genres</th>\n",
       "      <th>domestic_gross</th>\n",
       "      <th>averagerating</th>\n",
       "      <th>numvotes</th>\n",
       "      <th>foreign_gross</th>\n",
       "      <th>start_year</th>\n",
       "      <th>total_rating</th>\n",
       "    </tr>\n",
       "  </thead>\n",
       "  <tbody>\n",
       "    <tr>\n",
       "      <th>0</th>\n",
       "      <td>0</td>\n",
       "      <td>Action,Adventure,Sci-Fi</td>\n",
       "      <td>652300000.0</td>\n",
       "      <td>7.0</td>\n",
       "      <td>539338.0</td>\n",
       "      <td>10194.0</td>\n",
       "      <td>2015.0</td>\n",
       "      <td>3775366.0</td>\n",
       "    </tr>\n",
       "    <tr>\n",
       "      <th>1</th>\n",
       "      <td>49</td>\n",
       "      <td>Action,Adventure,Sci-Fi</td>\n",
       "      <td>73100000.0</td>\n",
       "      <td>6.6</td>\n",
       "      <td>241792.0</td>\n",
       "      <td>211100000.0</td>\n",
       "      <td>2012.0</td>\n",
       "      <td>1595827.2</td>\n",
       "    </tr>\n",
       "    <tr>\n",
       "      <th>2</th>\n",
       "      <td>161</td>\n",
       "      <td>Action,Crime,Thriller</td>\n",
       "      <td>24100000.0</td>\n",
       "      <td>6.5</td>\n",
       "      <td>107079.0</td>\n",
       "      <td>28700000.0</td>\n",
       "      <td>2010.0</td>\n",
       "      <td>696013.5</td>\n",
       "    </tr>\n",
       "    <tr>\n",
       "      <th>3</th>\n",
       "      <td>199</td>\n",
       "      <td>Action,Adventure,Thriller</td>\n",
       "      <td>113200000.0</td>\n",
       "      <td>6.7</td>\n",
       "      <td>268678.0</td>\n",
       "      <td>162900000.0</td>\n",
       "      <td>2012.0</td>\n",
       "      <td>1800142.6</td>\n",
       "    </tr>\n",
       "    <tr>\n",
       "      <th>4</th>\n",
       "      <td>231</td>\n",
       "      <td>Comedy,Crime,Mystery</td>\n",
       "      <td>45900000.0</td>\n",
       "      <td>5.9</td>\n",
       "      <td>56.0</td>\n",
       "      <td>15000000.0</td>\n",
       "      <td>2010.0</td>\n",
       "      <td>330.4</td>\n",
       "    </tr>\n",
       "  </tbody>\n",
       "</table>\n",
       "</div>"
      ],
      "text/plain": [
       "   index                     genres  domestic_gross  averagerating  numvotes  \\\n",
       "0      0    Action,Adventure,Sci-Fi     652300000.0            7.0  539338.0   \n",
       "1     49    Action,Adventure,Sci-Fi      73100000.0            6.6  241792.0   \n",
       "2    161      Action,Crime,Thriller      24100000.0            6.5  107079.0   \n",
       "3    199  Action,Adventure,Thriller     113200000.0            6.7  268678.0   \n",
       "4    231       Comedy,Crime,Mystery      45900000.0            5.9      56.0   \n",
       "\n",
       "   foreign_gross  start_year  total_rating  \n",
       "0        10194.0      2015.0     3775366.0  \n",
       "1    211100000.0      2012.0     1595827.2  \n",
       "2     28700000.0      2010.0      696013.5  \n",
       "3    162900000.0      2012.0     1800142.6  \n",
       "4     15000000.0      2010.0         330.4  "
      ]
     },
     "execution_count": 14,
     "metadata": {},
     "output_type": "execute_result"
    }
   ],
   "source": [
    "imbd_info_df_main_clean1.head().reset_index()"
   ]
  },
  {
   "cell_type": "markdown",
   "metadata": {},
   "source": [
    "## Data Modeling"
   ]
  },
  {
   "cell_type": "code",
   "execution_count": 15,
   "metadata": {},
   "outputs": [
    {
     "data": {
      "text/plain": [
       "start_year        0.089035\n",
       "averagerating     0.168776\n",
       "total_rating      0.607834\n",
       "numvotes          0.630160\n",
       "foreign_gross     0.792443\n",
       "domestic_gross    1.000000\n",
       "Name: domestic_gross, dtype: float64"
      ]
     },
     "execution_count": 15,
     "metadata": {},
     "output_type": "execute_result"
    }
   ],
   "source": [
    "imbd_info_df_main_clean1.corr()['domestic_gross'].sort_values()"
   ]
  },
  {
   "cell_type": "code",
   "execution_count": 123,
   "metadata": {},
   "outputs": [
    {
     "data": {
      "text/plain": [
       "<AxesSubplot:xlabel='genres'>"
      ]
     },
     "execution_count": 123,
     "metadata": {},
     "output_type": "execute_result"
    },
    {
     "data": {
      "image/png": "[encoded data removed]",
      "text/plain": [
       "<Figure size 432x288 with 1 Axes>"
      ]
     },
     "metadata": {
      "needs_background": "light"
     },
     "output_type": "display_data"
    }
   ],
   "source": [
    "#top genres based on domestic gross \n",
    "gross_per_genre = imbd_info_df_main_clean1.groupby(['genres'])['domestic_gross'].mean().sort_values(ascending=False)\n",
    "gross_per_genre.head(10).plot(kind = 'bar')"
   ]
  },
  {
   "cell_type": "code",
   "execution_count": 124,
   "metadata": {},
   "outputs": [
    {
     "data": {
      "text/plain": [
       "mean      4.347962e+07\n",
       "median    2.690981e+07\n",
       "std       6.164440e+07\n",
       "max       4.126000e+08\n",
       "min       8.000000e+02\n",
       "Name: domestic_gross, dtype: float64"
      ]
     },
     "execution_count": 124,
     "metadata": {},
     "output_type": "execute_result"
    }
   ],
   "source": [
    "#stats on domestic gross \n",
    "gross_per_genre.apply(['mean', 'median', 'std', 'max', 'min'])"
   ]
  },
  {
   "cell_type": "code",
   "execution_count": 125,
   "metadata": {},
   "outputs": [
    {
     "data": {
      "text/plain": [
       "6.693227179938723"
      ]
     },
     "execution_count": 125,
     "metadata": {},
     "output_type": "execute_result"
    }
   ],
   "source": [
    "#outlier\n",
    "gross_per_genre.max()/gross_per_genre.std()"
   ]
  },
  {
   "cell_type": "code",
   "execution_count": 60,
   "metadata": {},
   "outputs": [
    {
     "data": {
      "text/plain": [
       "1.2977658128819628e-05"
      ]
     },
     "execution_count": 60,
     "metadata": {},
     "output_type": "execute_result"
    }
   ],
   "source": [
    "#outlier\n",
    "gross_per_genre.min()/gross_per_genre.std()"
   ]
  },
  {
   "cell_type": "code",
   "execution_count": 80,
   "metadata": {
    "scrolled": true
   },
   "outputs": [],
   "source": [
    "#finding weighted rating\n",
    "totalvote_per_genre = imbd_info_df_main_clean1.groupby(['genres'])['numvotes'].sum()\n",
    "totalvote_df = totalvote_per_genre.to_frame()\n",
    "totalrating_per_genre = imbd_info_df_main_clean1.groupby(['genres'])['total_rating'].sum()\n",
    "totalrating_df = totalrating_per_genre.to_frame()\n",
    "gross_df= gross_per_genre.to_frame()"
   ]
  },
  {
   "cell_type": "code",
   "execution_count": 74,
   "metadata": {},
   "outputs": [
    {
     "data": {
      "text/html": [
       "<div>\n",
       "<style scoped>\n",
       "    .dataframe tbody tr th:only-of-type {\n",
       "        vertical-align: middle;\n",
       "    }\n",
       "\n",
       "    .dataframe tbody tr th {\n",
       "        vertical-align: top;\n",
       "    }\n",
       "\n",
       "    .dataframe thead th {\n",
       "        text-align: right;\n",
       "    }\n",
       "</style>\n",
       "<table border=\"1\" class=\"dataframe\">\n",
       "  <thead>\n",
       "    <tr style=\"text-align: right;\">\n",
       "      <th></th>\n",
       "      <th>genres</th>\n",
       "      <th>total_rating</th>\n",
       "      <th>numvotes</th>\n",
       "      <th>weighted_rating</th>\n",
       "    </tr>\n",
       "  </thead>\n",
       "  <tbody>\n",
       "    <tr>\n",
       "      <th>0</th>\n",
       "      <td>Action</td>\n",
       "      <td>551600.5</td>\n",
       "      <td>96486.0</td>\n",
       "      <td>5.716897</td>\n",
       "    </tr>\n",
       "    <tr>\n",
       "      <th>1</th>\n",
       "      <td>Action,Adventure</td>\n",
       "      <td>60428.6</td>\n",
       "      <td>10084.0</td>\n",
       "      <td>5.992523</td>\n",
       "    </tr>\n",
       "    <tr>\n",
       "      <th>2</th>\n",
       "      <td>Action,Adventure,Animation</td>\n",
       "      <td>24859850.8</td>\n",
       "      <td>3246684.0</td>\n",
       "      <td>7.656997</td>\n",
       "    </tr>\n",
       "    <tr>\n",
       "      <th>3</th>\n",
       "      <td>Action,Adventure,Biography</td>\n",
       "      <td>5960200.2</td>\n",
       "      <td>766392.0</td>\n",
       "      <td>7.776960</td>\n",
       "    </tr>\n",
       "    <tr>\n",
       "      <th>4</th>\n",
       "      <td>Action,Adventure,Comedy</td>\n",
       "      <td>44663008.0</td>\n",
       "      <td>5991675.0</td>\n",
       "      <td>7.454177</td>\n",
       "    </tr>\n",
       "    <tr>\n",
       "      <th>...</th>\n",
       "      <td>...</td>\n",
       "      <td>...</td>\n",
       "      <td>...</td>\n",
       "      <td>...</td>\n",
       "    </tr>\n",
       "    <tr>\n",
       "      <th>264</th>\n",
       "      <td>Romance,Sci-Fi,Thriller</td>\n",
       "      <td>1616073.6</td>\n",
       "      <td>227616.0</td>\n",
       "      <td>7.100000</td>\n",
       "    </tr>\n",
       "    <tr>\n",
       "      <th>265</th>\n",
       "      <td>Romance,Thriller</td>\n",
       "      <td>179296.4</td>\n",
       "      <td>29094.0</td>\n",
       "      <td>6.162659</td>\n",
       "    </tr>\n",
       "    <tr>\n",
       "      <th>266</th>\n",
       "      <td>Sci-Fi</td>\n",
       "      <td>84.0</td>\n",
       "      <td>20.0</td>\n",
       "      <td>4.200000</td>\n",
       "    </tr>\n",
       "    <tr>\n",
       "      <th>267</th>\n",
       "      <td>Thriller</td>\n",
       "      <td>17845.5</td>\n",
       "      <td>3403.0</td>\n",
       "      <td>5.244049</td>\n",
       "    </tr>\n",
       "    <tr>\n",
       "      <th>268</th>\n",
       "      <td>Thriller,Western</td>\n",
       "      <td>50393.6</td>\n",
       "      <td>7874.0</td>\n",
       "      <td>6.400000</td>\n",
       "    </tr>\n",
       "  </tbody>\n",
       "</table>\n",
       "<p>269 rows × 4 columns</p>\n",
       "</div>"
      ],
      "text/plain": [
       "                         genres  total_rating   numvotes  weighted_rating\n",
       "0                        Action      551600.5    96486.0         5.716897\n",
       "1              Action,Adventure       60428.6    10084.0         5.992523\n",
       "2    Action,Adventure,Animation    24859850.8  3246684.0         7.656997\n",
       "3    Action,Adventure,Biography     5960200.2   766392.0         7.776960\n",
       "4       Action,Adventure,Comedy    44663008.0  5991675.0         7.454177\n",
       "..                          ...           ...        ...              ...\n",
       "264     Romance,Sci-Fi,Thriller     1616073.6   227616.0         7.100000\n",
       "265            Romance,Thriller      179296.4    29094.0         6.162659\n",
       "266                      Sci-Fi          84.0       20.0         4.200000\n",
       "267                    Thriller       17845.5     3403.0         5.244049\n",
       "268            Thriller,Western       50393.6     7874.0         6.400000\n",
       "\n",
       "[269 rows x 4 columns]"
      ]
     },
     "execution_count": 74,
     "metadata": {},
     "output_type": "execute_result"
    }
   ],
   "source": [
    "weighted_rating = totalrating_df.merge(totalvote_df, on='genres', how='outer')\n",
    "weighted_rating['weighted_rating']= weighted_rating['total_rating']/weighted_rating['numvotes']\n",
    "weighted_rating.reset_index()"
   ]
  },
  {
   "cell_type": "code",
   "execution_count": 114,
   "metadata": {},
   "outputs": [],
   "source": [
    "#creating the final dataframe for scatter plots \n",
    "final_df= gross_df.merge(weighted_rating, on= 'genres')\n",
    "#final_df['numvotes'].apply(['mean', 'median', 'std', 'max', 'min'])"
   ]
  },
  {
   "cell_type": "code",
   "execution_count": 116,
   "metadata": {},
   "outputs": [
    {
     "data": {
      "text/plain": [
       "domestic_gross     0.061760\n",
       "numvotes           0.156774\n",
       "total_rating       0.172701\n",
       "weighted_rating    1.000000\n",
       "Name: weighted_rating, dtype: float64"
      ]
     },
     "execution_count": 116,
     "metadata": {},
     "output_type": "execute_result"
    }
   ],
   "source": [
    "#finding to be shown through scatter plots \n",
    "correlation_dome = final_df.corr()['weighted_rating'].sort_values()\n",
    "correlation_dome "
   ]
  },
  {
   "cell_type": "code",
   "execution_count": 113,
   "metadata": {},
   "outputs": [
    {
     "data": {
      "text/plain": [
       "Text(0, 0.5, 'number of votes')"
      ]
     },
     "execution_count": 113,
     "metadata": {},
     "output_type": "execute_result"
    },
    {
     "data": {
      "image/png": "[encoded data removed]",
      "text/plain": [
       "<Figure size 1008x432 with 2 Axes>"
      ]
     },
     "metadata": {
      "needs_background": "light"
     },
     "output_type": "display_data"
    }
   ],
   "source": [
    "fig, (ax1, ax2) = plt.subplots(figsize=(14,6), ncols=2)\n",
    "ax1.set_xlim(1, 10) \n",
    "ax1.set_ylim(2.690981e+07, 1.164440e+08)\n",
    "ax2.set_xlim(1, 10) \n",
    "ax2.set_ylim(1.471160e+04, 1.0e+06)\n",
    "\n",
    "ax1.scatter(final_df['weighted_rating'], final_df['domestic_gross'], color='red', marker='x')\n",
    "ax2.scatter(final_df['weighted_rating'], final_df['numvotes'], color='lightblue', marker='x')\n",
    "\n",
    "fig.legend(labels=[\"rating vs gross\", \"rating vs number of votes\"], loc=(.68, .88));\n",
    "ax1.set_xlabel('weighted rating')\n",
    "ax1.set_ylabel('domestic gross')\n",
    "\n",
    "ax2.set_xlabel('weighted rating')\n",
    "ax2.set_ylabel('number of votes')\n"
   ]
  },
  {
   "cell_type": "markdown",
   "metadata": {},
   "source": [
    "## Evaluation"
   ]
  },
  {
   "cell_type": "code",
   "execution_count": null,
   "metadata": {},
   "outputs": [],
   "source": []
  }
 ],
 "metadata": {
  "kernelspec": {
   "display_name": "Python (learn-env)",
   "language": "python",
   "name": "learn-env"
  },
  "language_info": {
   "codemirror_mode": {
    "name": "ipython",
    "version": 3
   },
   "file_extension": ".py",
   "mimetype": "text/x-python",
   "name": "python",
   "nbconvert_exporter": "python",
   "pygments_lexer": "ipython3",
   "version": "3.8.5"
  }
 },
 "nbformat": 4,
 "nbformat_minor": 2
}
