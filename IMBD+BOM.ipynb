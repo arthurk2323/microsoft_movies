{
 "cells": [
  {
   "cell_type": "markdown",
   "metadata": {},
   "source": [
    "## Overview\n",
    "A one-paragraph overview of the project, including the business problem, data, methods, results and recommendations."
   ]
  },
  {
   "cell_type": "code",
   "execution_count": null,
   "metadata": {},
   "outputs": [],
   "source": []
  },
  {
   "cell_type": "markdown",
   "metadata": {},
   "source": [
    "## Business Problem\n",
    "Summary of the business problem you are trying to solve, and the data questions that you plan to answer to solve them.\n",
    "\n",
    "***\n",
    "Questions to consider:\n",
    "* What are the business's pain points related to this project?\n",
    "* How did you pick the data analysis question(s) that you did?\n",
    "* Why are these questions important from a business perspective?\n",
    "***"
   ]
  },
  {
   "cell_type": "markdown",
   "metadata": {},
   "source": [
    "exploring differeent ideas on what define a successful film \n",
    "profit margin based on domestic gross \n"
   ]
  },
  {
   "cell_type": "code",
   "execution_count": 1,
   "metadata": {},
   "outputs": [
    {
     "name": "stdout",
     "output_type": "stream",
     "text": [
      "bom.movie_gross.csv       imdb.title.crew.csv       rt.reviews.tsv\r\n",
      "imdb.name.basics.csv      imdb.title.principals.csv tmdb.movies.csv\r\n",
      "imdb.title.akas.csv       imdb.title.ratings.csv    tn.movie_budgets.csv\r\n",
      "imdb.title.basics.csv     rt.movie_info.tsv\r\n"
     ]
    }
   ],
   "source": [
    "!ls Data"
   ]
  },
  {
   "cell_type": "code",
   "execution_count": 1,
   "metadata": {},
   "outputs": [],
   "source": [
    "\n",
    "import pandas as pd\n",
    "import numpy as np\n",
    "import matplotlib.pyplot as plt\n",
    "import seaborn as sns\n",
    "\n",
    "%matplotlib inline\n"
   ]
  },
  {
   "cell_type": "code",
   "execution_count": 2,
   "metadata": {},
   "outputs": [],
   "source": [
    "bom_df= pd.read_csv('data/bom.movie_gross.csv')\n",
    "imbd_name_df= pd.read_csv('data/imdb.name.basics.csv')\n",
    "akas_df=pd.read_csv('data/imdb.title.akas.csv')\n",
    "basics_df= pd.read_csv('data/imdb.title.basics.csv')\n",
    "crew_df= pd.read_csv('data/imdb.title.crew.csv')\n",
    "principals_df= pd.read_csv('data/imdb.title.principals.csv')\n",
    "ratings_df=pd.read_csv('data/imdb.title.ratings.csv')"
   ]
  },
  {
   "cell_type": "markdown",
   "metadata": {},
   "source": [
    "## Data Preparation"
   ]
  },
  {
   "cell_type": "code",
   "execution_count": 3,
   "metadata": {},
   "outputs": [],
   "source": [
    "import string\n",
    "\n",
    "#removing punctuations \n",
    "def remove_punctuations(text):\n",
    "    for punctuation in string.punctuation:\n",
    "        text = text.replace(punctuation, '')\n",
    "    return text\n",
    "\n",
    "bom_df[\"title\"] = bom_df['title'].apply(remove_punctuations)\n",
    "bom_df[\"title\"]= bom_df[\"title\"].str.lower()"
   ]
  },
  {
   "cell_type": "code",
   "execution_count": 4,
   "metadata": {},
   "outputs": [],
   "source": [
    "#renaming the column to merge tables\n",
    "akas_df.rename(columns={'title_id':'tconst'}, inplace=True)\n",
    "akas_df.rename(columns={'title':'title_akas'}, inplace=True)\n",
    "#removing punctuations and lower case title\n",
    "akas_df[\"title_akas\"] = akas_df['title_akas'].apply(remove_punctuations)\n",
    "basics_df[\"primary_title\"] = basics_df['primary_title'].apply(remove_punctuations)\n",
    "akas_df[\"title_akas\"] = akas_df['title_akas'].str.lower()\n",
    "basics_df[\"primary_title\"]= basics_df['primary_title'].str.lower()"
   ]
  },
  {
   "cell_type": "code",
   "execution_count": 5,
   "metadata": {},
   "outputs": [
    {
     "data": {
      "text/html": [
       "<div>\n",
       "<style scoped>\n",
       "    .dataframe tbody tr th:only-of-type {\n",
       "        vertical-align: middle;\n",
       "    }\n",
       "\n",
       "    .dataframe tbody tr th {\n",
       "        vertical-align: top;\n",
       "    }\n",
       "\n",
       "    .dataframe thead th {\n",
       "        text-align: right;\n",
       "    }\n",
       "</style>\n",
       "<table border=\"1\" class=\"dataframe\">\n",
       "  <thead>\n",
       "    <tr style=\"text-align: right;\">\n",
       "      <th></th>\n",
       "      <th>tconst</th>\n",
       "      <th>ordering</th>\n",
       "      <th>title_akas</th>\n",
       "      <th>region</th>\n",
       "      <th>language</th>\n",
       "      <th>types</th>\n",
       "      <th>attributes</th>\n",
       "      <th>is_original_title</th>\n",
       "      <th>primary_title</th>\n",
       "      <th>original_title</th>\n",
       "      <th>start_year</th>\n",
       "      <th>runtime_minutes</th>\n",
       "      <th>genres</th>\n",
       "    </tr>\n",
       "  </thead>\n",
       "  <tbody>\n",
       "    <tr>\n",
       "      <th>0</th>\n",
       "      <td>tt0369610</td>\n",
       "      <td>10.0</td>\n",
       "      <td>джурасик свят</td>\n",
       "      <td>BG</td>\n",
       "      <td>bg</td>\n",
       "      <td>NaN</td>\n",
       "      <td>NaN</td>\n",
       "      <td>0.0</td>\n",
       "      <td>jurassic world</td>\n",
       "      <td>Jurassic World</td>\n",
       "      <td>2015</td>\n",
       "      <td>124.0</td>\n",
       "      <td>Action,Adventure,Sci-Fi</td>\n",
       "    </tr>\n",
       "    <tr>\n",
       "      <th>1</th>\n",
       "      <td>tt0369610</td>\n",
       "      <td>11.0</td>\n",
       "      <td>jurashikku warudo</td>\n",
       "      <td>JP</td>\n",
       "      <td>NaN</td>\n",
       "      <td>imdbDisplay</td>\n",
       "      <td>NaN</td>\n",
       "      <td>0.0</td>\n",
       "      <td>jurassic world</td>\n",
       "      <td>Jurassic World</td>\n",
       "      <td>2015</td>\n",
       "      <td>124.0</td>\n",
       "      <td>Action,Adventure,Sci-Fi</td>\n",
       "    </tr>\n",
       "    <tr>\n",
       "      <th>2</th>\n",
       "      <td>tt0369610</td>\n",
       "      <td>12.0</td>\n",
       "      <td>jurassic world o mundo dos dinossauros</td>\n",
       "      <td>BR</td>\n",
       "      <td>NaN</td>\n",
       "      <td>imdbDisplay</td>\n",
       "      <td>NaN</td>\n",
       "      <td>0.0</td>\n",
       "      <td>jurassic world</td>\n",
       "      <td>Jurassic World</td>\n",
       "      <td>2015</td>\n",
       "      <td>124.0</td>\n",
       "      <td>Action,Adventure,Sci-Fi</td>\n",
       "    </tr>\n",
       "    <tr>\n",
       "      <th>3</th>\n",
       "      <td>tt0369610</td>\n",
       "      <td>13.0</td>\n",
       "      <td>o mundo dos dinossauros</td>\n",
       "      <td>BR</td>\n",
       "      <td>NaN</td>\n",
       "      <td>NaN</td>\n",
       "      <td>short title</td>\n",
       "      <td>0.0</td>\n",
       "      <td>jurassic world</td>\n",
       "      <td>Jurassic World</td>\n",
       "      <td>2015</td>\n",
       "      <td>124.0</td>\n",
       "      <td>Action,Adventure,Sci-Fi</td>\n",
       "    </tr>\n",
       "    <tr>\n",
       "      <th>4</th>\n",
       "      <td>tt0369610</td>\n",
       "      <td>14.0</td>\n",
       "      <td>jurassic world</td>\n",
       "      <td>FR</td>\n",
       "      <td>NaN</td>\n",
       "      <td>imdbDisplay</td>\n",
       "      <td>NaN</td>\n",
       "      <td>0.0</td>\n",
       "      <td>jurassic world</td>\n",
       "      <td>Jurassic World</td>\n",
       "      <td>2015</td>\n",
       "      <td>124.0</td>\n",
       "      <td>Action,Adventure,Sci-Fi</td>\n",
       "    </tr>\n",
       "  </tbody>\n",
       "</table>\n",
       "</div>"
      ],
      "text/plain": [
       "      tconst  ordering                              title_akas region  \\\n",
       "0  tt0369610      10.0                           джурасик свят     BG   \n",
       "1  tt0369610      11.0                       jurashikku warudo     JP   \n",
       "2  tt0369610      12.0  jurassic world o mundo dos dinossauros     BR   \n",
       "3  tt0369610      13.0                 o mundo dos dinossauros     BR   \n",
       "4  tt0369610      14.0                          jurassic world     FR   \n",
       "\n",
       "  language        types   attributes  is_original_title   primary_title  \\\n",
       "0       bg          NaN          NaN                0.0  jurassic world   \n",
       "1      NaN  imdbDisplay          NaN                0.0  jurassic world   \n",
       "2      NaN  imdbDisplay          NaN                0.0  jurassic world   \n",
       "3      NaN          NaN  short title                0.0  jurassic world   \n",
       "4      NaN  imdbDisplay          NaN                0.0  jurassic world   \n",
       "\n",
       "   original_title  start_year  runtime_minutes                   genres  \n",
       "0  Jurassic World        2015            124.0  Action,Adventure,Sci-Fi  \n",
       "1  Jurassic World        2015            124.0  Action,Adventure,Sci-Fi  \n",
       "2  Jurassic World        2015            124.0  Action,Adventure,Sci-Fi  \n",
       "3  Jurassic World        2015            124.0  Action,Adventure,Sci-Fi  \n",
       "4  Jurassic World        2015            124.0  Action,Adventure,Sci-Fi  "
      ]
     },
     "execution_count": 5,
     "metadata": {},
     "output_type": "execute_result"
    }
   ],
   "source": [
    "#combining akas and basics \n",
    "imbd_info_df1= akas_df.merge(basics_df, on = 'tconst', how ='outer')\n",
    "imbd_info_df1.head()"
   ]
  },
  {
   "cell_type": "code",
   "execution_count": 6,
   "metadata": {},
   "outputs": [
    {
     "data": {
      "text/html": [
       "<div>\n",
       "<style scoped>\n",
       "    .dataframe tbody tr th:only-of-type {\n",
       "        vertical-align: middle;\n",
       "    }\n",
       "\n",
       "    .dataframe tbody tr th {\n",
       "        vertical-align: top;\n",
       "    }\n",
       "\n",
       "    .dataframe thead th {\n",
       "        text-align: right;\n",
       "    }\n",
       "</style>\n",
       "<table border=\"1\" class=\"dataframe\">\n",
       "  <thead>\n",
       "    <tr style=\"text-align: right;\">\n",
       "      <th></th>\n",
       "      <th>tconst</th>\n",
       "      <th>ordering</th>\n",
       "      <th>title_akas</th>\n",
       "      <th>region</th>\n",
       "      <th>language</th>\n",
       "      <th>types</th>\n",
       "      <th>attributes</th>\n",
       "      <th>is_original_title</th>\n",
       "      <th>primary_title</th>\n",
       "      <th>original_title</th>\n",
       "      <th>start_year</th>\n",
       "      <th>runtime_minutes</th>\n",
       "      <th>genres</th>\n",
       "      <th>averagerating</th>\n",
       "      <th>numvotes</th>\n",
       "    </tr>\n",
       "  </thead>\n",
       "  <tbody>\n",
       "    <tr>\n",
       "      <th>0</th>\n",
       "      <td>tt0369610</td>\n",
       "      <td>10.0</td>\n",
       "      <td>джурасик свят</td>\n",
       "      <td>BG</td>\n",
       "      <td>bg</td>\n",
       "      <td>NaN</td>\n",
       "      <td>NaN</td>\n",
       "      <td>0.0</td>\n",
       "      <td>jurassic world</td>\n",
       "      <td>Jurassic World</td>\n",
       "      <td>2015</td>\n",
       "      <td>124.0</td>\n",
       "      <td>Action,Adventure,Sci-Fi</td>\n",
       "      <td>7.0</td>\n",
       "      <td>539338.0</td>\n",
       "    </tr>\n",
       "    <tr>\n",
       "      <th>1</th>\n",
       "      <td>tt0369610</td>\n",
       "      <td>11.0</td>\n",
       "      <td>jurashikku warudo</td>\n",
       "      <td>JP</td>\n",
       "      <td>NaN</td>\n",
       "      <td>imdbDisplay</td>\n",
       "      <td>NaN</td>\n",
       "      <td>0.0</td>\n",
       "      <td>jurassic world</td>\n",
       "      <td>Jurassic World</td>\n",
       "      <td>2015</td>\n",
       "      <td>124.0</td>\n",
       "      <td>Action,Adventure,Sci-Fi</td>\n",
       "      <td>7.0</td>\n",
       "      <td>539338.0</td>\n",
       "    </tr>\n",
       "    <tr>\n",
       "      <th>2</th>\n",
       "      <td>tt0369610</td>\n",
       "      <td>12.0</td>\n",
       "      <td>jurassic world o mundo dos dinossauros</td>\n",
       "      <td>BR</td>\n",
       "      <td>NaN</td>\n",
       "      <td>imdbDisplay</td>\n",
       "      <td>NaN</td>\n",
       "      <td>0.0</td>\n",
       "      <td>jurassic world</td>\n",
       "      <td>Jurassic World</td>\n",
       "      <td>2015</td>\n",
       "      <td>124.0</td>\n",
       "      <td>Action,Adventure,Sci-Fi</td>\n",
       "      <td>7.0</td>\n",
       "      <td>539338.0</td>\n",
       "    </tr>\n",
       "    <tr>\n",
       "      <th>3</th>\n",
       "      <td>tt0369610</td>\n",
       "      <td>13.0</td>\n",
       "      <td>o mundo dos dinossauros</td>\n",
       "      <td>BR</td>\n",
       "      <td>NaN</td>\n",
       "      <td>NaN</td>\n",
       "      <td>short title</td>\n",
       "      <td>0.0</td>\n",
       "      <td>jurassic world</td>\n",
       "      <td>Jurassic World</td>\n",
       "      <td>2015</td>\n",
       "      <td>124.0</td>\n",
       "      <td>Action,Adventure,Sci-Fi</td>\n",
       "      <td>7.0</td>\n",
       "      <td>539338.0</td>\n",
       "    </tr>\n",
       "    <tr>\n",
       "      <th>4</th>\n",
       "      <td>tt0369610</td>\n",
       "      <td>14.0</td>\n",
       "      <td>jurassic world</td>\n",
       "      <td>FR</td>\n",
       "      <td>NaN</td>\n",
       "      <td>imdbDisplay</td>\n",
       "      <td>NaN</td>\n",
       "      <td>0.0</td>\n",
       "      <td>jurassic world</td>\n",
       "      <td>Jurassic World</td>\n",
       "      <td>2015</td>\n",
       "      <td>124.0</td>\n",
       "      <td>Action,Adventure,Sci-Fi</td>\n",
       "      <td>7.0</td>\n",
       "      <td>539338.0</td>\n",
       "    </tr>\n",
       "  </tbody>\n",
       "</table>\n",
       "</div>"
      ],
      "text/plain": [
       "      tconst  ordering                              title_akas region  \\\n",
       "0  tt0369610      10.0                           джурасик свят     BG   \n",
       "1  tt0369610      11.0                       jurashikku warudo     JP   \n",
       "2  tt0369610      12.0  jurassic world o mundo dos dinossauros     BR   \n",
       "3  tt0369610      13.0                 o mundo dos dinossauros     BR   \n",
       "4  tt0369610      14.0                          jurassic world     FR   \n",
       "\n",
       "  language        types   attributes  is_original_title   primary_title  \\\n",
       "0       bg          NaN          NaN                0.0  jurassic world   \n",
       "1      NaN  imdbDisplay          NaN                0.0  jurassic world   \n",
       "2      NaN  imdbDisplay          NaN                0.0  jurassic world   \n",
       "3      NaN          NaN  short title                0.0  jurassic world   \n",
       "4      NaN  imdbDisplay          NaN                0.0  jurassic world   \n",
       "\n",
       "   original_title  start_year  runtime_minutes                   genres  \\\n",
       "0  Jurassic World        2015            124.0  Action,Adventure,Sci-Fi   \n",
       "1  Jurassic World        2015            124.0  Action,Adventure,Sci-Fi   \n",
       "2  Jurassic World        2015            124.0  Action,Adventure,Sci-Fi   \n",
       "3  Jurassic World        2015            124.0  Action,Adventure,Sci-Fi   \n",
       "4  Jurassic World        2015            124.0  Action,Adventure,Sci-Fi   \n",
       "\n",
       "   averagerating  numvotes  \n",
       "0            7.0  539338.0  \n",
       "1            7.0  539338.0  \n",
       "2            7.0  539338.0  \n",
       "3            7.0  539338.0  \n",
       "4            7.0  539338.0  "
      ]
     },
     "execution_count": 6,
     "metadata": {},
     "output_type": "execute_result"
    }
   ],
   "source": [
    "#merging ratings \n",
    "imbd_info_df2 = imbd_info_df1.merge(ratings_df, on='tconst',how ='outer')\n",
    "imbd_info_df2.head()"
   ]
  },
  {
   "cell_type": "code",
   "execution_count": 38,
   "metadata": {},
   "outputs": [
    {
     "data": {
      "text/plain": [
       "257"
      ]
     },
     "execution_count": 38,
     "metadata": {},
     "output_type": "execute_result"
    }
   ],
   "source": [
    "#merging bom \n",
    "imbd_info_df3 = imbd_info_df2.merge(bom_df,left_on='primary_title', right_on='title', how ='outer')\n",
    "imbd_info_df3['studio'].nunique()"
   ]
  },
  {
   "cell_type": "markdown",
   "metadata": {},
   "source": [
    "imbd_cast_df1 = imbd_name_df.merge(principals_df, on='nconst')\n",
    "imbd_cast_df1.head()"
   ]
  },
  {
   "cell_type": "markdown",
   "metadata": {},
   "source": [
    "imbd_cast_df2 = imbd_cast_df1.merge(crew_df, on='tconst')\n",
    "imbd_cast_df2.head()"
   ]
  },
  {
   "cell_type": "code",
   "execution_count": 8,
   "metadata": {},
   "outputs": [],
   "source": [
    "#converting foreign gross column into float\n",
    "imbd_info_df3['foreign_gross']= imbd_info_df3['foreign_gross'].astype(str)\n",
    "imbd_info_df3['foreign_gross'] = imbd_info_df3['foreign_gross'].apply(remove_punctuations)\n",
    "imbd_info_df3['foreign_gross']= imbd_info_df3['foreign_gross'].astype(float)"
   ]
  },
  {
   "cell_type": "code",
   "execution_count": 33,
   "metadata": {},
   "outputs": [
    {
     "name": "stdout",
     "output_type": "stream",
     "text": [
      "<class 'pandas.core.frame.DataFrame'>\n",
      "Int64Index: 60104 entries, 0 to 356189\n",
      "Data columns (total 4 columns):\n",
      " #   Column          Non-Null Count  Dtype  \n",
      "---  ------          --------------  -----  \n",
      " 0   genres          59027 non-null  object \n",
      " 1   domestic_gross  4042 non-null   float64\n",
      " 2   averagerating   58372 non-null  float64\n",
      " 3   numvotes        58372 non-null  float64\n",
      "dtypes: float64(3), object(1)\n",
      "memory usage: 2.3+ MB\n"
     ]
    }
   ],
   "source": [
    "#remove duplicates\n",
    "imbd_info_df_main_clean= imbd_info_df_main.drop_duplicates().copy()\n",
    "imbd_info_df_main_clean.info()"
   ]
  },
  {
   "cell_type": "code",
   "execution_count": 24,
   "metadata": {},
   "outputs": [
    {
     "data": {
      "text/plain": [
       "is_original_title   -0.055321\n",
       "year                 0.009979\n",
       "start_year           0.055278\n",
       "averagerating        0.200859\n",
       "runtime_minutes      0.260283\n",
       "ordering             0.310141\n",
       "numvotes             0.693550\n",
       "foreign_gross        0.799790\n",
       "domestic_gross       1.000000\n",
       "Name: domestic_gross, dtype: float64"
      ]
     },
     "execution_count": 24,
     "metadata": {},
     "output_type": "execute_result"
    }
   ],
   "source": [
    "imbd_info_df3.corr()['domestic_gross'].sort_values()\n"
   ]
  },
  {
   "cell_type": "code",
   "execution_count": 26,
   "metadata": {},
   "outputs": [],
   "source": [
    "#selecting only the necessary columns\n",
    "imbd_info_df_main= imbd_info_df3[['genres','domestic_gross','averagerating','numvotes']]\n",
    "imbd_info_df_foreign = imbd_info_df3[['genres','foreign_gross','region']]"
   ]
  },
  {
   "cell_type": "code",
   "execution_count": 27,
   "metadata": {},
   "outputs": [],
   "source": [
    "#remove null\n",
    "imbd_info_df_foreign_clean = imbd_info_df_foreign.dropna(subset=['foreign_gross'], axis=0).copy()"
   ]
  },
  {
   "cell_type": "code",
   "execution_count": 28,
   "metadata": {},
   "outputs": [
    {
     "data": {
      "text/html": [
       "<div>\n",
       "<style scoped>\n",
       "    .dataframe tbody tr th:only-of-type {\n",
       "        vertical-align: middle;\n",
       "    }\n",
       "\n",
       "    .dataframe tbody tr th {\n",
       "        vertical-align: top;\n",
       "    }\n",
       "\n",
       "    .dataframe thead th {\n",
       "        text-align: right;\n",
       "    }\n",
       "</style>\n",
       "<table border=\"1\" class=\"dataframe\">\n",
       "  <thead>\n",
       "    <tr style=\"text-align: right;\">\n",
       "      <th></th>\n",
       "      <th>genres</th>\n",
       "      <th>domestic_gross</th>\n",
       "      <th>averagerating</th>\n",
       "      <th>numvotes</th>\n",
       "    </tr>\n",
       "  </thead>\n",
       "  <tbody>\n",
       "    <tr>\n",
       "      <th>0</th>\n",
       "      <td>Action,Adventure,Sci-Fi</td>\n",
       "      <td>652300000.0</td>\n",
       "      <td>7.0</td>\n",
       "      <td>539338.0</td>\n",
       "    </tr>\n",
       "    <tr>\n",
       "      <th>1</th>\n",
       "      <td>Action,Adventure,Sci-Fi</td>\n",
       "      <td>652300000.0</td>\n",
       "      <td>7.0</td>\n",
       "      <td>539338.0</td>\n",
       "    </tr>\n",
       "    <tr>\n",
       "      <th>2</th>\n",
       "      <td>Action,Adventure,Sci-Fi</td>\n",
       "      <td>652300000.0</td>\n",
       "      <td>7.0</td>\n",
       "      <td>539338.0</td>\n",
       "    </tr>\n",
       "    <tr>\n",
       "      <th>3</th>\n",
       "      <td>Action,Adventure,Sci-Fi</td>\n",
       "      <td>652300000.0</td>\n",
       "      <td>7.0</td>\n",
       "      <td>539338.0</td>\n",
       "    </tr>\n",
       "    <tr>\n",
       "      <th>4</th>\n",
       "      <td>Action,Adventure,Sci-Fi</td>\n",
       "      <td>652300000.0</td>\n",
       "      <td>7.0</td>\n",
       "      <td>539338.0</td>\n",
       "    </tr>\n",
       "  </tbody>\n",
       "</table>\n",
       "</div>"
      ],
      "text/plain": [
       "                    genres  domestic_gross  averagerating  numvotes\n",
       "0  Action,Adventure,Sci-Fi     652300000.0            7.0  539338.0\n",
       "1  Action,Adventure,Sci-Fi     652300000.0            7.0  539338.0\n",
       "2  Action,Adventure,Sci-Fi     652300000.0            7.0  539338.0\n",
       "3  Action,Adventure,Sci-Fi     652300000.0            7.0  539338.0\n",
       "4  Action,Adventure,Sci-Fi     652300000.0            7.0  539338.0"
      ]
     },
     "execution_count": 28,
     "metadata": {},
     "output_type": "execute_result"
    }
   ],
   "source": [
    "#remove null\n",
    "imbd_info_df_main_clean= imbd_info_df_main.dropna(subset=['domestic_gross'], axis=0).copy()\n",
    "imbd_info_df_main_clean.head()"
   ]
  },
  {
   "cell_type": "code",
   "execution_count": 43,
   "metadata": {},
   "outputs": [
    {
     "name": "stderr",
     "output_type": "stream",
     "text": [
      "<ipython-input-43-9a0732de9c49>:1: FutureWarning: Indexing with multiple keys (implicitly converted to a tuple of keys) will be deprecated, use a list instead.\n",
      "  imbd_info_df_main_clean.groupby(['genres'])['domestic_gross', 'numvotes'].mean().head(10).plot(kind ='bar', rot=90, stacked = True)\n"
     ]
    },
    {
     "data": {
      "text/plain": [
       "Text(0.5, 0, 'genres')"
      ]
     },
     "execution_count": 43,
     "metadata": {},
     "output_type": "execute_result"
    },
    {
     "data": {
      "image/png": "[encoded data removed]",
      "text/plain": [
       "<Figure size 432x288 with 1 Axes>"
      ]
     },
     "metadata": {
      "needs_background": "light"
     },
     "output_type": "display_data"
    }
   ],
   "source": [
    "imbd_info_df_main_clean.groupby(['genres'])['domestic_gross', 'numvotes'].mean().head(10).plot(kind ='bar', rot=90, stacked = True)\n",
    "plt.xlabel(\"genres\")"
   ]
  },
  {
   "cell_type": "code",
   "execution_count": 45,
   "metadata": {},
   "outputs": [],
   "source": [
    "#creating total rating to find weighted rating \n",
    "imbd_info_df_main_clean.eval('total_rating= averagerating *numvotes', inplace=True)"
   ]
  },
  {
   "cell_type": "code",
   "execution_count": 46,
   "metadata": {},
   "outputs": [
    {
     "data": {
      "text/html": [
       "<div>\n",
       "<style scoped>\n",
       "    .dataframe tbody tr th:only-of-type {\n",
       "        vertical-align: middle;\n",
       "    }\n",
       "\n",
       "    .dataframe tbody tr th {\n",
       "        vertical-align: top;\n",
       "    }\n",
       "\n",
       "    .dataframe thead th {\n",
       "        text-align: right;\n",
       "    }\n",
       "</style>\n",
       "<table border=\"1\" class=\"dataframe\">\n",
       "  <thead>\n",
       "    <tr style=\"text-align: right;\">\n",
       "      <th></th>\n",
       "      <th>index</th>\n",
       "      <th>genres</th>\n",
       "      <th>domestic_gross</th>\n",
       "      <th>averagerating</th>\n",
       "      <th>numvotes</th>\n",
       "      <th>total_rating</th>\n",
       "    </tr>\n",
       "  </thead>\n",
       "  <tbody>\n",
       "    <tr>\n",
       "      <th>0</th>\n",
       "      <td>0</td>\n",
       "      <td>Action,Adventure,Sci-Fi</td>\n",
       "      <td>652300000.0</td>\n",
       "      <td>7.0</td>\n",
       "      <td>539338.0</td>\n",
       "      <td>3775366.0</td>\n",
       "    </tr>\n",
       "    <tr>\n",
       "      <th>1</th>\n",
       "      <td>48</td>\n",
       "      <td>Drama</td>\n",
       "      <td>NaN</td>\n",
       "      <td>7.6</td>\n",
       "      <td>23.0</td>\n",
       "      <td>174.8</td>\n",
       "    </tr>\n",
       "    <tr>\n",
       "      <th>2</th>\n",
       "      <td>49</td>\n",
       "      <td>Action,Adventure,Sci-Fi</td>\n",
       "      <td>73100000.0</td>\n",
       "      <td>6.6</td>\n",
       "      <td>241792.0</td>\n",
       "      <td>1595827.2</td>\n",
       "    </tr>\n",
       "    <tr>\n",
       "      <th>3</th>\n",
       "      <td>83</td>\n",
       "      <td>Documentary</td>\n",
       "      <td>NaN</td>\n",
       "      <td>7.0</td>\n",
       "      <td>5.0</td>\n",
       "      <td>35.0</td>\n",
       "    </tr>\n",
       "    <tr>\n",
       "      <th>4</th>\n",
       "      <td>86</td>\n",
       "      <td>Documentary,Music</td>\n",
       "      <td>NaN</td>\n",
       "      <td>NaN</td>\n",
       "      <td>NaN</td>\n",
       "      <td>NaN</td>\n",
       "    </tr>\n",
       "  </tbody>\n",
       "</table>\n",
       "</div>"
      ],
      "text/plain": [
       "   index                   genres  domestic_gross  averagerating  numvotes  \\\n",
       "0      0  Action,Adventure,Sci-Fi     652300000.0            7.0  539338.0   \n",
       "1     48                    Drama             NaN            7.6      23.0   \n",
       "2     49  Action,Adventure,Sci-Fi      73100000.0            6.6  241792.0   \n",
       "3     83              Documentary             NaN            7.0       5.0   \n",
       "4     86        Documentary,Music             NaN            NaN       NaN   \n",
       "\n",
       "   total_rating  \n",
       "0     3775366.0  \n",
       "1         174.8  \n",
       "2     1595827.2  \n",
       "3          35.0  \n",
       "4           NaN  "
      ]
     },
     "execution_count": 46,
     "metadata": {},
     "output_type": "execute_result"
    }
   ],
   "source": [
    "imbd_info_df_main_clean.head().reset_index()"
   ]
  },
  {
   "cell_type": "code",
   "execution_count": 47,
   "metadata": {},
   "outputs": [
    {
     "data": {
      "text/plain": [
       "105"
      ]
     },
     "execution_count": 47,
     "metadata": {},
     "output_type": "execute_result"
    }
   ],
   "source": [
    "imbd_info_df_foreign_clean['region'].nunique()"
   ]
  },
  {
   "cell_type": "markdown",
   "metadata": {},
   "source": [
    "## Data Modeling"
   ]
  },
  {
   "cell_type": "code",
   "execution_count": 48,
   "metadata": {},
   "outputs": [
    {
     "data": {
      "text/plain": [
       "<AxesSubplot:xlabel='region'>"
      ]
     },
     "execution_count": 48,
     "metadata": {},
     "output_type": "execute_result"
    },
    {
     "data": {
      "image/png": "[encoded data removed]",
      "text/plain": [
       "<Figure size 432x288 with 1 Axes>"
      ]
     },
     "metadata": {
      "needs_background": "light"
     },
     "output_type": "display_data"
    }
   ],
   "source": [
    "gross_per_genre = imbd_info_df_foreign_clean.groupby(['region'])['foreign_gross'].mean().sort_values(ascending=False)\n",
    "gross_per_genre.head(10).plot(kind = 'bar', rot=0)\n",
    "#values= ['Bangladesh','Indonesia','Cote d'Ivoire','Republic of Moldova','Malaysia','Liechtenstein','Iceland', 'Cameroon, \"Kazakhstan\"]\n",
    "#plt.set_xticklabels(values)"
   ]
  },
  {
   "cell_type": "code",
   "execution_count": 50,
   "metadata": {},
   "outputs": [
    {
     "data": {
      "text/plain": [
       "averagerating     0.119160\n",
       "total_rating      0.644021\n",
       "numvotes          0.667728\n",
       "domestic_gross    1.000000\n",
       "Name: domestic_gross, dtype: float64"
      ]
     },
     "execution_count": 50,
     "metadata": {},
     "output_type": "execute_result"
    }
   ],
   "source": [
    "imbd_info_df_main_clean.corr()['domestic_gross'].sort_values()"
   ]
  },
  {
   "cell_type": "code",
   "execution_count": 51,
   "metadata": {},
   "outputs": [
    {
     "data": {
      "text/plain": [
       "mean      2.885592e+07\n",
       "median    1.500000e+06\n",
       "std       6.557332e+07\n",
       "max       9.367000e+08\n",
       "min       1.000000e+02\n",
       "Name: domestic_gross, dtype: float64"
      ]
     },
     "execution_count": 51,
     "metadata": {},
     "output_type": "execute_result"
    }
   ],
   "source": [
    "imbd_info_df_main_clean['domestic_gross'].apply(['mean', 'median', 'std', 'max', 'min'])"
   ]
  },
  {
   "cell_type": "code",
   "execution_count": null,
   "metadata": {},
   "outputs": [],
   "source": [
    "fig, (ax1, ax2) = plt.subplots(figsize=(14,6), ncols=2)\n",
    "ax1.set_xlim(1, 10) \n",
    "ax1.set_ylim(2.690981e+07, 1.164440e+08)\n",
    "ax2.set_xlim(1, 10) \n",
    "ax2.set_ylim(1.471160e+04, 1.0e+06)\n",
    "\n",
    "ax1.scatter(imbd_info_df_main_clean1['weighted_rating'], imbd_info_df_main_clean1['domestic_gross'], color='red', marker='x')\n",
    "ax2.scatter(imbd_info_df_main_clean1['weighted_rating'], imbd_info_df_main_clean1['numvotes'], color='lightblue', marker='x')\n",
    "\n",
    "fig.legend(labels=[\"rating vs gross\", \"rating vs number of votes\"], loc=(.68, .88));\n",
    "ax1.set_xlabel('weighted rating')\n",
    "ax1.set_ylabel('domestic gross')\n",
    "\n",
    "ax2.set_xlabel('weighted rating')\n",
    "ax2.set_ylabel('number of votes')\n"
   ]
  },
  {
   "cell_type": "code",
   "execution_count": 52,
   "metadata": {},
   "outputs": [
    {
     "data": {
      "text/plain": [
       "<AxesSubplot:xlabel='genres'>"
      ]
     },
     "execution_count": 52,
     "metadata": {},
     "output_type": "execute_result"
    },
    {
     "data": {
      "image/png": "[encoded data removed]",
      "text/plain": [
       "<Figure size 432x288 with 1 Axes>"
      ]
     },
     "metadata": {
      "needs_background": "light"
     },
     "output_type": "display_data"
    }
   ],
   "source": [
    "#top genres based on domestic gross \n",
    "gross_per_genre1 = imbd_info_df_main_clean.groupby(['genres'])['domestic_gross'].mean().sort_values(ascending=False)\n",
    "gross_per_genre1.head(10).plot(kind = 'bar', rot=90)"
   ]
  },
  {
   "cell_type": "code",
   "execution_count": 53,
   "metadata": {},
   "outputs": [
    {
     "data": {
      "text/plain": [
       "mean      2.765678e+07\n",
       "median    1.249756e+07\n",
       "std       4.353415e+07\n",
       "max       4.007000e+08\n",
       "min       2.800000e+03\n",
       "Name: domestic_gross, dtype: float64"
      ]
     },
     "execution_count": 53,
     "metadata": {},
     "output_type": "execute_result"
    }
   ],
   "source": [
    "#stats on domestic gross \n",
    "#not a normal distribution \n",
    "gross_per_genre1.apply(['mean', 'median', 'std', 'max', 'min'])"
   ]
  },
  {
   "cell_type": "code",
   "execution_count": 54,
   "metadata": {},
   "outputs": [
    {
     "data": {
      "text/plain": [
       "9.204268558067032"
      ]
     },
     "execution_count": 54,
     "metadata": {},
     "output_type": "execute_result"
    }
   ],
   "source": [
    "#outlier\n",
    "gross_per_genre1.max()/gross_per_genre1.std()"
   ]
  },
  {
   "cell_type": "code",
   "execution_count": 55,
   "metadata": {},
   "outputs": [
    {
     "data": {
      "text/plain": [
       "6.431732458843945e-05"
      ]
     },
     "execution_count": 55,
     "metadata": {},
     "output_type": "execute_result"
    }
   ],
   "source": [
    "#outlier\n",
    "gross_per_genre1.min()/gross_per_genre1.std()"
   ]
  },
  {
   "cell_type": "code",
   "execution_count": 57,
   "metadata": {
    "scrolled": true
   },
   "outputs": [],
   "source": [
    "#finding weighted rating\n",
    "totalvote_per_genre = imbd_info_df_main_clean.groupby(['genres'])['numvotes'].sum()\n",
    "totalvote_df = totalvote_per_genre.to_frame()\n",
    "totalrating_per_genre = imbd_info_df_main_clean.groupby(['genres'])['total_rating'].sum()\n",
    "totalrating_df = totalrating_per_genre.to_frame()\n",
    "gross_df= gross_per_genre1.to_frame()"
   ]
  },
  {
   "cell_type": "code",
   "execution_count": 58,
   "metadata": {},
   "outputs": [
    {
     "data": {
      "text/html": [
       "<div>\n",
       "<style scoped>\n",
       "    .dataframe tbody tr th:only-of-type {\n",
       "        vertical-align: middle;\n",
       "    }\n",
       "\n",
       "    .dataframe tbody tr th {\n",
       "        vertical-align: top;\n",
       "    }\n",
       "\n",
       "    .dataframe thead th {\n",
       "        text-align: right;\n",
       "    }\n",
       "</style>\n",
       "<table border=\"1\" class=\"dataframe\">\n",
       "  <thead>\n",
       "    <tr style=\"text-align: right;\">\n",
       "      <th></th>\n",
       "      <th>genres</th>\n",
       "      <th>total_rating</th>\n",
       "      <th>numvotes</th>\n",
       "      <th>weighted_rating</th>\n",
       "    </tr>\n",
       "  </thead>\n",
       "  <tbody>\n",
       "    <tr>\n",
       "      <th>0</th>\n",
       "      <td>Action</td>\n",
       "      <td>1823039.4</td>\n",
       "      <td>327598.0</td>\n",
       "      <td>5.564867</td>\n",
       "    </tr>\n",
       "    <tr>\n",
       "      <th>1</th>\n",
       "      <td>Action,Adult,Comedy</td>\n",
       "      <td>142.4</td>\n",
       "      <td>36.0</td>\n",
       "      <td>3.955556</td>\n",
       "    </tr>\n",
       "    <tr>\n",
       "      <th>2</th>\n",
       "      <td>Action,Adventure</td>\n",
       "      <td>587316.9</td>\n",
       "      <td>109011.0</td>\n",
       "      <td>5.387685</td>\n",
       "    </tr>\n",
       "    <tr>\n",
       "      <th>3</th>\n",
       "      <td>Action,Adventure,Animation</td>\n",
       "      <td>27159618.2</td>\n",
       "      <td>3570489.0</td>\n",
       "      <td>7.606694</td>\n",
       "    </tr>\n",
       "    <tr>\n",
       "      <th>4</th>\n",
       "      <td>Action,Adventure,Biography</td>\n",
       "      <td>7604775.0</td>\n",
       "      <td>999701.0</td>\n",
       "      <td>7.607050</td>\n",
       "    </tr>\n",
       "    <tr>\n",
       "      <th>...</th>\n",
       "      <td>...</td>\n",
       "      <td>...</td>\n",
       "      <td>...</td>\n",
       "      <td>...</td>\n",
       "    </tr>\n",
       "    <tr>\n",
       "      <th>1080</th>\n",
       "      <td>Thriller,War,Western</td>\n",
       "      <td>0.0</td>\n",
       "      <td>0.0</td>\n",
       "      <td>NaN</td>\n",
       "    </tr>\n",
       "    <tr>\n",
       "      <th>1081</th>\n",
       "      <td>Thriller,Western</td>\n",
       "      <td>84079.8</td>\n",
       "      <td>13288.0</td>\n",
       "      <td>6.327498</td>\n",
       "    </tr>\n",
       "    <tr>\n",
       "      <th>1082</th>\n",
       "      <td>War</td>\n",
       "      <td>36959.2</td>\n",
       "      <td>5535.0</td>\n",
       "      <td>6.677362</td>\n",
       "    </tr>\n",
       "    <tr>\n",
       "      <th>1083</th>\n",
       "      <td>War,Western</td>\n",
       "      <td>0.0</td>\n",
       "      <td>0.0</td>\n",
       "      <td>NaN</td>\n",
       "    </tr>\n",
       "    <tr>\n",
       "      <th>1084</th>\n",
       "      <td>Western</td>\n",
       "      <td>74088.3</td>\n",
       "      <td>15571.0</td>\n",
       "      <td>4.758095</td>\n",
       "    </tr>\n",
       "  </tbody>\n",
       "</table>\n",
       "<p>1085 rows × 4 columns</p>\n",
       "</div>"
      ],
      "text/plain": [
       "                          genres  total_rating   numvotes  weighted_rating\n",
       "0                         Action     1823039.4   327598.0         5.564867\n",
       "1            Action,Adult,Comedy         142.4       36.0         3.955556\n",
       "2               Action,Adventure      587316.9   109011.0         5.387685\n",
       "3     Action,Adventure,Animation    27159618.2  3570489.0         7.606694\n",
       "4     Action,Adventure,Biography     7604775.0   999701.0         7.607050\n",
       "...                          ...           ...        ...              ...\n",
       "1080        Thriller,War,Western           0.0        0.0              NaN\n",
       "1081            Thriller,Western       84079.8    13288.0         6.327498\n",
       "1082                         War       36959.2     5535.0         6.677362\n",
       "1083                 War,Western           0.0        0.0              NaN\n",
       "1084                     Western       74088.3    15571.0         4.758095\n",
       "\n",
       "[1085 rows x 4 columns]"
      ]
     },
     "execution_count": 58,
     "metadata": {},
     "output_type": "execute_result"
    }
   ],
   "source": [
    "weighted_rating = totalrating_df.merge(totalvote_df, on='genres', how='outer')\n",
    "weighted_rating['weighted_rating']= weighted_rating['total_rating']/weighted_rating['numvotes']\n",
    "weighted_rating.reset_index()"
   ]
  },
  {
   "cell_type": "code",
   "execution_count": 59,
   "metadata": {},
   "outputs": [
    {
     "data": {
      "text/html": [
       "<div>\n",
       "<style scoped>\n",
       "    .dataframe tbody tr th:only-of-type {\n",
       "        vertical-align: middle;\n",
       "    }\n",
       "\n",
       "    .dataframe tbody tr th {\n",
       "        vertical-align: top;\n",
       "    }\n",
       "\n",
       "    .dataframe thead th {\n",
       "        text-align: right;\n",
       "    }\n",
       "</style>\n",
       "<table border=\"1\" class=\"dataframe\">\n",
       "  <thead>\n",
       "    <tr style=\"text-align: right;\">\n",
       "      <th></th>\n",
       "      <th>domestic_gross</th>\n",
       "    </tr>\n",
       "    <tr>\n",
       "      <th>genres</th>\n",
       "      <th></th>\n",
       "    </tr>\n",
       "  </thead>\n",
       "  <tbody>\n",
       "    <tr>\n",
       "      <th>Adventure,Drama,Sport</th>\n",
       "      <td>4.007000e+08</td>\n",
       "    </tr>\n",
       "    <tr>\n",
       "      <th>Action,Adventure,Sci-Fi</th>\n",
       "      <td>2.280490e+08</td>\n",
       "    </tr>\n",
       "    <tr>\n",
       "      <th>Adventure,Drama,Sci-Fi</th>\n",
       "      <td>2.082000e+08</td>\n",
       "    </tr>\n",
       "    <tr>\n",
       "      <th>Fantasy,Romance</th>\n",
       "      <td>2.005215e+08</td>\n",
       "    </tr>\n",
       "    <tr>\n",
       "      <th>Adventure,Fantasy</th>\n",
       "      <td>1.929000e+08</td>\n",
       "    </tr>\n",
       "    <tr>\n",
       "      <th>...</th>\n",
       "      <td>...</td>\n",
       "    </tr>\n",
       "    <tr>\n",
       "      <th>Talk-Show</th>\n",
       "      <td>NaN</td>\n",
       "    </tr>\n",
       "    <tr>\n",
       "      <th>Thriller,War</th>\n",
       "      <td>NaN</td>\n",
       "    </tr>\n",
       "    <tr>\n",
       "      <th>Thriller,War,Western</th>\n",
       "      <td>NaN</td>\n",
       "    </tr>\n",
       "    <tr>\n",
       "      <th>War</th>\n",
       "      <td>NaN</td>\n",
       "    </tr>\n",
       "    <tr>\n",
       "      <th>War,Western</th>\n",
       "      <td>NaN</td>\n",
       "    </tr>\n",
       "  </tbody>\n",
       "</table>\n",
       "<p>1085 rows × 1 columns</p>\n",
       "</div>"
      ],
      "text/plain": [
       "                         domestic_gross\n",
       "genres                                 \n",
       "Adventure,Drama,Sport      4.007000e+08\n",
       "Action,Adventure,Sci-Fi    2.280490e+08\n",
       "Adventure,Drama,Sci-Fi     2.082000e+08\n",
       "Fantasy,Romance            2.005215e+08\n",
       "Adventure,Fantasy          1.929000e+08\n",
       "...                                 ...\n",
       "Talk-Show                           NaN\n",
       "Thriller,War                        NaN\n",
       "Thriller,War,Western                NaN\n",
       "War                                 NaN\n",
       "War,Western                         NaN\n",
       "\n",
       "[1085 rows x 1 columns]"
      ]
     },
     "execution_count": 59,
     "metadata": {},
     "output_type": "execute_result"
    }
   ],
   "source": [
    "gross_df"
   ]
  },
  {
   "cell_type": "code",
   "execution_count": 60,
   "metadata": {},
   "outputs": [],
   "source": [
    "#creating the final dataframe for scatter plots \n",
    "final_df= gross_df.merge(weighted_rating, on='genres')\n",
    "#final_df['numvotes'].apply(['mean', 'median', 'std', 'max', 'min'])"
   ]
  },
  {
   "cell_type": "code",
   "execution_count": 61,
   "metadata": {},
   "outputs": [
    {
     "data": {
      "text/plain": [
       "domestic_gross     0.089413\n",
       "numvotes           0.102623\n",
       "total_rating       0.109362\n",
       "weighted_rating    1.000000\n",
       "Name: weighted_rating, dtype: float64"
      ]
     },
     "execution_count": 61,
     "metadata": {},
     "output_type": "execute_result"
    }
   ],
   "source": [
    "#finding to be shown through scatter plots \n",
    "correlation_dome = final_df.corr()['weighted_rating'].sort_values()\n",
    "correlation_dome "
   ]
  },
  {
   "cell_type": "code",
   "execution_count": 62,
   "metadata": {},
   "outputs": [
    {
     "data": {
      "text/plain": [
       "Text(0, 0.5, 'number of votes')"
      ]
     },
     "execution_count": 62,
     "metadata": {},
     "output_type": "execute_result"
    },
    {
     "data": {
      "image/png": "[encoded data removed]",
      "text/plain": [
       "<Figure size 1008x432 with 2 Axes>"
      ]
     },
     "metadata": {
      "needs_background": "light"
     },
     "output_type": "display_data"
    }
   ],
   "source": [
    "fig, (ax1, ax2) = plt.subplots(figsize=(14,6), ncols=2)\n",
    "ax1.set_xlim(1, 10) \n",
    "ax1.set_ylim(2.690981e+07, 1.164440e+08)\n",
    "ax2.set_xlim(1, 10) \n",
    "ax2.set_ylim(1.471160e+04, 1.0e+06)\n",
    "\n",
    "ax1.scatter(final_df['weighted_rating'], final_df['domestic_gross'], color='red', marker='x')\n",
    "ax2.scatter(final_df['weighted_rating'], final_df['numvotes'], color='lightblue', marker='x')\n",
    "\n",
    "fig.legend(labels=[\"rating vs gross\", \"rating vs number of votes\"], loc=(.68, .88));\n",
    "ax1.set_xlabel('weighted rating')\n",
    "ax1.set_ylabel('domestic gross')\n",
    "\n",
    "ax2.set_xlabel('weighted rating')\n",
    "ax2.set_ylabel('number of votes')\n"
   ]
  },
  {
   "cell_type": "markdown",
   "metadata": {},
   "source": [
    "## Evaluation"
   ]
  },
  {
   "cell_type": "markdown",
   "metadata": {},
   "source": [
    "Highest gross genre is scifi and region is Bangladesh. \n"
   ]
  }
 ],
 "metadata": {
  "kernelspec": {
   "display_name": "Python (learn-env)",
   "language": "python",
   "name": "learn-env"
  },
  "language_info": {
   "codemirror_mode": {
    "name": "ipython",
    "version": 3
   },
   "file_extension": ".py",
   "mimetype": "text/x-python",
   "name": "python",
   "nbconvert_exporter": "python",
   "pygments_lexer": "ipython3",
   "version": "3.8.5"
  }
 },
 "nbformat": 4,
 "nbformat_minor": 2
}
