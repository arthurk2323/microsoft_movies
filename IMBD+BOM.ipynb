{
 "cells": [
  {
   "cell_type": "markdown",
   "metadata": {},
   "source": [
    "## Overview\n",
    "A one-paragraph overview of the project, including the business problem, data, methods, results and recommendations."
   ]
  },
  {
   "cell_type": "code",
   "execution_count": null,
   "metadata": {},
   "outputs": [],
   "source": []
  },
  {
   "cell_type": "markdown",
   "metadata": {},
   "source": [
    "## Business Problem\n",
    "Summary of the business problem you are trying to solve, and the data questions that you plan to answer to solve them.\n",
    "\n",
    "***\n",
    "Questions to consider:\n",
    "* What are the business's pain points related to this project?\n",
    "* How did you pick the data analysis question(s) that you did?\n",
    "* Why are these questions important from a business perspective?\n",
    "***"
   ]
  },
  {
   "cell_type": "markdown",
   "metadata": {},
   "source": [
    "exploring differeent ideas on what define a successful film \n",
    "profit margin based on domestic gross \n"
   ]
  },
  {
   "cell_type": "code",
   "execution_count": 1,
   "metadata": {},
   "outputs": [
    {
     "name": "stdout",
     "output_type": "stream",
     "text": [
      "bom.movie_gross.csv       imdb.title.crew.csv       rt.reviews.tsv\r\n",
      "imdb.name.basics.csv      imdb.title.principals.csv tmdb.movies.csv\r\n",
      "imdb.title.akas.csv       imdb.title.ratings.csv    tn.movie_budgets.csv\r\n",
      "imdb.title.basics.csv     rt.movie_info.tsv\r\n"
     ]
    }
   ],
   "source": [
    "!ls Data"
   ]
  },
  {
   "cell_type": "code",
   "execution_count": 2,
   "metadata": {},
   "outputs": [],
   "source": [
    "\n",
    "import pandas as pd\n",
    "import numpy as np\n",
    "import matplotlib.pyplot as plt\n",
    "import seaborn as sns\n",
    "\n",
    "%matplotlib inline\n"
   ]
  },
  {
   "cell_type": "code",
   "execution_count": 3,
   "metadata": {},
   "outputs": [],
   "source": [
    "bom_df= pd.read_csv('data/bom.movie_gross.csv')\n",
    "imbd_name_df= pd.read_csv('data/imdb.name.basics.csv')\n",
    "akas_df=pd.read_csv('data/imdb.title.akas.csv')\n",
    "basics_df= pd.read_csv('data/imdb.title.basics.csv')\n",
    "crew_df= pd.read_csv('data/imdb.title.crew.csv')\n",
    "principals_df= pd.read_csv('data/imdb.title.principals.csv')\n",
    "ratings_df=pd.read_csv('data/imdb.title.ratings.csv')"
   ]
  },
  {
   "cell_type": "markdown",
   "metadata": {},
   "source": [
    "## Data Preparation"
   ]
  },
  {
   "cell_type": "code",
   "execution_count": 4,
   "metadata": {},
   "outputs": [],
   "source": [
    "import string\n",
    "\n",
    "#removing punctuations \n",
    "def remove_punctuations(text):\n",
    "    for punctuation in string.punctuation:\n",
    "        text = text.replace(punctuation, '')\n",
    "    return text\n",
    "\n",
    "bom_df[\"title\"] = bom_df['title'].apply(remove_punctuations)\n",
    "bom_df[\"title\"]= bom_df[\"title\"].str.lower()"
   ]
  },
  {
   "cell_type": "code",
   "execution_count": 5,
   "metadata": {},
   "outputs": [],
   "source": [
    "#renaming the column to merge tables\n",
    "akas_df.rename(columns={'title_id':'tconst'}, inplace=True)\n",
    "akas_df.rename(columns={'title':'title_akas'}, inplace=True)\n",
    "#removing punctuations and lower case title\n",
    "akas_df[\"title_akas\"] = akas_df['title_akas'].apply(remove_punctuations)\n",
    "basics_df[\"primary_title\"] = basics_df['primary_title'].apply(remove_punctuations)\n",
    "akas_df[\"title_akas\"] = akas_df['title_akas'].str.lower()\n",
    "basics_df[\"primary_title\"]= basics_df['primary_title'].str.lower()"
   ]
  },
  {
   "cell_type": "code",
   "execution_count": 6,
   "metadata": {},
   "outputs": [
    {
     "data": {
      "text/html": [
       "<div>\n",
       "<style scoped>\n",
       "    .dataframe tbody tr th:only-of-type {\n",
       "        vertical-align: middle;\n",
       "    }\n",
       "\n",
       "    .dataframe tbody tr th {\n",
       "        vertical-align: top;\n",
       "    }\n",
       "\n",
       "    .dataframe thead th {\n",
       "        text-align: right;\n",
       "    }\n",
       "</style>\n",
       "<table border=\"1\" class=\"dataframe\">\n",
       "  <thead>\n",
       "    <tr style=\"text-align: right;\">\n",
       "      <th></th>\n",
       "      <th>tconst</th>\n",
       "      <th>ordering</th>\n",
       "      <th>title_akas</th>\n",
       "      <th>region</th>\n",
       "      <th>language</th>\n",
       "      <th>types</th>\n",
       "      <th>attributes</th>\n",
       "      <th>is_original_title</th>\n",
       "      <th>primary_title</th>\n",
       "      <th>original_title</th>\n",
       "      <th>start_year</th>\n",
       "      <th>runtime_minutes</th>\n",
       "      <th>genres</th>\n",
       "    </tr>\n",
       "  </thead>\n",
       "  <tbody>\n",
       "    <tr>\n",
       "      <th>0</th>\n",
       "      <td>tt0369610</td>\n",
       "      <td>10.0</td>\n",
       "      <td>джурасик свят</td>\n",
       "      <td>BG</td>\n",
       "      <td>bg</td>\n",
       "      <td>NaN</td>\n",
       "      <td>NaN</td>\n",
       "      <td>0.0</td>\n",
       "      <td>jurassic world</td>\n",
       "      <td>Jurassic World</td>\n",
       "      <td>2015</td>\n",
       "      <td>124.0</td>\n",
       "      <td>Action,Adventure,Sci-Fi</td>\n",
       "    </tr>\n",
       "    <tr>\n",
       "      <th>1</th>\n",
       "      <td>tt0369610</td>\n",
       "      <td>11.0</td>\n",
       "      <td>jurashikku warudo</td>\n",
       "      <td>JP</td>\n",
       "      <td>NaN</td>\n",
       "      <td>imdbDisplay</td>\n",
       "      <td>NaN</td>\n",
       "      <td>0.0</td>\n",
       "      <td>jurassic world</td>\n",
       "      <td>Jurassic World</td>\n",
       "      <td>2015</td>\n",
       "      <td>124.0</td>\n",
       "      <td>Action,Adventure,Sci-Fi</td>\n",
       "    </tr>\n",
       "    <tr>\n",
       "      <th>2</th>\n",
       "      <td>tt0369610</td>\n",
       "      <td>12.0</td>\n",
       "      <td>jurassic world o mundo dos dinossauros</td>\n",
       "      <td>BR</td>\n",
       "      <td>NaN</td>\n",
       "      <td>imdbDisplay</td>\n",
       "      <td>NaN</td>\n",
       "      <td>0.0</td>\n",
       "      <td>jurassic world</td>\n",
       "      <td>Jurassic World</td>\n",
       "      <td>2015</td>\n",
       "      <td>124.0</td>\n",
       "      <td>Action,Adventure,Sci-Fi</td>\n",
       "    </tr>\n",
       "    <tr>\n",
       "      <th>3</th>\n",
       "      <td>tt0369610</td>\n",
       "      <td>13.0</td>\n",
       "      <td>o mundo dos dinossauros</td>\n",
       "      <td>BR</td>\n",
       "      <td>NaN</td>\n",
       "      <td>NaN</td>\n",
       "      <td>short title</td>\n",
       "      <td>0.0</td>\n",
       "      <td>jurassic world</td>\n",
       "      <td>Jurassic World</td>\n",
       "      <td>2015</td>\n",
       "      <td>124.0</td>\n",
       "      <td>Action,Adventure,Sci-Fi</td>\n",
       "    </tr>\n",
       "    <tr>\n",
       "      <th>4</th>\n",
       "      <td>tt0369610</td>\n",
       "      <td>14.0</td>\n",
       "      <td>jurassic world</td>\n",
       "      <td>FR</td>\n",
       "      <td>NaN</td>\n",
       "      <td>imdbDisplay</td>\n",
       "      <td>NaN</td>\n",
       "      <td>0.0</td>\n",
       "      <td>jurassic world</td>\n",
       "      <td>Jurassic World</td>\n",
       "      <td>2015</td>\n",
       "      <td>124.0</td>\n",
       "      <td>Action,Adventure,Sci-Fi</td>\n",
       "    </tr>\n",
       "  </tbody>\n",
       "</table>\n",
       "</div>"
      ],
      "text/plain": [
       "      tconst  ordering                              title_akas region  \\\n",
       "0  tt0369610      10.0                           джурасик свят     BG   \n",
       "1  tt0369610      11.0                       jurashikku warudo     JP   \n",
       "2  tt0369610      12.0  jurassic world o mundo dos dinossauros     BR   \n",
       "3  tt0369610      13.0                 o mundo dos dinossauros     BR   \n",
       "4  tt0369610      14.0                          jurassic world     FR   \n",
       "\n",
       "  language        types   attributes  is_original_title   primary_title  \\\n",
       "0       bg          NaN          NaN                0.0  jurassic world   \n",
       "1      NaN  imdbDisplay          NaN                0.0  jurassic world   \n",
       "2      NaN  imdbDisplay          NaN                0.0  jurassic world   \n",
       "3      NaN          NaN  short title                0.0  jurassic world   \n",
       "4      NaN  imdbDisplay          NaN                0.0  jurassic world   \n",
       "\n",
       "   original_title  start_year  runtime_minutes                   genres  \n",
       "0  Jurassic World        2015            124.0  Action,Adventure,Sci-Fi  \n",
       "1  Jurassic World        2015            124.0  Action,Adventure,Sci-Fi  \n",
       "2  Jurassic World        2015            124.0  Action,Adventure,Sci-Fi  \n",
       "3  Jurassic World        2015            124.0  Action,Adventure,Sci-Fi  \n",
       "4  Jurassic World        2015            124.0  Action,Adventure,Sci-Fi  "
      ]
     },
     "execution_count": 6,
     "metadata": {},
     "output_type": "execute_result"
    }
   ],
   "source": [
    "#combining akas and basics \n",
    "imbd_info_df1= akas_df.merge(basics_df, on = 'tconst', how ='outer')\n",
    "imbd_info_df1.head()"
   ]
  },
  {
   "cell_type": "code",
   "execution_count": 7,
   "metadata": {},
   "outputs": [
    {
     "data": {
      "text/html": [
       "<div>\n",
       "<style scoped>\n",
       "    .dataframe tbody tr th:only-of-type {\n",
       "        vertical-align: middle;\n",
       "    }\n",
       "\n",
       "    .dataframe tbody tr th {\n",
       "        vertical-align: top;\n",
       "    }\n",
       "\n",
       "    .dataframe thead th {\n",
       "        text-align: right;\n",
       "    }\n",
       "</style>\n",
       "<table border=\"1\" class=\"dataframe\">\n",
       "  <thead>\n",
       "    <tr style=\"text-align: right;\">\n",
       "      <th></th>\n",
       "      <th>tconst</th>\n",
       "      <th>ordering</th>\n",
       "      <th>title_akas</th>\n",
       "      <th>region</th>\n",
       "      <th>language</th>\n",
       "      <th>types</th>\n",
       "      <th>attributes</th>\n",
       "      <th>is_original_title</th>\n",
       "      <th>primary_title</th>\n",
       "      <th>original_title</th>\n",
       "      <th>start_year</th>\n",
       "      <th>runtime_minutes</th>\n",
       "      <th>genres</th>\n",
       "      <th>averagerating</th>\n",
       "      <th>numvotes</th>\n",
       "    </tr>\n",
       "  </thead>\n",
       "  <tbody>\n",
       "    <tr>\n",
       "      <th>0</th>\n",
       "      <td>tt0369610</td>\n",
       "      <td>10.0</td>\n",
       "      <td>джурасик свят</td>\n",
       "      <td>BG</td>\n",
       "      <td>bg</td>\n",
       "      <td>NaN</td>\n",
       "      <td>NaN</td>\n",
       "      <td>0.0</td>\n",
       "      <td>jurassic world</td>\n",
       "      <td>Jurassic World</td>\n",
       "      <td>2015</td>\n",
       "      <td>124.0</td>\n",
       "      <td>Action,Adventure,Sci-Fi</td>\n",
       "      <td>7.0</td>\n",
       "      <td>539338.0</td>\n",
       "    </tr>\n",
       "    <tr>\n",
       "      <th>1</th>\n",
       "      <td>tt0369610</td>\n",
       "      <td>11.0</td>\n",
       "      <td>jurashikku warudo</td>\n",
       "      <td>JP</td>\n",
       "      <td>NaN</td>\n",
       "      <td>imdbDisplay</td>\n",
       "      <td>NaN</td>\n",
       "      <td>0.0</td>\n",
       "      <td>jurassic world</td>\n",
       "      <td>Jurassic World</td>\n",
       "      <td>2015</td>\n",
       "      <td>124.0</td>\n",
       "      <td>Action,Adventure,Sci-Fi</td>\n",
       "      <td>7.0</td>\n",
       "      <td>539338.0</td>\n",
       "    </tr>\n",
       "    <tr>\n",
       "      <th>2</th>\n",
       "      <td>tt0369610</td>\n",
       "      <td>12.0</td>\n",
       "      <td>jurassic world o mundo dos dinossauros</td>\n",
       "      <td>BR</td>\n",
       "      <td>NaN</td>\n",
       "      <td>imdbDisplay</td>\n",
       "      <td>NaN</td>\n",
       "      <td>0.0</td>\n",
       "      <td>jurassic world</td>\n",
       "      <td>Jurassic World</td>\n",
       "      <td>2015</td>\n",
       "      <td>124.0</td>\n",
       "      <td>Action,Adventure,Sci-Fi</td>\n",
       "      <td>7.0</td>\n",
       "      <td>539338.0</td>\n",
       "    </tr>\n",
       "    <tr>\n",
       "      <th>3</th>\n",
       "      <td>tt0369610</td>\n",
       "      <td>13.0</td>\n",
       "      <td>o mundo dos dinossauros</td>\n",
       "      <td>BR</td>\n",
       "      <td>NaN</td>\n",
       "      <td>NaN</td>\n",
       "      <td>short title</td>\n",
       "      <td>0.0</td>\n",
       "      <td>jurassic world</td>\n",
       "      <td>Jurassic World</td>\n",
       "      <td>2015</td>\n",
       "      <td>124.0</td>\n",
       "      <td>Action,Adventure,Sci-Fi</td>\n",
       "      <td>7.0</td>\n",
       "      <td>539338.0</td>\n",
       "    </tr>\n",
       "    <tr>\n",
       "      <th>4</th>\n",
       "      <td>tt0369610</td>\n",
       "      <td>14.0</td>\n",
       "      <td>jurassic world</td>\n",
       "      <td>FR</td>\n",
       "      <td>NaN</td>\n",
       "      <td>imdbDisplay</td>\n",
       "      <td>NaN</td>\n",
       "      <td>0.0</td>\n",
       "      <td>jurassic world</td>\n",
       "      <td>Jurassic World</td>\n",
       "      <td>2015</td>\n",
       "      <td>124.0</td>\n",
       "      <td>Action,Adventure,Sci-Fi</td>\n",
       "      <td>7.0</td>\n",
       "      <td>539338.0</td>\n",
       "    </tr>\n",
       "  </tbody>\n",
       "</table>\n",
       "</div>"
      ],
      "text/plain": [
       "      tconst  ordering                              title_akas region  \\\n",
       "0  tt0369610      10.0                           джурасик свят     BG   \n",
       "1  tt0369610      11.0                       jurashikku warudo     JP   \n",
       "2  tt0369610      12.0  jurassic world o mundo dos dinossauros     BR   \n",
       "3  tt0369610      13.0                 o mundo dos dinossauros     BR   \n",
       "4  tt0369610      14.0                          jurassic world     FR   \n",
       "\n",
       "  language        types   attributes  is_original_title   primary_title  \\\n",
       "0       bg          NaN          NaN                0.0  jurassic world   \n",
       "1      NaN  imdbDisplay          NaN                0.0  jurassic world   \n",
       "2      NaN  imdbDisplay          NaN                0.0  jurassic world   \n",
       "3      NaN          NaN  short title                0.0  jurassic world   \n",
       "4      NaN  imdbDisplay          NaN                0.0  jurassic world   \n",
       "\n",
       "   original_title  start_year  runtime_minutes                   genres  \\\n",
       "0  Jurassic World        2015            124.0  Action,Adventure,Sci-Fi   \n",
       "1  Jurassic World        2015            124.0  Action,Adventure,Sci-Fi   \n",
       "2  Jurassic World        2015            124.0  Action,Adventure,Sci-Fi   \n",
       "3  Jurassic World        2015            124.0  Action,Adventure,Sci-Fi   \n",
       "4  Jurassic World        2015            124.0  Action,Adventure,Sci-Fi   \n",
       "\n",
       "   averagerating  numvotes  \n",
       "0            7.0  539338.0  \n",
       "1            7.0  539338.0  \n",
       "2            7.0  539338.0  \n",
       "3            7.0  539338.0  \n",
       "4            7.0  539338.0  "
      ]
     },
     "execution_count": 7,
     "metadata": {},
     "output_type": "execute_result"
    }
   ],
   "source": [
    "#merging ratings \n",
    "imbd_info_df2 = imbd_info_df1.merge(ratings_df, on='tconst',how ='outer')\n",
    "imbd_info_df2.head()"
   ]
  },
  {
   "cell_type": "code",
   "execution_count": 8,
   "metadata": {},
   "outputs": [
    {
     "data": {
      "text/html": [
       "<div>\n",
       "<style scoped>\n",
       "    .dataframe tbody tr th:only-of-type {\n",
       "        vertical-align: middle;\n",
       "    }\n",
       "\n",
       "    .dataframe tbody tr th {\n",
       "        vertical-align: top;\n",
       "    }\n",
       "\n",
       "    .dataframe thead th {\n",
       "        text-align: right;\n",
       "    }\n",
       "</style>\n",
       "<table border=\"1\" class=\"dataframe\">\n",
       "  <thead>\n",
       "    <tr style=\"text-align: right;\">\n",
       "      <th></th>\n",
       "      <th>tconst</th>\n",
       "      <th>ordering</th>\n",
       "      <th>title_akas</th>\n",
       "      <th>region</th>\n",
       "      <th>language</th>\n",
       "      <th>types</th>\n",
       "      <th>attributes</th>\n",
       "      <th>is_original_title</th>\n",
       "      <th>primary_title</th>\n",
       "      <th>original_title</th>\n",
       "      <th>start_year</th>\n",
       "      <th>runtime_minutes</th>\n",
       "      <th>genres</th>\n",
       "      <th>averagerating</th>\n",
       "      <th>numvotes</th>\n",
       "      <th>title</th>\n",
       "      <th>studio</th>\n",
       "      <th>domestic_gross</th>\n",
       "      <th>foreign_gross</th>\n",
       "      <th>year</th>\n",
       "    </tr>\n",
       "  </thead>\n",
       "  <tbody>\n",
       "    <tr>\n",
       "      <th>0</th>\n",
       "      <td>tt0369610</td>\n",
       "      <td>10.0</td>\n",
       "      <td>джурасик свят</td>\n",
       "      <td>BG</td>\n",
       "      <td>bg</td>\n",
       "      <td>NaN</td>\n",
       "      <td>NaN</td>\n",
       "      <td>0.0</td>\n",
       "      <td>jurassic world</td>\n",
       "      <td>Jurassic World</td>\n",
       "      <td>2015.0</td>\n",
       "      <td>124.0</td>\n",
       "      <td>Action,Adventure,Sci-Fi</td>\n",
       "      <td>7.0</td>\n",
       "      <td>539338.0</td>\n",
       "      <td>jurassic world</td>\n",
       "      <td>Uni.</td>\n",
       "      <td>652300000.0</td>\n",
       "      <td>1,019.4</td>\n",
       "      <td>2015.0</td>\n",
       "    </tr>\n",
       "    <tr>\n",
       "      <th>1</th>\n",
       "      <td>tt0369610</td>\n",
       "      <td>11.0</td>\n",
       "      <td>jurashikku warudo</td>\n",
       "      <td>JP</td>\n",
       "      <td>NaN</td>\n",
       "      <td>imdbDisplay</td>\n",
       "      <td>NaN</td>\n",
       "      <td>0.0</td>\n",
       "      <td>jurassic world</td>\n",
       "      <td>Jurassic World</td>\n",
       "      <td>2015.0</td>\n",
       "      <td>124.0</td>\n",
       "      <td>Action,Adventure,Sci-Fi</td>\n",
       "      <td>7.0</td>\n",
       "      <td>539338.0</td>\n",
       "      <td>jurassic world</td>\n",
       "      <td>Uni.</td>\n",
       "      <td>652300000.0</td>\n",
       "      <td>1,019.4</td>\n",
       "      <td>2015.0</td>\n",
       "    </tr>\n",
       "    <tr>\n",
       "      <th>2</th>\n",
       "      <td>tt0369610</td>\n",
       "      <td>12.0</td>\n",
       "      <td>jurassic world o mundo dos dinossauros</td>\n",
       "      <td>BR</td>\n",
       "      <td>NaN</td>\n",
       "      <td>imdbDisplay</td>\n",
       "      <td>NaN</td>\n",
       "      <td>0.0</td>\n",
       "      <td>jurassic world</td>\n",
       "      <td>Jurassic World</td>\n",
       "      <td>2015.0</td>\n",
       "      <td>124.0</td>\n",
       "      <td>Action,Adventure,Sci-Fi</td>\n",
       "      <td>7.0</td>\n",
       "      <td>539338.0</td>\n",
       "      <td>jurassic world</td>\n",
       "      <td>Uni.</td>\n",
       "      <td>652300000.0</td>\n",
       "      <td>1,019.4</td>\n",
       "      <td>2015.0</td>\n",
       "    </tr>\n",
       "    <tr>\n",
       "      <th>3</th>\n",
       "      <td>tt0369610</td>\n",
       "      <td>13.0</td>\n",
       "      <td>o mundo dos dinossauros</td>\n",
       "      <td>BR</td>\n",
       "      <td>NaN</td>\n",
       "      <td>NaN</td>\n",
       "      <td>short title</td>\n",
       "      <td>0.0</td>\n",
       "      <td>jurassic world</td>\n",
       "      <td>Jurassic World</td>\n",
       "      <td>2015.0</td>\n",
       "      <td>124.0</td>\n",
       "      <td>Action,Adventure,Sci-Fi</td>\n",
       "      <td>7.0</td>\n",
       "      <td>539338.0</td>\n",
       "      <td>jurassic world</td>\n",
       "      <td>Uni.</td>\n",
       "      <td>652300000.0</td>\n",
       "      <td>1,019.4</td>\n",
       "      <td>2015.0</td>\n",
       "    </tr>\n",
       "    <tr>\n",
       "      <th>4</th>\n",
       "      <td>tt0369610</td>\n",
       "      <td>14.0</td>\n",
       "      <td>jurassic world</td>\n",
       "      <td>FR</td>\n",
       "      <td>NaN</td>\n",
       "      <td>imdbDisplay</td>\n",
       "      <td>NaN</td>\n",
       "      <td>0.0</td>\n",
       "      <td>jurassic world</td>\n",
       "      <td>Jurassic World</td>\n",
       "      <td>2015.0</td>\n",
       "      <td>124.0</td>\n",
       "      <td>Action,Adventure,Sci-Fi</td>\n",
       "      <td>7.0</td>\n",
       "      <td>539338.0</td>\n",
       "      <td>jurassic world</td>\n",
       "      <td>Uni.</td>\n",
       "      <td>652300000.0</td>\n",
       "      <td>1,019.4</td>\n",
       "      <td>2015.0</td>\n",
       "    </tr>\n",
       "  </tbody>\n",
       "</table>\n",
       "</div>"
      ],
      "text/plain": [
       "      tconst  ordering                              title_akas region  \\\n",
       "0  tt0369610      10.0                           джурасик свят     BG   \n",
       "1  tt0369610      11.0                       jurashikku warudo     JP   \n",
       "2  tt0369610      12.0  jurassic world o mundo dos dinossauros     BR   \n",
       "3  tt0369610      13.0                 o mundo dos dinossauros     BR   \n",
       "4  tt0369610      14.0                          jurassic world     FR   \n",
       "\n",
       "  language        types   attributes  is_original_title   primary_title  \\\n",
       "0       bg          NaN          NaN                0.0  jurassic world   \n",
       "1      NaN  imdbDisplay          NaN                0.0  jurassic world   \n",
       "2      NaN  imdbDisplay          NaN                0.0  jurassic world   \n",
       "3      NaN          NaN  short title                0.0  jurassic world   \n",
       "4      NaN  imdbDisplay          NaN                0.0  jurassic world   \n",
       "\n",
       "   original_title  start_year  runtime_minutes                   genres  \\\n",
       "0  Jurassic World      2015.0            124.0  Action,Adventure,Sci-Fi   \n",
       "1  Jurassic World      2015.0            124.0  Action,Adventure,Sci-Fi   \n",
       "2  Jurassic World      2015.0            124.0  Action,Adventure,Sci-Fi   \n",
       "3  Jurassic World      2015.0            124.0  Action,Adventure,Sci-Fi   \n",
       "4  Jurassic World      2015.0            124.0  Action,Adventure,Sci-Fi   \n",
       "\n",
       "   averagerating  numvotes           title studio  domestic_gross  \\\n",
       "0            7.0  539338.0  jurassic world   Uni.     652300000.0   \n",
       "1            7.0  539338.0  jurassic world   Uni.     652300000.0   \n",
       "2            7.0  539338.0  jurassic world   Uni.     652300000.0   \n",
       "3            7.0  539338.0  jurassic world   Uni.     652300000.0   \n",
       "4            7.0  539338.0  jurassic world   Uni.     652300000.0   \n",
       "\n",
       "  foreign_gross    year  \n",
       "0       1,019.4  2015.0  \n",
       "1       1,019.4  2015.0  \n",
       "2       1,019.4  2015.0  \n",
       "3       1,019.4  2015.0  \n",
       "4       1,019.4  2015.0  "
      ]
     },
     "execution_count": 8,
     "metadata": {},
     "output_type": "execute_result"
    }
   ],
   "source": [
    "#merging bom \n",
    "imbd_info_df3 = imbd_info_df2.merge(bom_df,left_on='primary_title', right_on='title', how ='outer')\n",
    "imbd_info_df3.head()"
   ]
  },
  {
   "cell_type": "markdown",
   "metadata": {},
   "source": [
    "imbd_cast_df1 = imbd_name_df.merge(principals_df, on='nconst')\n",
    "imbd_cast_df1.head()"
   ]
  },
  {
   "cell_type": "markdown",
   "metadata": {},
   "source": [
    "imbd_cast_df2 = imbd_cast_df1.merge(crew_df, on='tconst')\n",
    "imbd_cast_df2.head()"
   ]
  },
  {
   "cell_type": "code",
   "execution_count": 9,
   "metadata": {},
   "outputs": [],
   "source": [
    "#converting foreign gross column into float\n",
    "imbd_info_df3['foreign_gross']= imbd_info_df3['foreign_gross'].astype(str)\n",
    "imbd_info_df3['foreign_gross'] = imbd_info_df3['foreign_gross'].apply(remove_punctuations)\n",
    "imbd_info_df3['foreign_gross']= imbd_info_df3['foreign_gross'].astype(float)"
   ]
  },
  {
   "cell_type": "code",
   "execution_count": 10,
   "metadata": {},
   "outputs": [],
   "source": [
    "#selecting only the necessary columns\n",
    "imbd_info_df_main= imbd_info_df3[['genres','domestic_gross','averagerating','numvotes', 'foreign_gross', 'start_year', 'region']]"
   ]
  },
  {
   "cell_type": "code",
   "execution_count": 11,
   "metadata": {},
   "outputs": [
    {
     "data": {
      "text/html": [
       "<div>\n",
       "<style scoped>\n",
       "    .dataframe tbody tr th:only-of-type {\n",
       "        vertical-align: middle;\n",
       "    }\n",
       "\n",
       "    .dataframe tbody tr th {\n",
       "        vertical-align: top;\n",
       "    }\n",
       "\n",
       "    .dataframe thead th {\n",
       "        text-align: right;\n",
       "    }\n",
       "</style>\n",
       "<table border=\"1\" class=\"dataframe\">\n",
       "  <thead>\n",
       "    <tr style=\"text-align: right;\">\n",
       "      <th></th>\n",
       "      <th>genres</th>\n",
       "      <th>domestic_gross</th>\n",
       "      <th>averagerating</th>\n",
       "      <th>numvotes</th>\n",
       "      <th>foreign_gross</th>\n",
       "      <th>start_year</th>\n",
       "      <th>region</th>\n",
       "    </tr>\n",
       "  </thead>\n",
       "  <tbody>\n",
       "    <tr>\n",
       "      <th>0</th>\n",
       "      <td>Action,Adventure,Sci-Fi</td>\n",
       "      <td>652300000.0</td>\n",
       "      <td>7.0</td>\n",
       "      <td>539338.0</td>\n",
       "      <td>10194.0</td>\n",
       "      <td>2015.0</td>\n",
       "      <td>BG</td>\n",
       "    </tr>\n",
       "    <tr>\n",
       "      <th>1</th>\n",
       "      <td>Action,Adventure,Sci-Fi</td>\n",
       "      <td>652300000.0</td>\n",
       "      <td>7.0</td>\n",
       "      <td>539338.0</td>\n",
       "      <td>10194.0</td>\n",
       "      <td>2015.0</td>\n",
       "      <td>JP</td>\n",
       "    </tr>\n",
       "    <tr>\n",
       "      <th>2</th>\n",
       "      <td>Action,Adventure,Sci-Fi</td>\n",
       "      <td>652300000.0</td>\n",
       "      <td>7.0</td>\n",
       "      <td>539338.0</td>\n",
       "      <td>10194.0</td>\n",
       "      <td>2015.0</td>\n",
       "      <td>BR</td>\n",
       "    </tr>\n",
       "    <tr>\n",
       "      <th>3</th>\n",
       "      <td>Action,Adventure,Sci-Fi</td>\n",
       "      <td>652300000.0</td>\n",
       "      <td>7.0</td>\n",
       "      <td>539338.0</td>\n",
       "      <td>10194.0</td>\n",
       "      <td>2015.0</td>\n",
       "      <td>BR</td>\n",
       "    </tr>\n",
       "    <tr>\n",
       "      <th>4</th>\n",
       "      <td>Action,Adventure,Sci-Fi</td>\n",
       "      <td>652300000.0</td>\n",
       "      <td>7.0</td>\n",
       "      <td>539338.0</td>\n",
       "      <td>10194.0</td>\n",
       "      <td>2015.0</td>\n",
       "      <td>FR</td>\n",
       "    </tr>\n",
       "  </tbody>\n",
       "</table>\n",
       "</div>"
      ],
      "text/plain": [
       "                    genres  domestic_gross  averagerating  numvotes  \\\n",
       "0  Action,Adventure,Sci-Fi     652300000.0            7.0  539338.0   \n",
       "1  Action,Adventure,Sci-Fi     652300000.0            7.0  539338.0   \n",
       "2  Action,Adventure,Sci-Fi     652300000.0            7.0  539338.0   \n",
       "3  Action,Adventure,Sci-Fi     652300000.0            7.0  539338.0   \n",
       "4  Action,Adventure,Sci-Fi     652300000.0            7.0  539338.0   \n",
       "\n",
       "   foreign_gross  start_year region  \n",
       "0        10194.0      2015.0     BG  \n",
       "1        10194.0      2015.0     JP  \n",
       "2        10194.0      2015.0     BR  \n",
       "3        10194.0      2015.0     BR  \n",
       "4        10194.0      2015.0     FR  "
      ]
     },
     "execution_count": 11,
     "metadata": {},
     "output_type": "execute_result"
    }
   ],
   "source": [
    "#remove null\n",
    "imbd_info_df_main_clean= imbd_info_df_main.dropna(axis=0).copy()\n",
    "imbd_info_df_main_clean.head()"
   ]
  },
  {
   "cell_type": "code",
   "execution_count": 12,
   "metadata": {},
   "outputs": [
    {
     "name": "stdout",
     "output_type": "stream",
     "text": [
      "<class 'pandas.core.frame.DataFrame'>\n",
      "Int64Index: 36983 entries, 0 to 333438\n",
      "Data columns (total 7 columns):\n",
      " #   Column          Non-Null Count  Dtype  \n",
      "---  ------          --------------  -----  \n",
      " 0   genres          36983 non-null  object \n",
      " 1   domestic_gross  36983 non-null  float64\n",
      " 2   averagerating   36983 non-null  float64\n",
      " 3   numvotes        36983 non-null  float64\n",
      " 4   foreign_gross   36983 non-null  float64\n",
      " 5   start_year      36983 non-null  float64\n",
      " 6   region          36983 non-null  object \n",
      "dtypes: float64(5), object(2)\n",
      "memory usage: 2.3+ MB\n"
     ]
    }
   ],
   "source": [
    "#remove duplicates\n",
    "imbd_info_df_main_clean1= imbd_info_df_main_clean.drop_duplicates().copy()\n",
    "imbd_info_df_main_clean1.info()"
   ]
  },
  {
   "cell_type": "code",
   "execution_count": 13,
   "metadata": {},
   "outputs": [],
   "source": [
    "#creating total rating to find weighted rating \n",
    "imbd_info_df_main_clean1.eval('total_rating= averagerating *numvotes', inplace=True)"
   ]
  },
  {
   "cell_type": "code",
   "execution_count": 20,
   "metadata": {},
   "outputs": [
    {
     "data": {
      "text/html": [
       "<div>\n",
       "<style scoped>\n",
       "    .dataframe tbody tr th:only-of-type {\n",
       "        vertical-align: middle;\n",
       "    }\n",
       "\n",
       "    .dataframe tbody tr th {\n",
       "        vertical-align: top;\n",
       "    }\n",
       "\n",
       "    .dataframe thead th {\n",
       "        text-align: right;\n",
       "    }\n",
       "</style>\n",
       "<table border=\"1\" class=\"dataframe\">\n",
       "  <thead>\n",
       "    <tr style=\"text-align: right;\">\n",
       "      <th></th>\n",
       "      <th>index</th>\n",
       "      <th>genres</th>\n",
       "      <th>domestic_gross</th>\n",
       "      <th>averagerating</th>\n",
       "      <th>numvotes</th>\n",
       "      <th>foreign_gross</th>\n",
       "      <th>start_year</th>\n",
       "      <th>region</th>\n",
       "      <th>total_rating</th>\n",
       "    </tr>\n",
       "  </thead>\n",
       "  <tbody>\n",
       "    <tr>\n",
       "      <th>0</th>\n",
       "      <td>0</td>\n",
       "      <td>Action,Adventure,Sci-Fi</td>\n",
       "      <td>652300000.0</td>\n",
       "      <td>7.0</td>\n",
       "      <td>539338.0</td>\n",
       "      <td>10194.0</td>\n",
       "      <td>2015.0</td>\n",
       "      <td>BG</td>\n",
       "      <td>3775366.0</td>\n",
       "    </tr>\n",
       "    <tr>\n",
       "      <th>1</th>\n",
       "      <td>1</td>\n",
       "      <td>Action,Adventure,Sci-Fi</td>\n",
       "      <td>652300000.0</td>\n",
       "      <td>7.0</td>\n",
       "      <td>539338.0</td>\n",
       "      <td>10194.0</td>\n",
       "      <td>2015.0</td>\n",
       "      <td>JP</td>\n",
       "      <td>3775366.0</td>\n",
       "    </tr>\n",
       "    <tr>\n",
       "      <th>2</th>\n",
       "      <td>2</td>\n",
       "      <td>Action,Adventure,Sci-Fi</td>\n",
       "      <td>652300000.0</td>\n",
       "      <td>7.0</td>\n",
       "      <td>539338.0</td>\n",
       "      <td>10194.0</td>\n",
       "      <td>2015.0</td>\n",
       "      <td>BR</td>\n",
       "      <td>3775366.0</td>\n",
       "    </tr>\n",
       "    <tr>\n",
       "      <th>3</th>\n",
       "      <td>4</td>\n",
       "      <td>Action,Adventure,Sci-Fi</td>\n",
       "      <td>652300000.0</td>\n",
       "      <td>7.0</td>\n",
       "      <td>539338.0</td>\n",
       "      <td>10194.0</td>\n",
       "      <td>2015.0</td>\n",
       "      <td>FR</td>\n",
       "      <td>3775366.0</td>\n",
       "    </tr>\n",
       "    <tr>\n",
       "      <th>4</th>\n",
       "      <td>5</td>\n",
       "      <td>Action,Adventure,Sci-Fi</td>\n",
       "      <td>652300000.0</td>\n",
       "      <td>7.0</td>\n",
       "      <td>539338.0</td>\n",
       "      <td>10194.0</td>\n",
       "      <td>2015.0</td>\n",
       "      <td>GR</td>\n",
       "      <td>3775366.0</td>\n",
       "    </tr>\n",
       "  </tbody>\n",
       "</table>\n",
       "</div>"
      ],
      "text/plain": [
       "   index                   genres  domestic_gross  averagerating  numvotes  \\\n",
       "0      0  Action,Adventure,Sci-Fi     652300000.0            7.0  539338.0   \n",
       "1      1  Action,Adventure,Sci-Fi     652300000.0            7.0  539338.0   \n",
       "2      2  Action,Adventure,Sci-Fi     652300000.0            7.0  539338.0   \n",
       "3      4  Action,Adventure,Sci-Fi     652300000.0            7.0  539338.0   \n",
       "4      5  Action,Adventure,Sci-Fi     652300000.0            7.0  539338.0   \n",
       "\n",
       "   foreign_gross  start_year region  total_rating  \n",
       "0        10194.0      2015.0     BG     3775366.0  \n",
       "1        10194.0      2015.0     JP     3775366.0  \n",
       "2        10194.0      2015.0     BR     3775366.0  \n",
       "3        10194.0      2015.0     FR     3775366.0  \n",
       "4        10194.0      2015.0     GR     3775366.0  "
      ]
     },
     "execution_count": 20,
     "metadata": {},
     "output_type": "execute_result"
    }
   ],
   "source": [
    "imbd_info_df_main_clean1.head().reset_index()"
   ]
  },
  {
   "cell_type": "markdown",
   "metadata": {},
   "source": [
    "## Data Modeling"
   ]
  },
  {
   "cell_type": "code",
   "execution_count": 34,
   "metadata": {},
   "outputs": [
    {
     "data": {
      "text/plain": [
       "<AxesSubplot:xlabel='region'>"
      ]
     },
     "execution_count": 34,
     "metadata": {},
     "output_type": "execute_result"
    },
    {
     "data": {
      "image/png": "[encoded data removed]",
      "text/plain": [
       "<Figure size 432x288 with 1 Axes>"
      ]
     },
     "metadata": {
      "needs_background": "light"
     },
     "output_type": "display_data"
    }
   ],
   "source": [
    "gross_per_genre = imbd_info_df_main_clean1.groupby(['region'])['domestic_gross'].mean().sort_values(ascending=False)\n",
    "gross_per_genre.head(10).plot(kind = 'bar')"
   ]
  },
  {
   "cell_type": "code",
   "execution_count": 19,
   "metadata": {},
   "outputs": [
    {
     "data": {
      "text/plain": [
       "start_year        0.118375\n",
       "averagerating     0.255971\n",
       "total_rating      0.623412\n",
       "numvotes          0.650849\n",
       "foreign_gross     0.800078\n",
       "domestic_gross    1.000000\n",
       "Name: domestic_gross, dtype: float64"
      ]
     },
     "execution_count": 19,
     "metadata": {},
     "output_type": "execute_result"
    }
   ],
   "source": [
    "imbd_info_df_main_clean1.corr()['domestic_gross'].sort_values()"
   ]
  },
  {
   "cell_type": "code",
   "execution_count": 35,
   "metadata": {},
   "outputs": [
    {
     "data": {
      "text/plain": [
       "<AxesSubplot:xlabel='genres'>"
      ]
     },
     "execution_count": 35,
     "metadata": {},
     "output_type": "execute_result"
    },
    {
     "data": {
      "image/png": "[encoded data removed]",
      "text/plain": [
       "<Figure size 432x288 with 1 Axes>"
      ]
     },
     "metadata": {
      "needs_background": "light"
     },
     "output_type": "display_data"
    }
   ],
   "source": [
    "#top genres based on domestic gross \n",
    "gross_per_genre1 = imbd_info_df_main_clean1.groupby(['genres'])['domestic_gross'].mean().sort_values(ascending=False)\n",
    "gross_per_genre1.head(10).plot(kind = 'bar')"
   ]
  },
  {
   "cell_type": "code",
   "execution_count": 23,
   "metadata": {},
   "outputs": [
    {
     "data": {
      "text/plain": [
       "mean      4.609081e+07\n",
       "median    2.911936e+07\n",
       "std       6.290092e+07\n",
       "max       4.126000e+08\n",
       "min       8.000000e+02\n",
       "Name: domestic_gross, dtype: float64"
      ]
     },
     "execution_count": 23,
     "metadata": {},
     "output_type": "execute_result"
    }
   ],
   "source": [
    "#stats on domestic gross \n",
    "gross_per_genre.apply(['mean', 'median', 'std', 'max', 'min'])"
   ]
  },
  {
   "cell_type": "code",
   "execution_count": 24,
   "metadata": {},
   "outputs": [
    {
     "data": {
      "text/plain": [
       "6.559522118340857"
      ]
     },
     "execution_count": 24,
     "metadata": {},
     "output_type": "execute_result"
    }
   ],
   "source": [
    "#outlier\n",
    "gross_per_genre.max()/gross_per_genre.std()"
   ]
  },
  {
   "cell_type": "code",
   "execution_count": 25,
   "metadata": {},
   "outputs": [
    {
     "data": {
      "text/plain": [
       "1.2718414189705976e-05"
      ]
     },
     "execution_count": 25,
     "metadata": {},
     "output_type": "execute_result"
    }
   ],
   "source": [
    "#outlier\n",
    "gross_per_genre.min()/gross_per_genre.std()"
   ]
  },
  {
   "cell_type": "code",
   "execution_count": 26,
   "metadata": {
    "scrolled": true
   },
   "outputs": [],
   "source": [
    "#finding weighted rating\n",
    "totalvote_per_genre = imbd_info_df_main_clean1.groupby(['genres'])['numvotes'].sum()\n",
    "totalvote_df = totalvote_per_genre.to_frame()\n",
    "totalrating_per_genre = imbd_info_df_main_clean1.groupby(['genres'])['total_rating'].sum()\n",
    "totalrating_df = totalrating_per_genre.to_frame()\n",
    "gross_df= gross_per_genre.to_frame()"
   ]
  },
  {
   "cell_type": "code",
   "execution_count": 27,
   "metadata": {},
   "outputs": [
    {
     "data": {
      "text/html": [
       "<div>\n",
       "<style scoped>\n",
       "    .dataframe tbody tr th:only-of-type {\n",
       "        vertical-align: middle;\n",
       "    }\n",
       "\n",
       "    .dataframe tbody tr th {\n",
       "        vertical-align: top;\n",
       "    }\n",
       "\n",
       "    .dataframe thead th {\n",
       "        text-align: right;\n",
       "    }\n",
       "</style>\n",
       "<table border=\"1\" class=\"dataframe\">\n",
       "  <thead>\n",
       "    <tr style=\"text-align: right;\">\n",
       "      <th></th>\n",
       "      <th>genres</th>\n",
       "      <th>total_rating</th>\n",
       "      <th>numvotes</th>\n",
       "      <th>weighted_rating</th>\n",
       "    </tr>\n",
       "  </thead>\n",
       "  <tbody>\n",
       "    <tr>\n",
       "      <th>0</th>\n",
       "      <td>Action</td>\n",
       "      <td>8.440362e+06</td>\n",
       "      <td>1514054.0</td>\n",
       "      <td>5.574677</td>\n",
       "    </tr>\n",
       "    <tr>\n",
       "      <th>1</th>\n",
       "      <td>Action,Adventure</td>\n",
       "      <td>6.724624e+05</td>\n",
       "      <td>113186.0</td>\n",
       "      <td>5.941215</td>\n",
       "    </tr>\n",
       "    <tr>\n",
       "      <th>2</th>\n",
       "      <td>Action,Adventure,Animation</td>\n",
       "      <td>8.639435e+08</td>\n",
       "      <td>112485354.0</td>\n",
       "      <td>7.680498</td>\n",
       "    </tr>\n",
       "    <tr>\n",
       "      <th>3</th>\n",
       "      <td>Action,Adventure,Biography</td>\n",
       "      <td>1.780843e+08</td>\n",
       "      <td>22881778.0</td>\n",
       "      <td>7.782800</td>\n",
       "    </tr>\n",
       "    <tr>\n",
       "      <th>4</th>\n",
       "      <td>Action,Adventure,Comedy</td>\n",
       "      <td>1.376563e+09</td>\n",
       "      <td>183844163.0</td>\n",
       "      <td>7.487664</td>\n",
       "    </tr>\n",
       "    <tr>\n",
       "      <th>...</th>\n",
       "      <td>...</td>\n",
       "      <td>...</td>\n",
       "      <td>...</td>\n",
       "      <td>...</td>\n",
       "    </tr>\n",
       "    <tr>\n",
       "      <th>264</th>\n",
       "      <td>Romance,Sci-Fi,Thriller</td>\n",
       "      <td>5.656258e+07</td>\n",
       "      <td>7966560.0</td>\n",
       "      <td>7.100000</td>\n",
       "    </tr>\n",
       "    <tr>\n",
       "      <th>265</th>\n",
       "      <td>Romance,Thriller</td>\n",
       "      <td>3.799409e+06</td>\n",
       "      <td>613684.0</td>\n",
       "      <td>6.191149</td>\n",
       "    </tr>\n",
       "    <tr>\n",
       "      <th>266</th>\n",
       "      <td>Sci-Fi</td>\n",
       "      <td>8.400000e+01</td>\n",
       "      <td>20.0</td>\n",
       "      <td>4.200000</td>\n",
       "    </tr>\n",
       "    <tr>\n",
       "      <th>267</th>\n",
       "      <td>Thriller</td>\n",
       "      <td>7.700500e+04</td>\n",
       "      <td>14577.0</td>\n",
       "      <td>5.282637</td>\n",
       "    </tr>\n",
       "    <tr>\n",
       "      <th>268</th>\n",
       "      <td>Thriller,Western</td>\n",
       "      <td>2.519680e+05</td>\n",
       "      <td>39370.0</td>\n",
       "      <td>6.400000</td>\n",
       "    </tr>\n",
       "  </tbody>\n",
       "</table>\n",
       "<p>269 rows × 4 columns</p>\n",
       "</div>"
      ],
      "text/plain": [
       "                         genres  total_rating     numvotes  weighted_rating\n",
       "0                        Action  8.440362e+06    1514054.0         5.574677\n",
       "1              Action,Adventure  6.724624e+05     113186.0         5.941215\n",
       "2    Action,Adventure,Animation  8.639435e+08  112485354.0         7.680498\n",
       "3    Action,Adventure,Biography  1.780843e+08   22881778.0         7.782800\n",
       "4       Action,Adventure,Comedy  1.376563e+09  183844163.0         7.487664\n",
       "..                          ...           ...          ...              ...\n",
       "264     Romance,Sci-Fi,Thriller  5.656258e+07    7966560.0         7.100000\n",
       "265            Romance,Thriller  3.799409e+06     613684.0         6.191149\n",
       "266                      Sci-Fi  8.400000e+01         20.0         4.200000\n",
       "267                    Thriller  7.700500e+04      14577.0         5.282637\n",
       "268            Thriller,Western  2.519680e+05      39370.0         6.400000\n",
       "\n",
       "[269 rows x 4 columns]"
      ]
     },
     "execution_count": 27,
     "metadata": {},
     "output_type": "execute_result"
    }
   ],
   "source": [
    "weighted_rating = totalrating_df.merge(totalvote_df, on='genres', how='outer')\n",
    "weighted_rating['weighted_rating']= weighted_rating['total_rating']/weighted_rating['numvotes']\n",
    "weighted_rating.reset_index()"
   ]
  },
  {
   "cell_type": "code",
   "execution_count": 28,
   "metadata": {},
   "outputs": [],
   "source": [
    "#creating the final dataframe for scatter plots \n",
    "final_df= gross_df.merge(weighted_rating, on= 'genres')\n",
    "#final_df['numvotes'].apply(['mean', 'median', 'std', 'max', 'min'])"
   ]
  },
  {
   "cell_type": "code",
   "execution_count": 29,
   "metadata": {},
   "outputs": [
    {
     "data": {
      "text/plain": [
       "domestic_gross     0.078576\n",
       "numvotes           0.160907\n",
       "total_rating       0.174517\n",
       "weighted_rating    1.000000\n",
       "Name: weighted_rating, dtype: float64"
      ]
     },
     "execution_count": 29,
     "metadata": {},
     "output_type": "execute_result"
    }
   ],
   "source": [
    "#finding to be shown through scatter plots \n",
    "correlation_dome = final_df.corr()['weighted_rating'].sort_values()\n",
    "correlation_dome "
   ]
  },
  {
   "cell_type": "code",
   "execution_count": 30,
   "metadata": {},
   "outputs": [
    {
     "data": {
      "text/plain": [
       "Text(0, 0.5, 'number of votes')"
      ]
     },
     "execution_count": 30,
     "metadata": {},
     "output_type": "execute_result"
    },
    {
     "data": {
      "image/png": "[encoded data removed]",
      "text/plain": [
       "<Figure size 1008x432 with 2 Axes>"
      ]
     },
     "metadata": {
      "needs_background": "light"
     },
     "output_type": "display_data"
    }
   ],
   "source": [
    "fig, (ax1, ax2) = plt.subplots(figsize=(14,6), ncols=2)\n",
    "ax1.set_xlim(1, 10) \n",
    "ax1.set_ylim(2.690981e+07, 1.164440e+08)\n",
    "ax2.set_xlim(1, 10) \n",
    "ax2.set_ylim(1.471160e+04, 1.0e+06)\n",
    "\n",
    "ax1.scatter(final_df['weighted_rating'], final_df['domestic_gross'], color='red', marker='x')\n",
    "ax2.scatter(final_df['weighted_rating'], final_df['numvotes'], color='lightblue', marker='x')\n",
    "\n",
    "fig.legend(labels=[\"rating vs gross\", \"rating vs number of votes\"], loc=(.68, .88));\n",
    "ax1.set_xlabel('weighted rating')\n",
    "ax1.set_ylabel('domestic gross')\n",
    "\n",
    "ax2.set_xlabel('weighted rating')\n",
    "ax2.set_ylabel('number of votes')\n"
   ]
  },
  {
   "cell_type": "markdown",
   "metadata": {},
   "source": [
    "## Evaluation"
   ]
  },
  {
   "cell_type": "code",
   "execution_count": null,
   "metadata": {},
   "outputs": [],
   "source": []
  }
 ],
 "metadata": {
  "kernelspec": {
   "display_name": "Python (learn-env)",
   "language": "python",
   "name": "learn-env"
  },
  "language_info": {
   "codemirror_mode": {
    "name": "ipython",
    "version": 3
   },
   "file_extension": ".py",
   "mimetype": "text/x-python",
   "name": "python",
   "nbconvert_exporter": "python",
   "pygments_lexer": "ipython3",
   "version": "3.8.5"
  }
 },
 "nbformat": 4,
 "nbformat_minor": 2
}
