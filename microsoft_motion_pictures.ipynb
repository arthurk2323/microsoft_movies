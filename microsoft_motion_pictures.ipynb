{
 "cells": [
  {
   "cell_type": "markdown",
   "metadata": {},
   "source": [
    "![Hollywood](images/Hollywood_Sign.jpeg)"
   ]
  },
  {
   "cell_type": "markdown",
   "metadata": {},
   "source": [
    "# Project Hollywood\n",
    "\n",
    "**Authors:** Arthur Kim, Mia Fryer, Eddie Lin, Ian Sharff"
   ]
  },
  {
   "cell_type": "markdown",
   "metadata": {},
   "source": [
    "## Overview\n",
    "\n",
    ">The client wants to develop original video content and recently established a movie studio. In order for the client to successfully compete with its competitors, the client tasked Team 3 to determine three recommendations for the client to determine what type of films to create"
   ]
  },
  {
   "cell_type": "markdown",
   "metadata": {},
   "source": [
    "## Business Problem\n",
    "\n",
    "Summary of the business problem you are trying to solve, and the data questions that you plan to answer to solve them.\n",
    "\n",
    "***\n",
    "Questions to consider:\n",
    "* What are the business's pain points related to this project?\n",
    "* How did you pick the data analysis question(s) that you did?\n",
    "* Why are these questions important from a business perspective?\n",
    "***"
   ]
  },
  {
   "cell_type": "markdown",
   "metadata": {},
   "source": [
    "## Data Understanding\n",
    "***"
   ]
  },
  {
   "cell_type": "markdown",
   "metadata": {},
   "source": [
    "The data was obtained from five sources (IMDb, TMDb, Rotten Tomatoes, The Numbers, and Box Office Mojo) and delivered in CSV format. We were tasked with analyzing this data and determining three actionable recommendations for a company that wishes to begin a new venture in the movie-making industry. With an understanding of the requirements, we then began taking a deep dive into the 1 CSV/TSV files to see how we could connect each dataset and generate aggregated data."
   ]
  },
  {
   "cell_type": "markdown",
   "metadata": {},
   "source": [
    "![graph](./images/Project_Hollywood_Schemas_v2.png)"
   ]
  },
  {
   "cell_type": "markdown",
   "metadata": {},
   "source": [
    "In the above schema, shaded items indicate matching keys according to color. While the blue, yellow and green items represent matching keys, the \"modified_name\" key was constructed by stripping movie names of punctuation and whitespace so that title matching between datasets lacking predifined keys could return more matches."
   ]
  },
  {
   "cell_type": "markdown",
   "metadata": {},
   "source": [
    "### Existing Keys\n",
    "- IMDB\n",
    "    - 'tconst': identifies a unique movie\n",
    "    - 'nconst': identifies a unique individual (cast/crew/directors/writers/etc.)\n",
    "    - 'title_id': corresponds to 'tconst' in the imdb.title.akas.csv dataset\n",
    "- TMDB\n",
    "    - 'genre_ids': lists of id's corresponding to genre, which were obtained via the TMDB API\n",
    "- Rotten Tomatoes:\n",
    "    - 'id': ideintifies a unique movie, but limited to the two Rotten Tomatoes TSV files"
   ]
  },
  {
   "cell_type": "markdown",
   "metadata": {},
   "source": [
    "### Features of Interest\n",
    "* Movie titles\n",
    "* Genres\n",
    "* Content rating\n",
    "* User and critic review sentiment\n",
    "* Influencial cast and producers\n",
    "* Production Budget\n",
    "* Domestic and foreign gross profit"
   ]
  },
  {
   "cell_type": "markdown",
   "metadata": {},
   "source": [
    "### Source-Specific features\n",
    "\n",
    "- Rotten Tomatoes\n",
    "    - 'fresh': overall review sentiment, either \"fresh\" or \"rotten\"\n",
    "    - 'rating': the movie's content rating (G, PG, PG-13, R, NR)\n",
    "    - 'genre': genre classification(s) pertaining to a given movie\n",
    "- IMDB\n",
    "    - 'primary-profession', 'directors', 'writers': identify an individual's role in movie production\n",
    "    - 'genres': genre classification, slightly different from Rotten Tomatoes classifications\n",
    "- TMDB\n",
    "    - 'genre_ids': genre classifications as integers, requiring a mapping of key to genre as a string\n",
    "    - 'popularity', 'vote_count': indicators of viewer sentiment\n",
    "- The Numbers\n",
    "    - 'production_budget': production expenditure limit for a given film\n",
    "    - 'domestic_gross', 'worldwide_gross': financial metrics on a movie's box office performance\n",
    "- Box Office Mojo\n",
    "    - 'domestic_gross', 'foreign_gross': financial metrics for a different set of movies, increasing available sample size"
   ]
  },
  {
   "cell_type": "markdown",
   "metadata": {},
   "source": [
    "These were explored using the pandas library to determine the quality of data in each file and to determine a course of action for cleaning. Example information from each source is provided below"
   ]
  },
  {
   "cell_type": "markdown",
   "metadata": {},
   "source": [
    "***\n",
    "\n",
    "## Data Preparation\n",
    "\n",
    "***\n",
    "\n",
    "In general, each file was cleaned prior to being joined with another. In some cases this was not necessary, given that much of the data was already in a suitable format. However, in many cases, it was reasonable to remove unnecessary variables prior to merging. Some sample cases are highlighted below and the remaining cleaning processes are documented in the [tools/data_preparation.py](tools/data_preparation.py) module."
   ]
  },
  {
   "cell_type": "code",
   "execution_count": 1,
   "metadata": {},
   "outputs": [],
   "source": [
    "# Import standard packages\n",
    "import pandas as pd\n",
    "import numpy as np\n",
    "import matplotlib.pyplot as plt\n",
    "import seaborn as sns\n",
    "\n",
    "%matplotlib inline"
   ]
  },
  {
   "cell_type": "markdown",
   "metadata": {},
   "source": [
    "Here, we import the data_preparation module from the tools package which contains functions for cleaning and merging the datasets. The cleaned data will be demonstrated and compared to the raw data from the CSV. "
   ]
  },
  {
   "cell_type": "code",
   "execution_count": 2,
   "metadata": {},
   "outputs": [],
   "source": [
    "import tools.data_preparation as dp"
   ]
  },
  {
   "cell_type": "markdown",
   "metadata": {},
   "source": [
    "The contents of the data directory are shown below:"
   ]
  },
  {
   "cell_type": "code",
   "execution_count": 3,
   "metadata": {},
   "outputs": [
    {
     "name": "stdout",
     "output_type": "stream",
     "text": [
      "bom.movie_gross.csv       imdb.title.crew.csv       rt.reviews.tsv\n",
      "imdb.name.basics.csv      imdb.title.principals.csv tmdb.movies.csv\n",
      "imdb.title.akas.csv       imdb.title.ratings.csv    tmdb_genre_ids.json\n",
      "imdb.title.basics.csv     rt.movie_info.tsv         tn.movie_budgets.csv\n"
     ]
    }
   ],
   "source": [
    "!ls data"
   ]
  },
  {
   "cell_type": "markdown",
   "metadata": {},
   "source": [
    "### Rotten Tomatoes Dataset\n",
    "\n",
    "***"
   ]
  },
  {
   "cell_type": "markdown",
   "metadata": {},
   "source": [
    "Both files from the Rotten Tomatoes dataset contained superfluous values that we did not apply to our analysis. For example, the original rt.reviews.tsv file has these properties:"
   ]
  },
  {
   "cell_type": "code",
   "execution_count": 4,
   "metadata": {},
   "outputs": [
    {
     "name": "stdout",
     "output_type": "stream",
     "text": [
      "<class 'pandas.core.frame.DataFrame'>\n",
      "RangeIndex: 54432 entries, 0 to 54431\n",
      "Data columns (total 8 columns):\n",
      " #   Column      Non-Null Count  Dtype \n",
      "---  ------      --------------  ----- \n",
      " 0   id          54432 non-null  int64 \n",
      " 1   review      48869 non-null  object\n",
      " 2   rating      40915 non-null  object\n",
      " 3   fresh       54432 non-null  object\n",
      " 4   critic      51710 non-null  object\n",
      " 5   top_critic  54432 non-null  int64 \n",
      " 6   publisher   54123 non-null  object\n",
      " 7   date        54432 non-null  object\n",
      "dtypes: int64(2), object(6)\n",
      "memory usage: 3.3+ MB\n"
     ]
    }
   ],
   "source": [
    "original_rt_reviews = pd.read_csv('./data/rt.reviews.tsv', encoding='latin-1', delimiter='\\t')\n",
    "original_rt_reviews.info()"
   ]
  },
  {
   "cell_type": "code",
   "execution_count": 5,
   "metadata": {},
   "outputs": [
    {
     "data": {
      "text/html": [
       "<div>\n",
       "<style scoped>\n",
       "    .dataframe tbody tr th:only-of-type {\n",
       "        vertical-align: middle;\n",
       "    }\n",
       "\n",
       "    .dataframe tbody tr th {\n",
       "        vertical-align: top;\n",
       "    }\n",
       "\n",
       "    .dataframe thead th {\n",
       "        text-align: right;\n",
       "    }\n",
       "</style>\n",
       "<table border=\"1\" class=\"dataframe\">\n",
       "  <thead>\n",
       "    <tr style=\"text-align: right;\">\n",
       "      <th></th>\n",
       "      <th>id</th>\n",
       "      <th>review</th>\n",
       "      <th>rating</th>\n",
       "      <th>fresh</th>\n",
       "      <th>critic</th>\n",
       "      <th>top_critic</th>\n",
       "      <th>publisher</th>\n",
       "      <th>date</th>\n",
       "    </tr>\n",
       "  </thead>\n",
       "  <tbody>\n",
       "    <tr>\n",
       "      <th>0</th>\n",
       "      <td>3</td>\n",
       "      <td>A distinctly gallows take on contemporary fina...</td>\n",
       "      <td>3/5</td>\n",
       "      <td>fresh</td>\n",
       "      <td>PJ Nabarro</td>\n",
       "      <td>0</td>\n",
       "      <td>Patrick Nabarro</td>\n",
       "      <td>November 10, 2018</td>\n",
       "    </tr>\n",
       "    <tr>\n",
       "      <th>1</th>\n",
       "      <td>3</td>\n",
       "      <td>It's an allegory in search of a meaning that n...</td>\n",
       "      <td>NaN</td>\n",
       "      <td>rotten</td>\n",
       "      <td>Annalee Newitz</td>\n",
       "      <td>0</td>\n",
       "      <td>io9.com</td>\n",
       "      <td>May 23, 2018</td>\n",
       "    </tr>\n",
       "    <tr>\n",
       "      <th>2</th>\n",
       "      <td>3</td>\n",
       "      <td>... life lived in a bubble in financial dealin...</td>\n",
       "      <td>NaN</td>\n",
       "      <td>fresh</td>\n",
       "      <td>Sean Axmaker</td>\n",
       "      <td>0</td>\n",
       "      <td>Stream on Demand</td>\n",
       "      <td>January 4, 2018</td>\n",
       "    </tr>\n",
       "    <tr>\n",
       "      <th>3</th>\n",
       "      <td>3</td>\n",
       "      <td>Continuing along a line introduced in last yea...</td>\n",
       "      <td>NaN</td>\n",
       "      <td>fresh</td>\n",
       "      <td>Daniel Kasman</td>\n",
       "      <td>0</td>\n",
       "      <td>MUBI</td>\n",
       "      <td>November 16, 2017</td>\n",
       "    </tr>\n",
       "    <tr>\n",
       "      <th>4</th>\n",
       "      <td>3</td>\n",
       "      <td>... a perverse twist on neorealism...</td>\n",
       "      <td>NaN</td>\n",
       "      <td>fresh</td>\n",
       "      <td>NaN</td>\n",
       "      <td>0</td>\n",
       "      <td>Cinema Scope</td>\n",
       "      <td>October 12, 2017</td>\n",
       "    </tr>\n",
       "  </tbody>\n",
       "</table>\n",
       "</div>"
      ],
      "text/plain": [
       "   id                                             review rating   fresh  \\\n",
       "0   3  A distinctly gallows take on contemporary fina...    3/5   fresh   \n",
       "1   3  It's an allegory in search of a meaning that n...    NaN  rotten   \n",
       "2   3  ... life lived in a bubble in financial dealin...    NaN   fresh   \n",
       "3   3  Continuing along a line introduced in last yea...    NaN   fresh   \n",
       "4   3             ... a perverse twist on neorealism...     NaN   fresh   \n",
       "\n",
       "           critic  top_critic         publisher               date  \n",
       "0      PJ Nabarro           0   Patrick Nabarro  November 10, 2018  \n",
       "1  Annalee Newitz           0           io9.com       May 23, 2018  \n",
       "2    Sean Axmaker           0  Stream on Demand    January 4, 2018  \n",
       "3   Daniel Kasman           0              MUBI  November 16, 2017  \n",
       "4             NaN           0      Cinema Scope   October 12, 2017  "
      ]
     },
     "execution_count": 5,
     "metadata": {},
     "output_type": "execute_result"
    }
   ],
   "source": [
    "original_rt_reviews.head()"
   ]
  },
  {
   "cell_type": "code",
   "execution_count": 6,
   "metadata": {},
   "outputs": [
    {
     "name": "stdout",
     "output_type": "stream",
     "text": [
      "id: 0.00 % null\n",
      "review: 10.22 % null\n",
      "rating: 24.83 % null\n",
      "fresh: 0.00 % null\n",
      "critic: 5.00 % null\n",
      "top_critic: 0.00 % null\n",
      "publisher: 0.57 % null\n",
      "date: 0.00 % null\n"
     ]
    }
   ],
   "source": [
    "# Helper function for displaying percent NaN values\n",
    "dp.display_percent_nan(original_rt_reviews)"
   ]
  },
  {
   "cell_type": "markdown",
   "metadata": {},
   "source": [
    "Of these features, the critic and publisher information were immediately discarded because we decided that they did not convey significant information that could be aggregated. The rating column, (here denoting the reviewer's overall rating of the film rather than the content rating) was also discarded, given that there was no uniformity in the rating scales. Roughly 25% were null values, while the remaining values were in widely different formats:"
   ]
  },
  {
   "cell_type": "code",
   "execution_count": 7,
   "metadata": {},
   "outputs": [
    {
     "name": "stdout",
     "output_type": "stream",
     "text": [
      "3/5, nan, C, 2/5, B-, 2/4, B, 3/4, 4/5, 4/4, 6/10, 1/4, 8, 2.5/4, 4/10, 2.0/5, 3/10, 7/10, A-, 5/5, F, 3.5/4, D+, 1.5/4, 3.5/5, 8/10, B+, 9/10, 2.5/5, 7.5/10, 5.5/10, C-, 1.5/5, 1/5, 5/10, C+, 0/5, 6, 0.5/4, D, 3.1/5, 3/6, 4.5/5, 0/4, 2/10, D-, 7, 1/10, 3, A+, A, 4.0/4, 9.5/10, 2.5, 2.1/2, 6.5/10, 3.7/5, 8.4/10, 9, 1, 7.2/10, 2.2/5, 0.5/10, 5, 0, 2, 4.5, 7.7, 5.0/5, 8.5/10, 3.0/5, 0.5/5, 1.5/10, 3.0/4, 2.3/10, 4.5/10, 4/6, 3.5, 8.6/10, 6/8, 2.0/4, 2.7, 4.2/10, 5.8, 4, 7.1/10, 5/4, N, 3.5/10, 5.8/10, R, 4.0/5, 0/10, 5.0/10, 5.9/10, 2.4/5, 1.9/5, 4.9, 7.4/10, 1.5, 2.3/4, 8.8/10, 4.0/10, 2.2, 3.8/10, 6.8/10, 7.3, 7.0/10, 3.2, 4.2, 8.4, 5.5/5, 6.3/10, 7.6/10, 8.1/10, 3.6/5, 2/6, 7.7/10, 1.8, 8.9/10, 8.9, 8.2/10, 8.3/10, 2.6/6, 4.1/10, 2.5/10, F+, 6.0/10, 1.0/4, 7.9/10, 8.7/10, 4.3/10, 9.6/10, 9.0/10, 4.0, 1.7, 7.9, 6.7, 8.0/10, 9.2/10, 5.2, 5.9, 3.7, 4.7, 6.2/10, 1/6, 8.2, 2.6/5, 3.4, 9.7, 3.3/5, 3.8/5, 1/2, 7.4, 4.8, 1.6/5, 2/2, 1-5, 1.0, 4.3/5, 5/6, 9.2, 2.7/5, 4.9/10, 3.0, 3.1, 7.8/10, F-, 2.3/5, 3.0/10, 3/2, 7.8, 4.2/5, 9.0, 7.3/10, 4.4/5, 6.9/10, 0/6, T, 6.2, 3.3, 9.8, 8.5, 1.0/5, 4.1, 7.1, 3 1/2\n"
     ]
    }
   ],
   "source": [
    "print(*original_rt_reviews['rating'].unique(), sep=', ')"
   ]
  },
  {
   "cell_type": "markdown",
   "metadata": {},
   "source": [
    "While these could have been parsed and scaled to numeric values, we found it suitable to use the 'fresh' column, which contained no NaN values. The values of 'fresh' and 'rotten' were converted to 1 and 0 respectively so that a tally of positive reviews could be assembled. A highlight of the cleaned file is shown below with empty review values being filled with the string 'Empty' (controlled with the 'na_action' parameter with the default being None and 'drop' removing rows with NaN reviews)."
   ]
  },
  {
   "cell_type": "code",
   "execution_count": 8,
   "metadata": {},
   "outputs": [
    {
     "name": "stdout",
     "output_type": "stream",
     "text": [
      "<class 'pandas.core.frame.DataFrame'>\n",
      "Int64Index: 54423 entries, 0 to 54431\n",
      "Data columns (total 5 columns):\n",
      " #   Column      Non-Null Count  Dtype         \n",
      "---  ------      --------------  -----         \n",
      " 0   id          54423 non-null  int64         \n",
      " 1   review      54423 non-null  object        \n",
      " 2   fresh       54423 non-null  int64         \n",
      " 3   top_critic  54423 non-null  int64         \n",
      " 4   date        54423 non-null  datetime64[ns]\n",
      "dtypes: datetime64[ns](1), int64(3), object(1)\n",
      "memory usage: 2.5+ MB\n"
     ]
    }
   ],
   "source": [
    "clean_reviews = dp.clean_rt_reviews(na_action='fill')\n",
    "clean_reviews.info()"
   ]
  },
  {
   "cell_type": "code",
   "execution_count": 9,
   "metadata": {},
   "outputs": [
    {
     "data": {
      "text/html": [
       "<div>\n",
       "<style scoped>\n",
       "    .dataframe tbody tr th:only-of-type {\n",
       "        vertical-align: middle;\n",
       "    }\n",
       "\n",
       "    .dataframe tbody tr th {\n",
       "        vertical-align: top;\n",
       "    }\n",
       "\n",
       "    .dataframe thead th {\n",
       "        text-align: right;\n",
       "    }\n",
       "</style>\n",
       "<table border=\"1\" class=\"dataframe\">\n",
       "  <thead>\n",
       "    <tr style=\"text-align: right;\">\n",
       "      <th></th>\n",
       "      <th>id</th>\n",
       "      <th>review</th>\n",
       "      <th>fresh</th>\n",
       "      <th>top_critic</th>\n",
       "      <th>date</th>\n",
       "    </tr>\n",
       "  </thead>\n",
       "  <tbody>\n",
       "    <tr>\n",
       "      <th>0</th>\n",
       "      <td>3</td>\n",
       "      <td>A distinctly gallows take on contemporary fina...</td>\n",
       "      <td>1</td>\n",
       "      <td>0</td>\n",
       "      <td>2018-11-10</td>\n",
       "    </tr>\n",
       "    <tr>\n",
       "      <th>1</th>\n",
       "      <td>3</td>\n",
       "      <td>It's an allegory in search of a meaning that n...</td>\n",
       "      <td>0</td>\n",
       "      <td>0</td>\n",
       "      <td>2018-05-23</td>\n",
       "    </tr>\n",
       "    <tr>\n",
       "      <th>2</th>\n",
       "      <td>3</td>\n",
       "      <td>... life lived in a bubble in financial dealin...</td>\n",
       "      <td>1</td>\n",
       "      <td>0</td>\n",
       "      <td>2018-01-04</td>\n",
       "    </tr>\n",
       "    <tr>\n",
       "      <th>3</th>\n",
       "      <td>3</td>\n",
       "      <td>Continuing along a line introduced in last yea...</td>\n",
       "      <td>1</td>\n",
       "      <td>0</td>\n",
       "      <td>2017-11-16</td>\n",
       "    </tr>\n",
       "    <tr>\n",
       "      <th>4</th>\n",
       "      <td>3</td>\n",
       "      <td>... a perverse twist on neorealism...</td>\n",
       "      <td>1</td>\n",
       "      <td>0</td>\n",
       "      <td>2017-10-12</td>\n",
       "    </tr>\n",
       "  </tbody>\n",
       "</table>\n",
       "</div>"
      ],
      "text/plain": [
       "   id                                             review  fresh  top_critic  \\\n",
       "0   3  A distinctly gallows take on contemporary fina...      1           0   \n",
       "1   3  It's an allegory in search of a meaning that n...      0           0   \n",
       "2   3  ... life lived in a bubble in financial dealin...      1           0   \n",
       "3   3  Continuing along a line introduced in last yea...      1           0   \n",
       "4   3             ... a perverse twist on neorealism...       1           0   \n",
       "\n",
       "        date  \n",
       "0 2018-11-10  \n",
       "1 2018-05-23  \n",
       "2 2018-01-04  \n",
       "3 2017-11-16  \n",
       "4 2017-10-12  "
      ]
     },
     "execution_count": 9,
     "metadata": {},
     "output_type": "execute_result"
    }
   ],
   "source": [
    "clean_reviews.head()"
   ]
  },
  {
   "cell_type": "code",
   "execution_count": 10,
   "metadata": {},
   "outputs": [
    {
     "name": "stdout",
     "output_type": "stream",
     "text": [
      "id: 0.00 % null\n",
      "review: 0.00 % null\n",
      "fresh: 0.00 % null\n",
      "top_critic: 0.00 % null\n",
      "date: 0.00 % null\n"
     ]
    }
   ],
   "source": [
    "dp.display_percent_nan(clean_reviews)"
   ]
  },
  {
   "cell_type": "markdown",
   "metadata": {},
   "source": [
    "The Rotten Tomatoes movie information file (rt.movie_info.tsv) was cleaned by dropping columns other than the synopsis, movie title, and genres columns. The genres feature for the most part contained two or more genres per movie, which necessitated them being split into a sequential datatype (tuple in this case) and then 'exploded' into long format. Parameters also allow for NaN rows to be dropped in a given subset."
   ]
  },
  {
   "cell_type": "code",
   "execution_count": 11,
   "metadata": {},
   "outputs": [
    {
     "name": "stdout",
     "output_type": "stream",
     "text": [
      "<class 'pandas.core.frame.DataFrame'>\n",
      "RangeIndex: 1560 entries, 0 to 1559\n",
      "Data columns (total 7 columns):\n",
      " #   Column        Non-Null Count  Dtype         \n",
      "---  ------        --------------  -----         \n",
      " 0   id            1560 non-null   int64         \n",
      " 1   synopsis      1498 non-null   object        \n",
      " 2   rating        1557 non-null   object        \n",
      " 3   genre         1560 non-null   object        \n",
      " 4   theater_date  1201 non-null   datetime64[ns]\n",
      " 5   dvd_date      1201 non-null   datetime64[ns]\n",
      " 6   runtime       1530 non-null   float64       \n",
      "dtypes: datetime64[ns](2), float64(1), int64(1), object(3)\n",
      "memory usage: 85.4+ KB\n"
     ]
    }
   ],
   "source": [
    "clean_movie_info = dp.clean_rt_movie_info()\n",
    "clean_movie_info.info()"
   ]
  },
  {
   "cell_type": "code",
   "execution_count": 12,
   "metadata": {},
   "outputs": [
    {
     "data": {
      "text/html": [
       "<div>\n",
       "<style scoped>\n",
       "    .dataframe tbody tr th:only-of-type {\n",
       "        vertical-align: middle;\n",
       "    }\n",
       "\n",
       "    .dataframe tbody tr th {\n",
       "        vertical-align: top;\n",
       "    }\n",
       "\n",
       "    .dataframe thead th {\n",
       "        text-align: right;\n",
       "    }\n",
       "</style>\n",
       "<table border=\"1\" class=\"dataframe\">\n",
       "  <thead>\n",
       "    <tr style=\"text-align: right;\">\n",
       "      <th></th>\n",
       "      <th>id</th>\n",
       "      <th>synopsis</th>\n",
       "      <th>rating</th>\n",
       "      <th>genre</th>\n",
       "      <th>theater_date</th>\n",
       "      <th>dvd_date</th>\n",
       "      <th>runtime</th>\n",
       "    </tr>\n",
       "  </thead>\n",
       "  <tbody>\n",
       "    <tr>\n",
       "      <th>0</th>\n",
       "      <td>1</td>\n",
       "      <td>This gritty, fast-paced, and innovative police...</td>\n",
       "      <td>R</td>\n",
       "      <td>(Action and Adventure, Classics, Drama)</td>\n",
       "      <td>1971-10-09</td>\n",
       "      <td>2001-09-25</td>\n",
       "      <td>104.0</td>\n",
       "    </tr>\n",
       "    <tr>\n",
       "      <th>1</th>\n",
       "      <td>3</td>\n",
       "      <td>New York City, not-too-distant-future: Eric Pa...</td>\n",
       "      <td>R</td>\n",
       "      <td>(Drama, Science Fiction and Fantasy)</td>\n",
       "      <td>2012-08-17</td>\n",
       "      <td>2013-01-01</td>\n",
       "      <td>108.0</td>\n",
       "    </tr>\n",
       "    <tr>\n",
       "      <th>2</th>\n",
       "      <td>5</td>\n",
       "      <td>Illeana Douglas delivers a superb performance ...</td>\n",
       "      <td>R</td>\n",
       "      <td>(Drama, Musical and Performing Arts)</td>\n",
       "      <td>1996-09-13</td>\n",
       "      <td>2000-04-18</td>\n",
       "      <td>116.0</td>\n",
       "    </tr>\n",
       "    <tr>\n",
       "      <th>3</th>\n",
       "      <td>6</td>\n",
       "      <td>Michael Douglas runs afoul of a treacherous su...</td>\n",
       "      <td>R</td>\n",
       "      <td>(Drama, Mystery and Suspense)</td>\n",
       "      <td>1994-12-09</td>\n",
       "      <td>1997-08-27</td>\n",
       "      <td>128.0</td>\n",
       "    </tr>\n",
       "    <tr>\n",
       "      <th>4</th>\n",
       "      <td>7</td>\n",
       "      <td>NaN</td>\n",
       "      <td>NR</td>\n",
       "      <td>(Drama, Romance)</td>\n",
       "      <td>NaT</td>\n",
       "      <td>NaT</td>\n",
       "      <td>200.0</td>\n",
       "    </tr>\n",
       "  </tbody>\n",
       "</table>\n",
       "</div>"
      ],
      "text/plain": [
       "   id                                           synopsis rating  \\\n",
       "0   1  This gritty, fast-paced, and innovative police...      R   \n",
       "1   3  New York City, not-too-distant-future: Eric Pa...      R   \n",
       "2   5  Illeana Douglas delivers a superb performance ...      R   \n",
       "3   6  Michael Douglas runs afoul of a treacherous su...      R   \n",
       "4   7                                                NaN     NR   \n",
       "\n",
       "                                     genre theater_date   dvd_date  runtime  \n",
       "0  (Action and Adventure, Classics, Drama)   1971-10-09 2001-09-25    104.0  \n",
       "1     (Drama, Science Fiction and Fantasy)   2012-08-17 2013-01-01    108.0  \n",
       "2     (Drama, Musical and Performing Arts)   1996-09-13 2000-04-18    116.0  \n",
       "3            (Drama, Mystery and Suspense)   1994-12-09 1997-08-27    128.0  \n",
       "4                         (Drama, Romance)          NaT        NaT    200.0  "
      ]
     },
     "execution_count": 12,
     "metadata": {},
     "output_type": "execute_result"
    }
   ],
   "source": [
    "clean_movie_info.head()"
   ]
  },
  {
   "cell_type": "markdown",
   "metadata": {},
   "source": [
    "These two sets were merged with the following function which can output either the full dataframe, or subsets specific to genre and rating popularity to be used in modelling."
   ]
  },
  {
   "cell_type": "code",
   "execution_count": 13,
   "metadata": {},
   "outputs": [],
   "source": [
    "rt_genre_popularity = dp.merge_rt_data(focus='genre_popularity')\n",
    "rt_rating_popularity = dp.merge_rt_data(focus='rating_popularity')"
   ]
  },
  {
   "cell_type": "code",
   "execution_count": 14,
   "metadata": {},
   "outputs": [
    {
     "data": {
      "text/html": [
       "<div>\n",
       "<style scoped>\n",
       "    .dataframe tbody tr th:only-of-type {\n",
       "        vertical-align: middle;\n",
       "    }\n",
       "\n",
       "    .dataframe tbody tr th {\n",
       "        vertical-align: top;\n",
       "    }\n",
       "\n",
       "    .dataframe thead th {\n",
       "        text-align: right;\n",
       "    }\n",
       "</style>\n",
       "<table border=\"1\" class=\"dataframe\">\n",
       "  <thead>\n",
       "    <tr style=\"text-align: right;\">\n",
       "      <th></th>\n",
       "      <th>total_references</th>\n",
       "      <th>total_positive</th>\n",
       "      <th>percent_positive</th>\n",
       "    </tr>\n",
       "    <tr>\n",
       "      <th>genre</th>\n",
       "      <th></th>\n",
       "      <th></th>\n",
       "      <th></th>\n",
       "    </tr>\n",
       "  </thead>\n",
       "  <tbody>\n",
       "    <tr>\n",
       "      <th>Drama</th>\n",
       "      <td>33595</td>\n",
       "      <td>21942</td>\n",
       "      <td>0.653133</td>\n",
       "    </tr>\n",
       "    <tr>\n",
       "      <th>Comedy</th>\n",
       "      <td>21798</td>\n",
       "      <td>12878</td>\n",
       "      <td>0.590788</td>\n",
       "    </tr>\n",
       "    <tr>\n",
       "      <th>Action and Adventure</th>\n",
       "      <td>12908</td>\n",
       "      <td>7334</td>\n",
       "      <td>0.568175</td>\n",
       "    </tr>\n",
       "    <tr>\n",
       "      <th>Mystery and Suspense</th>\n",
       "      <td>11742</td>\n",
       "      <td>6874</td>\n",
       "      <td>0.585420</td>\n",
       "    </tr>\n",
       "    <tr>\n",
       "      <th>Romance</th>\n",
       "      <td>8088</td>\n",
       "      <td>5168</td>\n",
       "      <td>0.638971</td>\n",
       "    </tr>\n",
       "    <tr>\n",
       "      <th>Science Fiction and Fantasy</th>\n",
       "      <td>7363</td>\n",
       "      <td>4030</td>\n",
       "      <td>0.547331</td>\n",
       "    </tr>\n",
       "    <tr>\n",
       "      <th>Art House and International</th>\n",
       "      <td>4519</td>\n",
       "      <td>3427</td>\n",
       "      <td>0.758354</td>\n",
       "    </tr>\n",
       "    <tr>\n",
       "      <th>Kids and Family</th>\n",
       "      <td>4609</td>\n",
       "      <td>2864</td>\n",
       "      <td>0.621393</td>\n",
       "    </tr>\n",
       "    <tr>\n",
       "      <th>Horror</th>\n",
       "      <td>4283</td>\n",
       "      <td>1994</td>\n",
       "      <td>0.465562</td>\n",
       "    </tr>\n",
       "    <tr>\n",
       "      <th>Animation</th>\n",
       "      <td>2663</td>\n",
       "      <td>1796</td>\n",
       "      <td>0.674427</td>\n",
       "    </tr>\n",
       "    <tr>\n",
       "      <th>Classics</th>\n",
       "      <td>2121</td>\n",
       "      <td>1637</td>\n",
       "      <td>0.771806</td>\n",
       "    </tr>\n",
       "    <tr>\n",
       "      <th>Musical and Performing Arts</th>\n",
       "      <td>2135</td>\n",
       "      <td>1335</td>\n",
       "      <td>0.625293</td>\n",
       "    </tr>\n",
       "    <tr>\n",
       "      <th>Documentary</th>\n",
       "      <td>1116</td>\n",
       "      <td>864</td>\n",
       "      <td>0.774194</td>\n",
       "    </tr>\n",
       "    <tr>\n",
       "      <th>Western</th>\n",
       "      <td>1252</td>\n",
       "      <td>710</td>\n",
       "      <td>0.567093</td>\n",
       "    </tr>\n",
       "    <tr>\n",
       "      <th>Special Interest</th>\n",
       "      <td>853</td>\n",
       "      <td>588</td>\n",
       "      <td>0.689332</td>\n",
       "    </tr>\n",
       "    <tr>\n",
       "      <th>Sports and Fitness</th>\n",
       "      <td>407</td>\n",
       "      <td>295</td>\n",
       "      <td>0.724816</td>\n",
       "    </tr>\n",
       "    <tr>\n",
       "      <th>Faith and Spirituality</th>\n",
       "      <td>191</td>\n",
       "      <td>105</td>\n",
       "      <td>0.549738</td>\n",
       "    </tr>\n",
       "    <tr>\n",
       "      <th>Not listed</th>\n",
       "      <td>87</td>\n",
       "      <td>66</td>\n",
       "      <td>0.758621</td>\n",
       "    </tr>\n",
       "    <tr>\n",
       "      <th>Television</th>\n",
       "      <td>195</td>\n",
       "      <td>65</td>\n",
       "      <td>0.333333</td>\n",
       "    </tr>\n",
       "    <tr>\n",
       "      <th>Cult Movies</th>\n",
       "      <td>54</td>\n",
       "      <td>46</td>\n",
       "      <td>0.851852</td>\n",
       "    </tr>\n",
       "    <tr>\n",
       "      <th>Gay and Lesbian</th>\n",
       "      <td>42</td>\n",
       "      <td>36</td>\n",
       "      <td>0.857143</td>\n",
       "    </tr>\n",
       "    <tr>\n",
       "      <th>Anime and Manga</th>\n",
       "      <td>33</td>\n",
       "      <td>20</td>\n",
       "      <td>0.606061</td>\n",
       "    </tr>\n",
       "  </tbody>\n",
       "</table>\n",
       "</div>"
      ],
      "text/plain": [
       "                             total_references  total_positive  \\\n",
       "genre                                                           \n",
       "Drama                                   33595           21942   \n",
       "Comedy                                  21798           12878   \n",
       "Action and Adventure                    12908            7334   \n",
       "Mystery and Suspense                    11742            6874   \n",
       "Romance                                  8088            5168   \n",
       "Science Fiction and Fantasy              7363            4030   \n",
       "Art House and International              4519            3427   \n",
       "Kids and Family                          4609            2864   \n",
       "Horror                                   4283            1994   \n",
       "Animation                                2663            1796   \n",
       "Classics                                 2121            1637   \n",
       "Musical and Performing Arts              2135            1335   \n",
       "Documentary                              1116             864   \n",
       "Western                                  1252             710   \n",
       "Special Interest                          853             588   \n",
       "Sports and Fitness                        407             295   \n",
       "Faith and Spirituality                    191             105   \n",
       "Not listed                                 87              66   \n",
       "Television                                195              65   \n",
       "Cult Movies                                54              46   \n",
       "Gay and Lesbian                            42              36   \n",
       "Anime and Manga                            33              20   \n",
       "\n",
       "                             percent_positive  \n",
       "genre                                          \n",
       "Drama                                0.653133  \n",
       "Comedy                               0.590788  \n",
       "Action and Adventure                 0.568175  \n",
       "Mystery and Suspense                 0.585420  \n",
       "Romance                              0.638971  \n",
       "Science Fiction and Fantasy          0.547331  \n",
       "Art House and International          0.758354  \n",
       "Kids and Family                      0.621393  \n",
       "Horror                               0.465562  \n",
       "Animation                            0.674427  \n",
       "Classics                             0.771806  \n",
       "Musical and Performing Arts          0.625293  \n",
       "Documentary                          0.774194  \n",
       "Western                              0.567093  \n",
       "Special Interest                     0.689332  \n",
       "Sports and Fitness                   0.724816  \n",
       "Faith and Spirituality               0.549738  \n",
       "Not listed                           0.758621  \n",
       "Television                           0.333333  \n",
       "Cult Movies                          0.851852  \n",
       "Gay and Lesbian                      0.857143  \n",
       "Anime and Manga                      0.606061  "
      ]
     },
     "metadata": {},
     "output_type": "display_data"
    },
    {
     "data": {
      "text/html": [
       "<div>\n",
       "<style scoped>\n",
       "    .dataframe tbody tr th:only-of-type {\n",
       "        vertical-align: middle;\n",
       "    }\n",
       "\n",
       "    .dataframe tbody tr th {\n",
       "        vertical-align: top;\n",
       "    }\n",
       "\n",
       "    .dataframe thead th {\n",
       "        text-align: right;\n",
       "    }\n",
       "</style>\n",
       "<table border=\"1\" class=\"dataframe\">\n",
       "  <thead>\n",
       "    <tr style=\"text-align: right;\">\n",
       "      <th></th>\n",
       "      <th>total_references</th>\n",
       "      <th>total_positive</th>\n",
       "      <th>percent_positive</th>\n",
       "    </tr>\n",
       "    <tr>\n",
       "      <th>rating</th>\n",
       "      <th></th>\n",
       "      <th></th>\n",
       "      <th></th>\n",
       "    </tr>\n",
       "  </thead>\n",
       "  <tbody>\n",
       "    <tr>\n",
       "      <th>R</th>\n",
       "      <td>24367</td>\n",
       "      <td>15559</td>\n",
       "      <td>0.638528</td>\n",
       "    </tr>\n",
       "    <tr>\n",
       "      <th>PG-13</th>\n",
       "      <td>18003</td>\n",
       "      <td>9302</td>\n",
       "      <td>0.516692</td>\n",
       "    </tr>\n",
       "    <tr>\n",
       "      <th>PG</th>\n",
       "      <td>8246</td>\n",
       "      <td>5286</td>\n",
       "      <td>0.641038</td>\n",
       "    </tr>\n",
       "    <tr>\n",
       "      <th>NR</th>\n",
       "      <td>2650</td>\n",
       "      <td>2045</td>\n",
       "      <td>0.771698</td>\n",
       "    </tr>\n",
       "    <tr>\n",
       "      <th>G</th>\n",
       "      <td>1071</td>\n",
       "      <td>774</td>\n",
       "      <td>0.722689</td>\n",
       "    </tr>\n",
       "  </tbody>\n",
       "</table>\n",
       "</div>"
      ],
      "text/plain": [
       "        total_references  total_positive  percent_positive\n",
       "rating                                                    \n",
       "R                  24367           15559          0.638528\n",
       "PG-13              18003            9302          0.516692\n",
       "PG                  8246            5286          0.641038\n",
       "NR                  2650            2045          0.771698\n",
       "G                   1071             774          0.722689"
      ]
     },
     "metadata": {},
     "output_type": "display_data"
    }
   ],
   "source": [
    "display(rt_genre_popularity, rt_rating_popularity)"
   ]
  },
  {
   "cell_type": "markdown",
   "metadata": {},
   "source": [
    "### IMDB x Box Office Mojo\n",
    "***"
   ]
  },
  {
   "cell_type": "markdown",
   "metadata": {},
   "source": [
    "Data on average total gross in USD (also scaled by 10 ^ -5 for plotting purposes) was prepared in a similar manner, keeping only data pertinent to the comparison between genre and gross profits"
   ]
  },
  {
   "cell_type": "code",
   "execution_count": 15,
   "metadata": {},
   "outputs": [
    {
     "name": "stdout",
     "output_type": "stream",
     "text": [
      "<class 'pandas.core.frame.DataFrame'>\n",
      "RangeIndex: 22 entries, 0 to 21\n",
      "Data columns (total 9 columns):\n",
      " #   Column                Non-Null Count  Dtype  \n",
      "---  ------                --------------  -----  \n",
      " 0   genres                22 non-null     object \n",
      " 1   numvotes              22 non-null     int64  \n",
      " 2   avgrating_x_numvotes  22 non-null     float64\n",
      " 3   avgnumvotes           22 non-null     float64\n",
      " 4   domestic_gross        22 non-null     float64\n",
      " 5   foreign_gross         22 non-null     float64\n",
      " 6   total_gross           22 non-null     float64\n",
      " 7   wavg_rating           22 non-null     float64\n",
      " 8   total_gross_scaled    22 non-null     float64\n",
      "dtypes: float64(7), int64(1), object(1)\n",
      "memory usage: 1.7+ KB\n"
     ]
    }
   ],
   "source": [
    "genre_to_gross = dp.merge_bom_and_imdb()\n",
    "genre_to_gross.info()"
   ]
  },
  {
   "cell_type": "code",
   "execution_count": 16,
   "metadata": {},
   "outputs": [
    {
     "data": {
      "text/html": [
       "<div>\n",
       "<style scoped>\n",
       "    .dataframe tbody tr th:only-of-type {\n",
       "        vertical-align: middle;\n",
       "    }\n",
       "\n",
       "    .dataframe tbody tr th {\n",
       "        vertical-align: top;\n",
       "    }\n",
       "\n",
       "    .dataframe thead th {\n",
       "        text-align: right;\n",
       "    }\n",
       "</style>\n",
       "<table border=\"1\" class=\"dataframe\">\n",
       "  <thead>\n",
       "    <tr style=\"text-align: right;\">\n",
       "      <th></th>\n",
       "      <th>genres</th>\n",
       "      <th>numvotes</th>\n",
       "      <th>avgrating_x_numvotes</th>\n",
       "      <th>avgnumvotes</th>\n",
       "      <th>domestic_gross</th>\n",
       "      <th>foreign_gross</th>\n",
       "      <th>total_gross</th>\n",
       "      <th>wavg_rating</th>\n",
       "      <th>total_gross_scaled</th>\n",
       "    </tr>\n",
       "  </thead>\n",
       "  <tbody>\n",
       "    <tr>\n",
       "      <th>0</th>\n",
       "      <td>Action</td>\n",
       "      <td>81790610</td>\n",
       "      <td>5.694757e+08</td>\n",
       "      <td>118709.158200</td>\n",
       "      <td>5.792947e+07</td>\n",
       "      <td>1.033121e+08</td>\n",
       "      <td>1.612416e+08</td>\n",
       "      <td>6.962605</td>\n",
       "      <td>1612.416216</td>\n",
       "    </tr>\n",
       "    <tr>\n",
       "      <th>1</th>\n",
       "      <td>Adventure</td>\n",
       "      <td>73215941</td>\n",
       "      <td>5.202564e+08</td>\n",
       "      <td>155447.857749</td>\n",
       "      <td>9.463536e+07</td>\n",
       "      <td>1.770885e+08</td>\n",
       "      <td>2.717239e+08</td>\n",
       "      <td>7.105780</td>\n",
       "      <td>2717.238923</td>\n",
       "    </tr>\n",
       "    <tr>\n",
       "      <th>2</th>\n",
       "      <td>Animation</td>\n",
       "      <td>13846247</td>\n",
       "      <td>1.014769e+08</td>\n",
       "      <td>82911.658683</td>\n",
       "      <td>8.487271e+07</td>\n",
       "      <td>1.568181e+08</td>\n",
       "      <td>2.416908e+08</td>\n",
       "      <td>7.328838</td>\n",
       "      <td>2416.907790</td>\n",
       "    </tr>\n",
       "    <tr>\n",
       "      <th>3</th>\n",
       "      <td>Biography</td>\n",
       "      <td>17243016</td>\n",
       "      <td>1.297994e+08</td>\n",
       "      <td>56720.447368</td>\n",
       "      <td>1.980125e+07</td>\n",
       "      <td>2.410923e+07</td>\n",
       "      <td>4.391048e+07</td>\n",
       "      <td>7.527648</td>\n",
       "      <td>439.104786</td>\n",
       "    </tr>\n",
       "    <tr>\n",
       "      <th>4</th>\n",
       "      <td>Comedy</td>\n",
       "      <td>57000544</td>\n",
       "      <td>3.898799e+08</td>\n",
       "      <td>57286.978894</td>\n",
       "      <td>3.338478e+07</td>\n",
       "      <td>4.746262e+07</td>\n",
       "      <td>8.084740e+07</td>\n",
       "      <td>6.839933</td>\n",
       "      <td>808.474008</td>\n",
       "    </tr>\n",
       "  </tbody>\n",
       "</table>\n",
       "</div>"
      ],
      "text/plain": [
       "      genres  numvotes  avgrating_x_numvotes    avgnumvotes  domestic_gross  \\\n",
       "0     Action  81790610          5.694757e+08  118709.158200    5.792947e+07   \n",
       "1  Adventure  73215941          5.202564e+08  155447.857749    9.463536e+07   \n",
       "2  Animation  13846247          1.014769e+08   82911.658683    8.487271e+07   \n",
       "3  Biography  17243016          1.297994e+08   56720.447368    1.980125e+07   \n",
       "4     Comedy  57000544          3.898799e+08   57286.978894    3.338478e+07   \n",
       "\n",
       "   foreign_gross   total_gross  wavg_rating  total_gross_scaled  \n",
       "0   1.033121e+08  1.612416e+08     6.962605         1612.416216  \n",
       "1   1.770885e+08  2.717239e+08     7.105780         2717.238923  \n",
       "2   1.568181e+08  2.416908e+08     7.328838         2416.907790  \n",
       "3   2.410923e+07  4.391048e+07     7.527648          439.104786  \n",
       "4   4.746262e+07  8.084740e+07     6.839933          808.474008  "
      ]
     },
     "execution_count": 16,
     "metadata": {},
     "output_type": "execute_result"
    }
   ],
   "source": [
    "genre_to_gross.head()"
   ]
  },
  {
   "cell_type": "markdown",
   "metadata": {},
   "source": [
    "### IMDB Titles x Rating\n",
    "\n",
    "***"
   ]
  },
  {
   "cell_type": "markdown",
   "metadata": {},
   "source": [
    "Similarly, the IMDB titles and ratings files were merged to garner information about overall genre popularity among viewers and critics"
   ]
  },
  {
   "cell_type": "code",
   "execution_count": 17,
   "metadata": {},
   "outputs": [
    {
     "name": "stdout",
     "output_type": "stream",
     "text": [
      "<class 'pandas.core.frame.DataFrame'>\n",
      "Int64Index: 25 entries, 7 to 20\n",
      "Data columns (total 5 columns):\n",
      " #   Column                Non-Null Count  Dtype  \n",
      "---  ------                --------------  -----  \n",
      " 0   genres                25 non-null     object \n",
      " 1   numvotes              25 non-null     int64  \n",
      " 2   avgrating_x_numvotes  25 non-null     float64\n",
      " 3   avgnumvotes           25 non-null     float64\n",
      " 4   wavg_rating           25 non-null     float64\n",
      "dtypes: float64(3), int64(1), object(1)\n",
      "memory usage: 1.2+ KB\n"
     ]
    }
   ],
   "source": [
    "imdb_titles_to_ratings = dp.merge_imdb_title_and_ratings()\n",
    "imdb_titles_to_ratings.info()"
   ]
  },
  {
   "cell_type": "code",
   "execution_count": 18,
   "metadata": {},
   "outputs": [
    {
     "data": {
      "text/html": [
       "<div>\n",
       "<style scoped>\n",
       "    .dataframe tbody tr th:only-of-type {\n",
       "        vertical-align: middle;\n",
       "    }\n",
       "\n",
       "    .dataframe tbody tr th {\n",
       "        vertical-align: top;\n",
       "    }\n",
       "\n",
       "    .dataframe thead th {\n",
       "        text-align: right;\n",
       "    }\n",
       "</style>\n",
       "<table border=\"1\" class=\"dataframe\">\n",
       "  <thead>\n",
       "    <tr style=\"text-align: right;\">\n",
       "      <th></th>\n",
       "      <th>genres</th>\n",
       "      <th>numvotes</th>\n",
       "      <th>avgrating_x_numvotes</th>\n",
       "      <th>avgnumvotes</th>\n",
       "      <th>wavg_rating</th>\n",
       "    </tr>\n",
       "  </thead>\n",
       "  <tbody>\n",
       "    <tr>\n",
       "      <th>7</th>\n",
       "      <td>Drama</td>\n",
       "      <td>119567500</td>\n",
       "      <td>8.448954e+08</td>\n",
       "      <td>3883.574769</td>\n",
       "      <td>7.066263</td>\n",
       "    </tr>\n",
       "    <tr>\n",
       "      <th>0</th>\n",
       "      <td>Action</td>\n",
       "      <td>101161682</td>\n",
       "      <td>6.967373e+08</td>\n",
       "      <td>14476.485690</td>\n",
       "      <td>6.887363</td>\n",
       "    </tr>\n",
       "    <tr>\n",
       "      <th>1</th>\n",
       "      <td>Adventure</td>\n",
       "      <td>84232589</td>\n",
       "      <td>5.942541e+08</td>\n",
       "      <td>22067.746660</td>\n",
       "      <td>7.054920</td>\n",
       "    </tr>\n",
       "    <tr>\n",
       "      <th>4</th>\n",
       "      <td>Comedy</td>\n",
       "      <td>74305805</td>\n",
       "      <td>4.995697e+08</td>\n",
       "      <td>4297.617409</td>\n",
       "      <td>6.723158</td>\n",
       "    </tr>\n",
       "    <tr>\n",
       "      <th>22</th>\n",
       "      <td>Thriller</td>\n",
       "      <td>48155313</td>\n",
       "      <td>3.255162e+08</td>\n",
       "      <td>5860.449434</td>\n",
       "      <td>6.759716</td>\n",
       "    </tr>\n",
       "  </tbody>\n",
       "</table>\n",
       "</div>"
      ],
      "text/plain": [
       "       genres   numvotes  avgrating_x_numvotes   avgnumvotes  wavg_rating\n",
       "7       Drama  119567500          8.448954e+08   3883.574769     7.066263\n",
       "0      Action  101161682          6.967373e+08  14476.485690     6.887363\n",
       "1   Adventure   84232589          5.942541e+08  22067.746660     7.054920\n",
       "4      Comedy   74305805          4.995697e+08   4297.617409     6.723158\n",
       "22   Thriller   48155313          3.255162e+08   5860.449434     6.759716"
      ]
     },
     "execution_count": 18,
     "metadata": {},
     "output_type": "execute_result"
    }
   ],
   "source": [
    "imdb_titles_to_ratings.head()"
   ]
  },
  {
   "cell_type": "markdown",
   "metadata": {},
   "source": [
    "### IMDB Cast and Producers\n",
    "\n",
    "***"
   ]
  },
  {
   "cell_type": "markdown",
   "metadata": {},
   "source": [
    "Here, the four IMDB datasets regarding cast and crew/producers (imdb.name.basics, imdb.title.crew, imdb.title.principals, imdb.title.ratings) were joined and aggregated to provide recommendations for selecting individuals to hire for a movie's production. These were grouped by genre and the function will output selected subsets according to arguments passed to 'select_genre' and 'select_role' parameters."
   ]
  },
  {
   "cell_type": "code",
   "execution_count": 19,
   "metadata": {},
   "outputs": [
    {
     "name": "stdout",
     "output_type": "stream",
     "text": [
      "<class 'pandas.core.frame.DataFrame'>\n",
      "Int64Index: 118 entries, 79674 to 23998\n",
      "Data columns (total 18 columns):\n",
      " #   Column              Non-Null Count  Dtype  \n",
      "---  ------              --------------  -----  \n",
      " 0   tconst              118 non-null    object \n",
      " 1   primary_title       118 non-null    object \n",
      " 2   original_title      118 non-null    object \n",
      " 3   start_year          118 non-null    int64  \n",
      " 4   runtime_minutes     118 non-null    float64\n",
      " 5   genres              118 non-null    object \n",
      " 6   averagerating       118 non-null    float64\n",
      " 7   numvotes            118 non-null    int64  \n",
      " 8   ordering            118 non-null    int64  \n",
      " 9   nconst              118 non-null    object \n",
      " 10  category            118 non-null    object \n",
      " 11  job                 0 non-null      object \n",
      " 12  characters          0 non-null      object \n",
      " 13  primary_name        118 non-null    object \n",
      " 14  birth_year          100 non-null    float64\n",
      " 15  death_year          0 non-null      float64\n",
      " 16  primary_profession  118 non-null    object \n",
      " 17  known_for_titles    118 non-null    object \n",
      "dtypes: float64(4), int64(3), object(11)\n",
      "memory usage: 17.5+ KB\n"
     ]
    }
   ],
   "source": [
    "top_action_directors = dp.merge_imdb_top_crew(select_genre='Action', select_role='director')\n",
    "top_action_directors.info()"
   ]
  },
  {
   "cell_type": "code",
   "execution_count": 20,
   "metadata": {},
   "outputs": [
    {
     "data": {
      "text/html": [
       "<div>\n",
       "<style scoped>\n",
       "    .dataframe tbody tr th:only-of-type {\n",
       "        vertical-align: middle;\n",
       "    }\n",
       "\n",
       "    .dataframe tbody tr th {\n",
       "        vertical-align: top;\n",
       "    }\n",
       "\n",
       "    .dataframe thead th {\n",
       "        text-align: right;\n",
       "    }\n",
       "</style>\n",
       "<table border=\"1\" class=\"dataframe\">\n",
       "  <thead>\n",
       "    <tr style=\"text-align: right;\">\n",
       "      <th></th>\n",
       "      <th>primary_name</th>\n",
       "      <th>category</th>\n",
       "      <th>primary_title</th>\n",
       "      <th>start_year</th>\n",
       "      <th>genres</th>\n",
       "      <th>averagerating</th>\n",
       "      <th>numvotes</th>\n",
       "    </tr>\n",
       "  </thead>\n",
       "  <tbody>\n",
       "    <tr>\n",
       "      <th>79674</th>\n",
       "      <td>Alper Caglar</td>\n",
       "      <td>director</td>\n",
       "      <td>The Mountain II</td>\n",
       "      <td>2016</td>\n",
       "      <td>Action</td>\n",
       "      <td>9.3</td>\n",
       "      <td>100568</td>\n",
       "    </tr>\n",
       "    <tr>\n",
       "      <th>50095</th>\n",
       "      <td>Anthony Russo</td>\n",
       "      <td>director</td>\n",
       "      <td>Avengers: Endgame</td>\n",
       "      <td>2019</td>\n",
       "      <td>Action</td>\n",
       "      <td>8.8</td>\n",
       "      <td>441135</td>\n",
       "    </tr>\n",
       "    <tr>\n",
       "      <th>50107</th>\n",
       "      <td>Joe Russo</td>\n",
       "      <td>director</td>\n",
       "      <td>Avengers: Endgame</td>\n",
       "      <td>2019</td>\n",
       "      <td>Action</td>\n",
       "      <td>8.8</td>\n",
       "      <td>441135</td>\n",
       "    </tr>\n",
       "    <tr>\n",
       "      <th>50092</th>\n",
       "      <td>Anthony Russo</td>\n",
       "      <td>director</td>\n",
       "      <td>Avengers: Infinity War</td>\n",
       "      <td>2018</td>\n",
       "      <td>Action</td>\n",
       "      <td>8.5</td>\n",
       "      <td>670926</td>\n",
       "    </tr>\n",
       "    <tr>\n",
       "      <th>50104</th>\n",
       "      <td>Joe Russo</td>\n",
       "      <td>director</td>\n",
       "      <td>Avengers: Infinity War</td>\n",
       "      <td>2018</td>\n",
       "      <td>Action</td>\n",
       "      <td>8.5</td>\n",
       "      <td>670926</td>\n",
       "    </tr>\n",
       "    <tr>\n",
       "      <th>...</th>\n",
       "      <td>...</td>\n",
       "      <td>...</td>\n",
       "      <td>...</td>\n",
       "      <td>...</td>\n",
       "      <td>...</td>\n",
       "      <td>...</td>\n",
       "      <td>...</td>\n",
       "    </tr>\n",
       "    <tr>\n",
       "      <th>18231</th>\n",
       "      <td>Lilly Wachowski</td>\n",
       "      <td>director</td>\n",
       "      <td>Jupiter Ascending</td>\n",
       "      <td>2015</td>\n",
       "      <td>Action</td>\n",
       "      <td>5.3</td>\n",
       "      <td>166327</td>\n",
       "    </tr>\n",
       "    <tr>\n",
       "      <th>15431</th>\n",
       "      <td>Paul Feig</td>\n",
       "      <td>director</td>\n",
       "      <td>Ghostbusters</td>\n",
       "      <td>2016</td>\n",
       "      <td>Action</td>\n",
       "      <td>5.2</td>\n",
       "      <td>186788</td>\n",
       "    </tr>\n",
       "    <tr>\n",
       "      <th>32445</th>\n",
       "      <td>Roland Emmerich</td>\n",
       "      <td>director</td>\n",
       "      <td>Independence Day: Resurgence</td>\n",
       "      <td>2016</td>\n",
       "      <td>Action</td>\n",
       "      <td>5.2</td>\n",
       "      <td>155344</td>\n",
       "    </tr>\n",
       "    <tr>\n",
       "      <th>19455</th>\n",
       "      <td>Michael Bay</td>\n",
       "      <td>director</td>\n",
       "      <td>Transformers: The Last Knight</td>\n",
       "      <td>2017</td>\n",
       "      <td>Action</td>\n",
       "      <td>5.2</td>\n",
       "      <td>119007</td>\n",
       "    </tr>\n",
       "    <tr>\n",
       "      <th>23998</th>\n",
       "      <td>Josh Trank</td>\n",
       "      <td>director</td>\n",
       "      <td>Fantastic Four</td>\n",
       "      <td>2015</td>\n",
       "      <td>Action</td>\n",
       "      <td>4.3</td>\n",
       "      <td>140148</td>\n",
       "    </tr>\n",
       "  </tbody>\n",
       "</table>\n",
       "<p>118 rows × 7 columns</p>\n",
       "</div>"
      ],
      "text/plain": [
       "          primary_name  category                  primary_title  start_year  \\\n",
       "79674     Alper Caglar  director                The Mountain II        2016   \n",
       "50095    Anthony Russo  director              Avengers: Endgame        2019   \n",
       "50107        Joe Russo  director              Avengers: Endgame        2019   \n",
       "50092    Anthony Russo  director         Avengers: Infinity War        2018   \n",
       "50104        Joe Russo  director         Avengers: Infinity War        2018   \n",
       "...                ...       ...                            ...         ...   \n",
       "18231  Lilly Wachowski  director              Jupiter Ascending        2015   \n",
       "15431        Paul Feig  director                   Ghostbusters        2016   \n",
       "32445  Roland Emmerich  director   Independence Day: Resurgence        2016   \n",
       "19455      Michael Bay  director  Transformers: The Last Knight        2017   \n",
       "23998       Josh Trank  director                 Fantastic Four        2015   \n",
       "\n",
       "       genres  averagerating  numvotes  \n",
       "79674  Action            9.3    100568  \n",
       "50095  Action            8.8    441135  \n",
       "50107  Action            8.8    441135  \n",
       "50092  Action            8.5    670926  \n",
       "50104  Action            8.5    670926  \n",
       "...       ...            ...       ...  \n",
       "18231  Action            5.3    166327  \n",
       "15431  Action            5.2    186788  \n",
       "32445  Action            5.2    155344  \n",
       "19455  Action            5.2    119007  \n",
       "23998  Action            4.3    140148  \n",
       "\n",
       "[118 rows x 7 columns]"
      ]
     },
     "execution_count": 20,
     "metadata": {},
     "output_type": "execute_result"
    }
   ],
   "source": [
    "top_action_directors[['primary_name', 'category', 'primary_title', 'start_year', 'genres', 'averagerating', 'numvotes']]"
   ]
  },
  {
   "cell_type": "markdown",
   "metadata": {},
   "source": [
    "### Top Genres by Earnings\n",
    "\n",
    "***"
   ]
  },
  {
   "cell_type": "markdown",
   "metadata": {},
   "source": [
    "Finally, data from IMDB, TMDB and The Numbers was aggregated to draw conclusions about the top-earning movie genres when factoring in production budget to calculate total earnings."
   ]
  },
  {
   "cell_type": "code",
   "execution_count": 21,
   "metadata": {},
   "outputs": [],
   "source": [
    "# Import separate function for this task, due to time this was not implemented in the data_preparation module\n",
    "from tools.TN_File_Eddie import eddies_function"
   ]
  },
  {
   "cell_type": "code",
   "execution_count": 22,
   "metadata": {},
   "outputs": [
    {
     "name": "stderr",
     "output_type": "stream",
     "text": [
      "/Users/arthur/Documents/Flatiron/phase_1/Project/main_microsoft_movies/microsoft_movies/tools/TN_File_Eddie.py:12: FutureWarning: The default value of regex will change from True to False in a future version.\n",
      "  tndb_df[\"Mov_name\"] = tndb_df['movie'].str.lower().str.replace('[ \\'\\:\\,\\.]', '').astype(str)\n",
      "/Users/arthur/Documents/Flatiron/phase_1/Project/main_microsoft_movies/microsoft_movies/tools/TN_File_Eddie.py:13: FutureWarning: The default value of regex will change from True to False in a future version.\n",
      "  tn_mov_df[\"Mov_name\"] = tn_mov_df['title'].str.lower().str.replace('[ \\'\\:\\,\\.]', '').astype(str)\n",
      "/Users/arthur/Documents/Flatiron/phase_1/Project/main_microsoft_movies/microsoft_movies/tools/TN_File_Eddie.py:25: FutureWarning: The default value of regex will change from True to False in a future version.\n",
      "  imdb_df['Mov_name'] = imdb_df['primary_title'].str.lower().str.replace('[ \\'\\:\\,\\.]', '').astype(str)\n",
      "/Users/arthur/Documents/Flatiron/phase_1/Project/main_microsoft_movies/microsoft_movies/tools/TN_File_Eddie.py:35: FutureWarning: The default value of regex will change from True to False in a future version.\n",
      "  budget_df[\"domestic_gross_$\"] = budget_df['domestic_gross'].str.lower().str.replace('[ \\'\\:\\,\\.\\$]', '').astype(int)\n",
      "/Users/arthur/Documents/Flatiron/phase_1/Project/main_microsoft_movies/microsoft_movies/tools/TN_File_Eddie.py:36: FutureWarning: The default value of regex will change from True to False in a future version.\n",
      "  budget_df[\"worldwide_gross_$\"] = budget_df['worldwide_gross'].str.lower().str.replace('[ \\'\\:\\,\\.\\$]', '').astype(\n",
      "/Users/arthur/Documents/Flatiron/phase_1/Project/main_microsoft_movies/microsoft_movies/tools/TN_File_Eddie.py:40: FutureWarning: The default value of regex will change from True to False in a future version.\n",
      "  budget_df[\"production_$\"] = budget_df['production_budget'].str.lower().str.replace('[ \\'\\:\\,\\.\\$]', '').astype(int)\n"
     ]
    },
    {
     "name": "stdout",
     "output_type": "stream",
     "text": [
      "<class 'pandas.core.frame.DataFrame'>\n",
      "RangeIndex: 10 entries, 0 to 9\n",
      "Data columns (total 2 columns):\n",
      " #   Column                Non-Null Count  Dtype  \n",
      "---  ------                --------------  -----  \n",
      " 0   genres                10 non-null     object \n",
      " 1   earnings_in_millions  10 non-null     float64\n",
      "dtypes: float64(1), object(1)\n",
      "memory usage: 288.0+ bytes\n"
     ]
    }
   ],
   "source": [
    "top_earning_genres = eddies_function()\n",
    "top_earning_genres.info()"
   ]
  },
  {
   "cell_type": "code",
   "execution_count": 23,
   "metadata": {},
   "outputs": [
    {
     "data": {
      "text/html": [
       "<div>\n",
       "<style scoped>\n",
       "    .dataframe tbody tr th:only-of-type {\n",
       "        vertical-align: middle;\n",
       "    }\n",
       "\n",
       "    .dataframe tbody tr th {\n",
       "        vertical-align: top;\n",
       "    }\n",
       "\n",
       "    .dataframe thead th {\n",
       "        text-align: right;\n",
       "    }\n",
       "</style>\n",
       "<table border=\"1\" class=\"dataframe\">\n",
       "  <thead>\n",
       "    <tr style=\"text-align: right;\">\n",
       "      <th></th>\n",
       "      <th>genres</th>\n",
       "      <th>earnings_in_millions</th>\n",
       "    </tr>\n",
       "  </thead>\n",
       "  <tbody>\n",
       "    <tr>\n",
       "      <th>0</th>\n",
       "      <td>Animation</td>\n",
       "      <td>259.335013</td>\n",
       "    </tr>\n",
       "    <tr>\n",
       "      <th>1</th>\n",
       "      <td>Musical</td>\n",
       "      <td>233.589414</td>\n",
       "    </tr>\n",
       "    <tr>\n",
       "      <th>2</th>\n",
       "      <td>Adventure</td>\n",
       "      <td>231.129183</td>\n",
       "    </tr>\n",
       "    <tr>\n",
       "      <th>3</th>\n",
       "      <td>Sci-Fi</td>\n",
       "      <td>214.024724</td>\n",
       "    </tr>\n",
       "    <tr>\n",
       "      <th>4</th>\n",
       "      <td>Fantasy</td>\n",
       "      <td>166.877799</td>\n",
       "    </tr>\n",
       "    <tr>\n",
       "      <th>5</th>\n",
       "      <td>Action</td>\n",
       "      <td>149.261247</td>\n",
       "    </tr>\n",
       "    <tr>\n",
       "      <th>6</th>\n",
       "      <td>Family</td>\n",
       "      <td>123.339252</td>\n",
       "    </tr>\n",
       "    <tr>\n",
       "      <th>7</th>\n",
       "      <td>Comedy</td>\n",
       "      <td>90.104159</td>\n",
       "    </tr>\n",
       "    <tr>\n",
       "      <th>8</th>\n",
       "      <td>Thriller</td>\n",
       "      <td>67.587822</td>\n",
       "    </tr>\n",
       "    <tr>\n",
       "      <th>9</th>\n",
       "      <td>Music</td>\n",
       "      <td>63.531391</td>\n",
       "    </tr>\n",
       "  </tbody>\n",
       "</table>\n",
       "</div>"
      ],
      "text/plain": [
       "      genres  earnings_in_millions\n",
       "0  Animation            259.335013\n",
       "1    Musical            233.589414\n",
       "2  Adventure            231.129183\n",
       "3     Sci-Fi            214.024724\n",
       "4    Fantasy            166.877799\n",
       "5     Action            149.261247\n",
       "6     Family            123.339252\n",
       "7     Comedy             90.104159\n",
       "8   Thriller             67.587822\n",
       "9      Music             63.531391"
      ]
     },
     "execution_count": 23,
     "metadata": {},
     "output_type": "execute_result"
    }
   ],
   "source": [
    "top_earning_genres"
   ]
  },
  {
   "cell_type": "markdown",
   "metadata": {},
   "source": [
    "***\n",
    "\n",
    "## Data Modeling\n",
    "\n",
    "***"
   ]
  },
  {
   "cell_type": "markdown",
   "metadata": {},
   "source": [
    "For each of the sub-studies displayed above, a visualization was created to highlight the areas we feel that a new venture into movie production should explore. Specifically, this encompasses popular and high-grossing genres and general reception for movies across the content rating scale."
   ]
  },
  {
   "cell_type": "markdown",
   "metadata": {},
   "source": [
    "### Top Genres by Popularity and Box Office Gross\n",
    "\n",
    "***"
   ]
  },
  {
   "cell_type": "code",
   "execution_count": 24,
   "metadata": {},
   "outputs": [
    {
     "data": {
      "image/png": "[encoded data removed]",
      "text/plain": [
       "<Figure size 576x576 with 1 Axes>"
      ]
     },
     "metadata": {
      "needs_background": "light"
     },
     "output_type": "display_data"
    }
   ],
   "source": [
    "#plot scatter plot: weighted average vs avg number of votes vs avg total gross\n",
    "plt.figure(figsize = (8,8))\n",
    "p= sns.scatterplot(data=genre_to_gross,\n",
    "                x='wavg_rating', \n",
    "                y='avgnumvotes', \n",
    "                size='total_gross_scaled',\n",
    "                sizes=(200, 800), hue= 'total_gross_scaled', palette=\"Blues\")\n",
    "plt.legend(title='Total Gross in Millions', bbox_to_anchor=(1.45, -0.02), loc=\"lower right\", frameon=True, fontsize =20)\n",
    "plt.xlabel(\"Weighted Average Rating\", size=20)\n",
    "plt.ylabel('Average Number of Vote per Film \\n (Thousands)', size=20)\n",
    "plt.title('Genres with the Highest Gross Revenue by \\n Average Number of Vote per Film and Weighted Average Rating', size=20)\n",
    "#sns.set(font_scale =1.15)\n",
    "plt.rcParams[\"axes.labelsize\"] = 20\n",
    "for i, txt in enumerate(genre_to_gross['genres']):\n",
    "    plt.annotate(txt,(genre_to_gross['wavg_rating'][i]+.04, genre_to_gross['avgnumvotes'][i]-.06), size='medium', color='black',annotation_clip = False)"
   ]
  },
  {
   "cell_type": "markdown",
   "metadata": {},
   "source": [
    "### Top 10 Earning Genres\n",
    "\n",
    "***"
   ]
  },
  {
   "cell_type": "code",
   "execution_count": 25,
   "metadata": {},
   "outputs": [
    {
     "data": {
      "text/html": [
       "<div>\n",
       "<style scoped>\n",
       "    .dataframe tbody tr th:only-of-type {\n",
       "        vertical-align: middle;\n",
       "    }\n",
       "\n",
       "    .dataframe tbody tr th {\n",
       "        vertical-align: top;\n",
       "    }\n",
       "\n",
       "    .dataframe thead th {\n",
       "        text-align: right;\n",
       "    }\n",
       "</style>\n",
       "<table border=\"1\" class=\"dataframe\">\n",
       "  <thead>\n",
       "    <tr style=\"text-align: right;\">\n",
       "      <th></th>\n",
       "      <th>genres</th>\n",
       "      <th>earnings_in_millions</th>\n",
       "    </tr>\n",
       "  </thead>\n",
       "  <tbody>\n",
       "    <tr>\n",
       "      <th>0</th>\n",
       "      <td>Animation</td>\n",
       "      <td>259.335013</td>\n",
       "    </tr>\n",
       "    <tr>\n",
       "      <th>1</th>\n",
       "      <td>Musical</td>\n",
       "      <td>233.589414</td>\n",
       "    </tr>\n",
       "    <tr>\n",
       "      <th>2</th>\n",
       "      <td>Adventure</td>\n",
       "      <td>231.129183</td>\n",
       "    </tr>\n",
       "    <tr>\n",
       "      <th>3</th>\n",
       "      <td>Sci-Fi</td>\n",
       "      <td>214.024724</td>\n",
       "    </tr>\n",
       "    <tr>\n",
       "      <th>4</th>\n",
       "      <td>Fantasy</td>\n",
       "      <td>166.877799</td>\n",
       "    </tr>\n",
       "    <tr>\n",
       "      <th>5</th>\n",
       "      <td>Action</td>\n",
       "      <td>149.261247</td>\n",
       "    </tr>\n",
       "    <tr>\n",
       "      <th>6</th>\n",
       "      <td>Family</td>\n",
       "      <td>123.339252</td>\n",
       "    </tr>\n",
       "    <tr>\n",
       "      <th>7</th>\n",
       "      <td>Comedy</td>\n",
       "      <td>90.104159</td>\n",
       "    </tr>\n",
       "    <tr>\n",
       "      <th>8</th>\n",
       "      <td>Thriller</td>\n",
       "      <td>67.587822</td>\n",
       "    </tr>\n",
       "    <tr>\n",
       "      <th>9</th>\n",
       "      <td>Music</td>\n",
       "      <td>63.531391</td>\n",
       "    </tr>\n",
       "  </tbody>\n",
       "</table>\n",
       "</div>"
      ],
      "text/plain": [
       "      genres  earnings_in_millions\n",
       "0  Animation            259.335013\n",
       "1    Musical            233.589414\n",
       "2  Adventure            231.129183\n",
       "3     Sci-Fi            214.024724\n",
       "4    Fantasy            166.877799\n",
       "5     Action            149.261247\n",
       "6     Family            123.339252\n",
       "7     Comedy             90.104159\n",
       "8   Thriller             67.587822\n",
       "9      Music             63.531391"
      ]
     },
     "execution_count": 25,
     "metadata": {},
     "output_type": "execute_result"
    }
   ],
   "source": [
    "top_earning_genres"
   ]
  },
  {
   "cell_type": "code",
   "execution_count": 26,
   "metadata": {},
   "outputs": [
    {
     "data": {
      "image/png": "[encoded data removed]",
      "text/plain": [
       "<Figure size 576x576 with 1 Axes>"
      ]
     },
     "metadata": {},
     "output_type": "display_data"
    }
   ],
   "source": [
    "sns.set_style(\"whitegrid\", {'axes.grid' : False})\n",
    "#plot scatter plot: weighted average vs avg number of votes vs avg total gross\n",
    "plt.figure(figsize = (8,8))\n",
    "a= sns.barplot(data=top_earning_genres, x='genres',y= 'earnings_in_millions', palette=\"Blues_r\")\n",
    "plt.xlabel('Genres', size=20)\n",
    "plt.ylabel('Average Net Profit\\n (Millions)', size=20)\n",
    "plt.title('Top 10 Money Making Movie Genres', size=20);\n",
    "\n",
    "for p in a.patches:\n",
    "    a.annotate(format(p.get_height(), '.2f'), (p.get_x() + p.get_width() / 2., p.get_height()),\n",
    "               ha = 'center', va = 'center', xytext = (0, 10), textcoords = 'offset points')\n",
    "\n",
    "#plt.savefig('eddie.png', dpi=100, bbox_inches='tight')\n",
    "    "
   ]
  },
  {
   "cell_type": "markdown",
   "metadata": {},
   "source": [
    "### Directors of Top Movies in the Top Five Genres\n",
    "\n",
    "***"
   ]
  },
  {
   "cell_type": "code",
   "execution_count": 27,
   "metadata": {},
   "outputs": [],
   "source": [
    "df = dp.merge_imdb_top_crew()"
   ]
  },
  {
   "cell_type": "code",
   "execution_count": 28,
   "metadata": {},
   "outputs": [],
   "source": [
    "#filtered data set for the top 5 genres\n",
    "filt_df = df[(df['genres'] == 'Action') |\n",
    "             (df['genres'] == 'Adventure') |\n",
    "             (df['genres'] == 'Sci-Fi') |\n",
    "             (df['genres'] == 'Fantasy') |\n",
    "             (df['genres'] == 'Animation')]\n",
    "\n",
    "#filtered data set for directors only\n",
    "filt_df = df[(df['category'] == 'director')]"
   ]
  },
  {
   "cell_type": "code",
   "execution_count": 29,
   "metadata": {},
   "outputs": [],
   "source": [
    "#de-depe on movie constant (tconst) so that each row is one movie\n",
    "dedup_df = filt_df.drop_duplicates(subset='tconst')"
   ]
  },
  {
   "cell_type": "code",
   "execution_count": 30,
   "metadata": {},
   "outputs": [],
   "source": [
    "#sort the movies by number of votes first and then average rating\n",
    "dedup_df = dedup_df.sort_values(by=['numvotes', 'averagerating'], ascending=[False, False])\n",
    "\n",
    "#reset the index\n",
    "dedup_df= dedup_df.reset_index()\n",
    "#drop the previous index column\n",
    "dedup_df.drop(columns='index', inplace=True)"
   ]
  },
  {
   "cell_type": "code",
   "execution_count": 31,
   "metadata": {},
   "outputs": [],
   "source": [
    "#convert numvotes into thousands\n",
    "dedup_df['numvotes'] = dedup_df['numvotes'] / 10**3"
   ]
  },
  {
   "cell_type": "code",
   "execution_count": 32,
   "metadata": {},
   "outputs": [
    {
     "data": {
      "image/png": "[encoded data removed]",
      "text/plain": [
       "<Figure size 576x576 with 1 Axes>"
      ]
     },
     "metadata": {},
     "output_type": "display_data"
    }
   ],
   "source": [
    "sns.set_style(\"white\",{\"axes.facecolor\": \"1\"})\n",
    "\n",
    "#plot scatter plot: weighted average vs avg number of votes vs avg total gross\n",
    "plt.figure(figsize = (8,8))\n",
    "p= sns.scatterplot(data=dedup_df,\n",
    "                x='averagerating', \n",
    "                y=\"numvotes\", \n",
    "                palette=\"light:b\")\n",
    "\n",
    "plt.xlabel(\"Average Rating\", size=20)\n",
    "plt.ylabel('Average Number of Vote per Film \\n (Thousands)', size=20)\n",
    "plt.title(\"Number of Votes vs. Average Rating per Movie in the Top 5 Genres\", y=1.07, size=20)\n",
    "         \n",
    "plt.savefig('highest_gross_revenue.png', dpi=100, bbox_inches='tight')"
   ]
  },
  {
   "cell_type": "code",
   "execution_count": 33,
   "metadata": {},
   "outputs": [
    {
     "data": {
      "text/html": [
       "<div>\n",
       "<style scoped>\n",
       "    .dataframe tbody tr th:only-of-type {\n",
       "        vertical-align: middle;\n",
       "    }\n",
       "\n",
       "    .dataframe tbody tr th {\n",
       "        vertical-align: top;\n",
       "    }\n",
       "\n",
       "    .dataframe thead th {\n",
       "        text-align: right;\n",
       "    }\n",
       "</style>\n",
       "<table border=\"1\" class=\"dataframe\">\n",
       "  <thead>\n",
       "    <tr style=\"text-align: right;\">\n",
       "      <th></th>\n",
       "      <th>primary_name</th>\n",
       "      <th>primary_title</th>\n",
       "      <th>averagerating</th>\n",
       "      <th>numvotes</th>\n",
       "    </tr>\n",
       "  </thead>\n",
       "  <tbody>\n",
       "    <tr>\n",
       "      <th>0</th>\n",
       "      <td>Tim Miller</td>\n",
       "      <td>Deadpool</td>\n",
       "      <td>8.0</td>\n",
       "      <td>820847</td>\n",
       "    </tr>\n",
       "    <tr>\n",
       "      <th>2</th>\n",
       "      <td>J.J. Abrams</td>\n",
       "      <td>Star Wars: Episode VII - The Force Awakens</td>\n",
       "      <td>8.0</td>\n",
       "      <td>784780</td>\n",
       "    </tr>\n",
       "    <tr>\n",
       "      <th>5</th>\n",
       "      <td>George Miller</td>\n",
       "      <td>Mad Max: Fury Road</td>\n",
       "      <td>8.1</td>\n",
       "      <td>780910</td>\n",
       "    </tr>\n",
       "    <tr>\n",
       "      <th>8</th>\n",
       "      <td>Ridley Scott</td>\n",
       "      <td>The Martian</td>\n",
       "      <td>8.0</td>\n",
       "      <td>680116</td>\n",
       "    </tr>\n",
       "    <tr>\n",
       "      <th>10</th>\n",
       "      <td>Anthony Russo</td>\n",
       "      <td>Avengers: Infinity War</td>\n",
       "      <td>8.5</td>\n",
       "      <td>670926</td>\n",
       "    </tr>\n",
       "    <tr>\n",
       "      <th>13</th>\n",
       "      <td>Joe Russo</td>\n",
       "      <td>Avengers: Infinity War</td>\n",
       "      <td>8.5</td>\n",
       "      <td>670926</td>\n",
       "    </tr>\n",
       "  </tbody>\n",
       "</table>\n",
       "</div>"
      ],
      "text/plain": [
       "     primary_name                               primary_title  averagerating  \\\n",
       "0      Tim Miller                                    Deadpool            8.0   \n",
       "2     J.J. Abrams  Star Wars: Episode VII - The Force Awakens            8.0   \n",
       "5   George Miller                          Mad Max: Fury Road            8.1   \n",
       "8    Ridley Scott                                 The Martian            8.0   \n",
       "10  Anthony Russo                      Avengers: Infinity War            8.5   \n",
       "13      Joe Russo                      Avengers: Infinity War            8.5   \n",
       "\n",
       "    numvotes  \n",
       "0     820847  \n",
       "2     784780  \n",
       "5     780910  \n",
       "8     680116  \n",
       "10    670926  \n",
       "13    670926  "
      ]
     },
     "execution_count": 33,
     "metadata": {},
     "output_type": "execute_result"
    }
   ],
   "source": [
    "#find the top five movies and get the tconsts\n",
    "top_five_df = dedup_df.head(5)\n",
    "top_five_tconst_df = top_five_df['tconst'].to_frame()\n",
    "\n",
    "#merge the top five movie tconsts to the original data that was not de-dupe\n",
    "top_direct_df = pd.merge(top_five_tconst_df, filt_df, on='tconst', how='inner')\n",
    "\n",
    "#de-dupe by tconst and primary_name \n",
    "top_direct_df.drop_duplicates(subset=['tconst', 'primary_name'], inplace=True)\n",
    "top_direct_df[['primary_name','primary_title', 'averagerating', 'numvotes']]"
   ]
  },
  {
   "cell_type": "markdown",
   "metadata": {},
   "source": [
    "### Rotten Tomatoes, Genre x Rating Comparison\n",
    "\n",
    "***"
   ]
  },
  {
   "cell_type": "code",
   "execution_count": 34,
   "metadata": {},
   "outputs": [
    {
     "ename": "SyntaxError",
     "evalue": "invalid syntax (<ipython-input-34-87dbff996c4a>, line 4)",
     "output_type": "error",
     "traceback": [
      "\u001b[0;36m  File \u001b[0;32m\"<ipython-input-34-87dbff996c4a>\"\u001b[0;36m, line \u001b[0;32m4\u001b[0m\n\u001b[0;31m    subset= df[mask]\u001b[0m\n\u001b[0m    ^\u001b[0m\n\u001b[0;31mSyntaxError\u001b[0m\u001b[0;31m:\u001b[0m invalid syntax\n"
     ]
    }
   ],
   "source": [
    "# Aggregate RT data and drop NR ratings due to small sample size\n",
    "df = dp.merge_rt_data(focus='combined_popularity')\n",
    "mask = (df['genre'].isin(['Action and Adventure', 'Science Fiction and Fantasy', 'Animation']) & (df['rating'] != 'NR')\n",
    "subset= df[mask]"
   ]
  },
  {
   "cell_type": "code",
   "execution_count": null,
   "metadata": {},
   "outputs": [],
   "source": [
    "\n",
    "plt.figure(figsize=(16,8))\n",
    "\n",
    "seaborn_grid = sns.set_style(\"whitegrid\", {'axes.grid' : False})\n",
    "b=sns.barplot(data=subset, x='genre',y= 'percent_positive', hue=\"rating\", palette=\"Blues_r\")\n",
    "plt.xlabel('Rating', size=20)\n",
    "plt.ylabel('Percent Positive', size=20)\n",
    "plt.title('Percent Positive Reviews by Genre and Content Rating', size=20);\n",
    "\n",
    "#plt.legend(title='rating', bbox_to_anchor=(1.45, -0.02), loc=\"lower right\", frameon=True, fontsize =20)\n",
    "for p in b.patches:\n",
    "    b.annotate(format(p.get_height(), '.2f'), (p.get_x() + p.get_width() / 2., p.get_height()),\n",
    "               ha = 'center', va = 'center', xytext = (0, 10), textcoords = 'offset points')\n",
    "\n",
    "#plt.savefig('ian.png', dpi=100, bbox_inches='tight')"
   ]
  },
  {
   "cell_type": "markdown",
   "metadata": {},
   "source": [
    "## Evaluation\n",
    "\n",
    "* How do you interpret the results?\n",
    ">Based on the results of our analysis, there are clear genres which outshine the rest. With the assumption that the same percentage of people will vote online for any given movie, we can assume a movie with a lot of reviews  (good or bad) will be popular. By taking in the average number of reviews per genre, we can conclude that Sci-Fi, Adventure, Fantasy, and Action are the most popular categories.\n",
    "* How well does your model fit your data? How much better is this than your baseline model?\n",
    ">This model was designed to be our baseline model. Other results from the BOM and TN database also supports that these genres are the most popular. Taking a look at the overall gross each genre produces, these genres also tend to yield the most which means that more people are watching them.\n",
    "* How confident are you that your results would generalize beyond the data you have?\n",
    ">This data shows that action, adventure, sci-fi, and fantasy are the best categories and we are confident that this is the case even outside of this set of data. Generally speaking, these categories appeal to a larger population compared to ones such as horror, thrillers, or something more niche like a Documentary. While any genre can succeed, the success of some are higher than others.\n",
    "\n",
    "***"
   ]
  },
  {
   "cell_type": "markdown",
   "metadata": {},
   "source": [
    "## Conclusions\n",
    "\n",
    "***\n",
    "\n",
    "* What would you recommend the business do as a result of this work?\n",
    ">Our recommendation for the business is to create a movie with the primary genre as any of the following:\n",
    "Sci-fi, Adventure, Action, Fantasy\n",
    ">These genres tend to have the highest number of viewers which also would lead to potentially the greatest profit. In addition, the  movies can be animated or live as both are very popular. It is important to have a good director to lead the project as these people will be the backbone for any movie. \n",
    "\n",
    "* What are some reasons why your analysis might not fully solve the business problem?\n",
    ">In this case in particular, it is easy to see what movie genres we can recommend, but there is no clear cut formula for success. Movies have far more variables to consider on top of what is recommended. Just making a sci-fi movie doesn’t guarantee success. There are many parts of a puzzle making a movie from \n",
    "* What else could you do in the future to improve this project?\n",
    ">While these recommendations might not be perfect, it is a good start on analyzing what people like to watch. In order to build upon this, more data needs to be analyzed as some of the databases provided have far too little data to really get a good picture. It is also important to follow the trends and predict what kind of people are willing to watch, perhaps by following social media and even looking at popular suggestions across the web. \n",
    "\n",
    "***"
   ]
  },
  {
   "cell_type": "code",
   "execution_count": null,
   "metadata": {},
   "outputs": [],
   "source": []
  }
 ],
 "metadata": {
  "kernelspec": {
   "display_name": "Python 3",
   "language": "python",
   "name": "python3"
  },
  "language_info": {
   "codemirror_mode": {
    "name": "ipython",
    "version": 3
   },
   "file_extension": ".py",
   "mimetype": "text/x-python",
   "name": "python",
   "nbconvert_exporter": "python",
   "pygments_lexer": "ipython3",
   "version": "3.8.8"
  }
 },
 "nbformat": 4,
 "nbformat_minor": 4
}
